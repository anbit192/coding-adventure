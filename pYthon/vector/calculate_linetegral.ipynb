{
 "cells": [
  {
   "cell_type": "code",
   "execution_count": 2,
   "id": "1a24e2fb-f3a3-4142-b3c3-8a070f8ff128",
   "metadata": {},
   "outputs": [],
   "source": [
    "import autograd.numpy as np\n",
    "from autograd import jacobian\n",
    "from scipy.integrate import quad"
   ]
  },
  {
   "cell_type": "code",
   "execution_count": 13,
   "id": "6941e3b8-41c3-4241-bf7a-396df413e8b4",
   "metadata": {},
   "outputs": [],
   "source": [
    "def F(X):\n",
    "    x,y=X\n",
    "    return [x*y,x**2 * y**2]\n",
    "\n",
    "def C(t):\n",
    "    return np.array([t, 2-t])\n",
    "\n",
    "dCdt = jacobian(C, 0)\n",
    "def integral(t):\n",
    "    return F(C(t)) @ dCdt(t)"
   ]
  },
  {
   "cell_type": "code",
   "execution_count": 14,
   "id": "6d72f40f-0796-4faf-ad10-a7b3ff8c07c3",
   "metadata": {},
   "outputs": [
    {
     "name": "stdout",
     "output_type": "stream",
     "text": [
      "-0.26666666666666666\n"
     ]
    }
   ],
   "source": [
    "I, e =quad(integral, 2,0)\n",
    "print(I)"
   ]
  },
  {
   "cell_type": "code",
   "execution_count": null,
   "id": "431a64b1-19af-497e-bb9d-37924bef7a5a",
   "metadata": {},
   "outputs": [],
   "source": []
  }
 ],
 "metadata": {
  "kernelspec": {
   "display_name": "Python 3 (ipykernel)",
   "language": "python",
   "name": "python3"
  },
  "language_info": {
   "codemirror_mode": {
    "name": "ipython",
    "version": 3
   },
   "file_extension": ".py",
   "mimetype": "text/x-python",
   "name": "python",
   "nbconvert_exporter": "python",
   "pygments_lexer": "ipython3",
   "version": "3.10.7"
  }
 },
 "nbformat": 4,
 "nbformat_minor": 5
}
