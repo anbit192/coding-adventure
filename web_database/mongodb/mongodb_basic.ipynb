{
 "cells": [
  {
   "cell_type": "code",
   "execution_count": 2,
   "metadata": {},
   "outputs": [],
   "source": [
    "import pymongo\n",
    "from bson import ObjectId"
   ]
  },
  {
   "cell_type": "markdown",
   "metadata": {},
   "source": [
    "# Connect to mongodb server"
   ]
  },
  {
   "cell_type": "code",
   "execution_count": 3,
   "metadata": {},
   "outputs": [],
   "source": [
    "my_client = pymongo.MongoClient(\"mongodb://localhost:27017/\")"
   ]
  },
  {
   "cell_type": "markdown",
   "metadata": {},
   "source": [
    "# Create database"
   ]
  },
  {
   "cell_type": "code",
   "execution_count": 4,
   "metadata": {},
   "outputs": [
    {
     "data": {
      "text/plain": [
       "Database(MongoClient(host=['localhost:27017'], document_class=dict, tz_aware=False, connect=True), 'test')"
      ]
     },
     "execution_count": 4,
     "metadata": {},
     "output_type": "execute_result"
    }
   ],
   "source": [
    "my_db = my_client[\"test\"]\n",
    "my_db"
   ]
  },
  {
   "cell_type": "markdown",
   "metadata": {},
   "source": [
    "# Create a collection"
   ]
  },
  {
   "cell_type": "code",
   "execution_count": 5,
   "metadata": {},
   "outputs": [],
   "source": [
    "my_collection = my_db[\"customers\"]"
   ]
  },
  {
   "cell_type": "markdown",
   "metadata": {},
   "source": [
    "data to add"
   ]
  },
  {
   "cell_type": "code",
   "execution_count": 6,
   "metadata": {},
   "outputs": [],
   "source": [
    "data = {\n",
    "    \"name\":\"anbish\",\n",
    "    \"address\":\"HaNoi\",\n",
    "    \"age\":24\n",
    "}"
   ]
  },
  {
   "cell_type": "markdown",
   "metadata": {},
   "source": [
    "## Insert a document into collection"
   ]
  },
  {
   "cell_type": "code",
   "execution_count": 7,
   "metadata": {},
   "outputs": [
    {
     "name": "stdout",
     "output_type": "stream",
     "text": [
      "65910d13a718a1d864dfb994\n"
     ]
    }
   ],
   "source": [
    "\n",
    "\n",
    "x = my_collection.insert_one(data)\n",
    "print(x.inserted_id)"
   ]
  },
  {
   "cell_type": "markdown",
   "metadata": {},
   "source": [
    "### list all connection to db"
   ]
  },
  {
   "cell_type": "code",
   "execution_count": 8,
   "metadata": {},
   "outputs": [
    {
     "name": "stdout",
     "output_type": "stream",
     "text": [
      "['admin', 'config', 'local', 'main', 'test']\n"
     ]
    }
   ],
   "source": [
    "print(my_client.list_database_names())"
   ]
  },
  {
   "cell_type": "markdown",
   "metadata": {},
   "source": [
    "# Get all documents of a collection"
   ]
  },
  {
   "cell_type": "code",
   "execution_count": 9,
   "metadata": {},
   "outputs": [
    {
     "name": "stdout",
     "output_type": "stream",
     "text": [
      "{'_id': ObjectId('6590fcbc13f2f5f6ef561714'), 'name': 'ANBISH1', 'address': 'HaNoi', 'age': 30}\n",
      "{'_id': ObjectId('6590fcca13f2f5f6ef561716'), 'name': 'anbish', 'address': 'HaNoi', 'age': 24}\n",
      "{'_id': ObjectId('6590fcca13f2f5f6ef561717'), 'name': 'anbish2', 'address': 'HCM', 'age': 20}\n",
      "{'_id': ObjectId('65910d13a718a1d864dfb994'), 'name': 'anbish', 'address': 'HaNoi', 'age': 24}\n"
     ]
    }
   ],
   "source": [
    "def get_all_documents(collection):\n",
    "    for doc in collection.find():\n",
    "        print(doc)\n",
    "get_all_documents(my_collection)"
   ]
  },
  {
   "cell_type": "markdown",
   "metadata": {},
   "source": [
    "# Insert many documents into collection"
   ]
  },
  {
   "cell_type": "code",
   "execution_count": 10,
   "metadata": {},
   "outputs": [
    {
     "name": "stdout",
     "output_type": "stream",
     "text": [
      "{'_id': ObjectId('6590fcbc13f2f5f6ef561714'), 'name': 'ANBISH1', 'address': 'HaNoi', 'age': 30}\n",
      "{'_id': ObjectId('6590fcca13f2f5f6ef561716'), 'name': 'anbish', 'address': 'HaNoi', 'age': 24}\n",
      "{'_id': ObjectId('6590fcca13f2f5f6ef561717'), 'name': 'anbish2', 'address': 'HCM', 'age': 20}\n",
      "{'_id': ObjectId('65910d13a718a1d864dfb994'), 'name': 'anbish', 'address': 'HaNoi', 'age': 24}\n",
      "{'_id': ObjectId('65910d29a718a1d864dfb995'), 'name': 'anbish', 'address': 'HaNoi', 'age': 24}\n",
      "{'_id': ObjectId('65910d29a718a1d864dfb996'), 'name': 'anbish2', 'address': 'HCM', 'age': 20}\n"
     ]
    }
   ],
   "source": [
    "datas = [\n",
    "    {\n",
    "        \"name\":\"anbish\",\n",
    "        \"address\":\"HaNoi\",\n",
    "        \"age\":24\n",
    "    },\n",
    "    {\n",
    "        \"name\":\"anbish2\",\n",
    "        \"address\":\"HCM\",\n",
    "        \"age\":20\n",
    "    }\n",
    "]\n",
    "\n",
    "x = my_collection.insert_many(datas)\n",
    "get_all_documents(my_collection)"
   ]
  },
  {
   "cell_type": "markdown",
   "metadata": {},
   "source": [
    "# Update a document "
   ]
  },
  {
   "cell_type": "code",
   "execution_count": 11,
   "metadata": {},
   "outputs": [
    {
     "name": "stdout",
     "output_type": "stream",
     "text": [
      "{'_id': ObjectId('6590fcbc13f2f5f6ef561714'), 'name': 'ANBISH1', 'address': 'HaNoi', 'age': 30}\n",
      "{'_id': ObjectId('6590fcca13f2f5f6ef561716'), 'name': 'ANBISH', 'address': 'HaNoi', 'age': 24}\n",
      "{'_id': ObjectId('6590fcca13f2f5f6ef561717'), 'name': 'anbish2', 'address': 'HCM', 'age': 20}\n",
      "{'_id': ObjectId('65910d13a718a1d864dfb994'), 'name': 'anbish', 'address': 'HaNoi', 'age': 24}\n",
      "{'_id': ObjectId('65910d29a718a1d864dfb995'), 'name': 'anbish', 'address': 'HaNoi', 'age': 24}\n",
      "{'_id': ObjectId('65910d29a718a1d864dfb996'), 'name': 'anbish2', 'address': 'HCM', 'age': 20}\n"
     ]
    }
   ],
   "source": [
    "my_query = {\"name\":\"anbish\"}\n",
    "new_value = {\"$set\": {\"name\":\"ANBISH\"}}\n",
    "my_collection.update_one(my_query, new_value)\n",
    "\n",
    "get_all_documents(my_collection)\n",
    "\n"
   ]
  },
  {
   "cell_type": "markdown",
   "metadata": {},
   "source": [
    "# Update many documents"
   ]
  },
  {
   "cell_type": "code",
   "execution_count": 12,
   "metadata": {},
   "outputs": [
    {
     "name": "stdout",
     "output_type": "stream",
     "text": [
      "{'_id': ObjectId('6590fcbc13f2f5f6ef561714'), 'name': 'ANBISH1', 'address': 'HaNoi', 'age': 30}\n",
      "{'_id': ObjectId('6590fcca13f2f5f6ef561716'), 'name': 'ANBISH1', 'address': 'HaNoi', 'age': 30}\n",
      "{'_id': ObjectId('6590fcca13f2f5f6ef561717'), 'name': 'anbish2', 'address': 'HCM', 'age': 20}\n",
      "{'_id': ObjectId('65910d13a718a1d864dfb994'), 'name': 'anbish', 'address': 'HaNoi', 'age': 24}\n",
      "{'_id': ObjectId('65910d29a718a1d864dfb995'), 'name': 'anbish', 'address': 'HaNoi', 'age': 24}\n",
      "{'_id': ObjectId('65910d29a718a1d864dfb996'), 'name': 'anbish2', 'address': 'HCM', 'age': 20}\n"
     ]
    }
   ],
   "source": [
    "my_queries = {\"name\": \"ANBISH\"}\n",
    "new_values = {\"$set\":{\"name\":\"ANBISH1\", \"age\":30}}\n",
    "\n",
    "my_collection.update_many(my_queries, new_values)\n",
    "\n",
    "get_all_documents(my_collection)"
   ]
  },
  {
   "cell_type": "markdown",
   "metadata": {},
   "source": [
    "# Delete one document"
   ]
  },
  {
   "cell_type": "code",
   "execution_count": 13,
   "metadata": {},
   "outputs": [
    {
     "name": "stdout",
     "output_type": "stream",
     "text": [
      "{'_id': ObjectId('6590fcca13f2f5f6ef561716'), 'name': 'ANBISH1', 'address': 'HaNoi', 'age': 30}\n",
      "{'_id': ObjectId('6590fcca13f2f5f6ef561717'), 'name': 'anbish2', 'address': 'HCM', 'age': 20}\n",
      "{'_id': ObjectId('65910d13a718a1d864dfb994'), 'name': 'anbish', 'address': 'HaNoi', 'age': 24}\n",
      "{'_id': ObjectId('65910d29a718a1d864dfb995'), 'name': 'anbish', 'address': 'HaNoi', 'age': 24}\n",
      "{'_id': ObjectId('65910d29a718a1d864dfb996'), 'name': 'anbish2', 'address': 'HCM', 'age': 20}\n"
     ]
    }
   ],
   "source": [
    "my_query = {\"name\":\"ANBISH1\"}\n",
    "my_collection.delete_one(my_query)\n",
    "\n",
    "get_all_documents(my_collection)"
   ]
  },
  {
   "cell_type": "markdown",
   "metadata": {},
   "source": [
    "# Delete many documents"
   ]
  },
  {
   "cell_type": "code",
   "execution_count": 14,
   "metadata": {},
   "outputs": [],
   "source": [
    "my_collection.delete_many({})\n",
    "\n",
    "get_all_documents(my_collection)"
   ]
  },
  {
   "cell_type": "markdown",
   "metadata": {},
   "source": [
    "# Find document by specific field"
   ]
  },
  {
   "cell_type": "code",
   "execution_count": 15,
   "metadata": {},
   "outputs": [
    {
     "name": "stdout",
     "output_type": "stream",
     "text": [
      "None\n",
      "None\n"
     ]
    }
   ],
   "source": [
    "target_id = ObjectId(\"6590fcbc13f2f5f6ef561714\")\n",
    "result1 = my_collection.find_one({\"_id\":target_id})\n",
    "result2 = my_collection.find_one({\"name\":\"anbish\"})\n",
    "print(result1)\n",
    "print(result2)"
   ]
  },
  {
   "cell_type": "markdown",
   "metadata": {},
   "source": [
    "# Filter\n",
    "- 0 is hidden\n",
    "- 1 is displayed"
   ]
  },
  {
   "cell_type": "code",
   "execution_count": 16,
   "metadata": {},
   "outputs": [],
   "source": [
    "for doc in my_collection.find({}, {\"_id\":0, \"name\":1, \"age\":1}):\n",
    "    print(doc)"
   ]
  },
  {
   "cell_type": "markdown",
   "metadata": {},
   "source": [
    "# Sort"
   ]
  },
  {
   "cell_type": "code",
   "execution_count": 17,
   "metadata": {},
   "outputs": [],
   "source": [
    "sorted_docs = my_collection.find().sort(\"age\")\n",
    "for doc in sorted_docs:\n",
    "    print(doc)"
   ]
  },
  {
   "cell_type": "markdown",
   "metadata": {},
   "source": [
    "---"
   ]
  },
  {
   "cell_type": "markdown",
   "metadata": {},
   "source": [
    "# ACTIVITY 2"
   ]
  },
  {
   "cell_type": "markdown",
   "metadata": {},
   "source": [
    "- Create \"students\" collection"
   ]
  },
  {
   "cell_type": "code",
   "execution_count": 18,
   "metadata": {},
   "outputs": [],
   "source": [
    "students = my_db[\"students\"]"
   ]
  },
  {
   "cell_type": "markdown",
   "metadata": {},
   "source": [
    "- Insert 10 fake info"
   ]
  },
  {
   "cell_type": "code",
   "execution_count": 19,
   "metadata": {},
   "outputs": [
    {
     "name": "stdout",
     "output_type": "stream",
     "text": [
      "{'_id': ObjectId('6591006d13f2f5f6ef561718'), 'name': 'student 1', 'age': 25, 'major': '1'}\n",
      "{'_id': ObjectId('6591006d13f2f5f6ef561719'), 'name': 'student 2', 'age': 20, 'major': '2'}\n",
      "{'_id': ObjectId('6591006d13f2f5f6ef56171a'), 'name': 'student 3', 'age': 21, 'major': '3'}\n",
      "{'_id': ObjectId('6591006d13f2f5f6ef56171b'), 'name': 'student 4', 'age': 22, 'major': '4'}\n",
      "{'_id': ObjectId('6591006d13f2f5f6ef56171c'), 'name': 'student 5', 'age': 23, 'major': '5'}\n",
      "{'_id': ObjectId('6591006d13f2f5f6ef56171d'), 'name': 'student 6', 'age': 24, 'major': '6'}\n",
      "{'_id': ObjectId('6591006d13f2f5f6ef56171e'), 'name': 'student 7', 'age': 25, 'major': '7'}\n",
      "{'_id': ObjectId('6591006d13f2f5f6ef56171f'), 'name': 'student 8', 'age': 26, 'major': '8'}\n",
      "{'_id': ObjectId('6591006d13f2f5f6ef561720'), 'name': 'student 9', 'age': 27, 'major': '9'}\n",
      "{'_id': ObjectId('6591006d13f2f5f6ef561721'), 'name': 'student 10', 'age': 28, 'major': '10'}\n",
      "{'_id': ObjectId('65910d29a718a1d864dfb997'), 'name': 'student 1', 'age': 19, 'major': '1'}\n",
      "{'_id': ObjectId('65910d29a718a1d864dfb998'), 'name': 'student 2', 'age': 20, 'major': '2'}\n",
      "{'_id': ObjectId('65910d29a718a1d864dfb999'), 'name': 'student 3', 'age': 21, 'major': '3'}\n",
      "{'_id': ObjectId('65910d29a718a1d864dfb99a'), 'name': 'student 4', 'age': 22, 'major': '4'}\n",
      "{'_id': ObjectId('65910d29a718a1d864dfb99b'), 'name': 'student 5', 'age': 23, 'major': '5'}\n",
      "{'_id': ObjectId('65910d29a718a1d864dfb99c'), 'name': 'student 6', 'age': 24, 'major': '6'}\n",
      "{'_id': ObjectId('65910d29a718a1d864dfb99d'), 'name': 'student 7', 'age': 25, 'major': '7'}\n",
      "{'_id': ObjectId('65910d29a718a1d864dfb99e'), 'name': 'student 8', 'age': 26, 'major': '8'}\n",
      "{'_id': ObjectId('65910d29a718a1d864dfb99f'), 'name': 'student 9', 'age': 27, 'major': '9'}\n",
      "{'_id': ObjectId('65910d29a718a1d864dfb9a0'), 'name': 'student 10', 'age': 28, 'major': '10'}\n"
     ]
    }
   ],
   "source": [
    "for i in range(1, 11):\n",
    "    name = f\"student {i}\"\n",
    "    age = 18 + i\n",
    "    major = f\"{i}\"\n",
    "\n",
    "    data = {\n",
    "        \"name\":name,\n",
    "        \"age\":age,\n",
    "        \"major\":major\n",
    "    }\n",
    "\n",
    "    students.insert_one(data)\n",
    "\n",
    "get_all_documents(students)"
   ]
  },
  {
   "cell_type": "markdown",
   "metadata": {},
   "source": [
    "- Update student 1"
   ]
  },
  {
   "cell_type": "code",
   "execution_count": 20,
   "metadata": {},
   "outputs": [
    {
     "name": "stdout",
     "output_type": "stream",
     "text": [
      "{'_id': ObjectId('6591006d13f2f5f6ef561718'), 'name': 'student 1', 'age': 25, 'major': '1'}\n",
      "{'_id': ObjectId('6591006d13f2f5f6ef561719'), 'name': 'student 2', 'age': 20, 'major': '2'}\n",
      "{'_id': ObjectId('6591006d13f2f5f6ef56171a'), 'name': 'student 3', 'age': 21, 'major': '3'}\n",
      "{'_id': ObjectId('6591006d13f2f5f6ef56171b'), 'name': 'student 4', 'age': 22, 'major': '4'}\n",
      "{'_id': ObjectId('6591006d13f2f5f6ef56171c'), 'name': 'student 5', 'age': 23, 'major': '5'}\n",
      "{'_id': ObjectId('6591006d13f2f5f6ef56171d'), 'name': 'student 6', 'age': 24, 'major': '6'}\n",
      "{'_id': ObjectId('6591006d13f2f5f6ef56171e'), 'name': 'student 7', 'age': 25, 'major': '7'}\n",
      "{'_id': ObjectId('6591006d13f2f5f6ef56171f'), 'name': 'student 8', 'age': 26, 'major': '8'}\n",
      "{'_id': ObjectId('6591006d13f2f5f6ef561720'), 'name': 'student 9', 'age': 27, 'major': '9'}\n",
      "{'_id': ObjectId('6591006d13f2f5f6ef561721'), 'name': 'student 10', 'age': 28, 'major': '10'}\n",
      "{'_id': ObjectId('65910d29a718a1d864dfb997'), 'name': 'student 1', 'age': 19, 'major': '1'}\n",
      "{'_id': ObjectId('65910d29a718a1d864dfb998'), 'name': 'student 2', 'age': 20, 'major': '2'}\n",
      "{'_id': ObjectId('65910d29a718a1d864dfb999'), 'name': 'student 3', 'age': 21, 'major': '3'}\n",
      "{'_id': ObjectId('65910d29a718a1d864dfb99a'), 'name': 'student 4', 'age': 22, 'major': '4'}\n",
      "{'_id': ObjectId('65910d29a718a1d864dfb99b'), 'name': 'student 5', 'age': 23, 'major': '5'}\n",
      "{'_id': ObjectId('65910d29a718a1d864dfb99c'), 'name': 'student 6', 'age': 24, 'major': '6'}\n",
      "{'_id': ObjectId('65910d29a718a1d864dfb99d'), 'name': 'student 7', 'age': 25, 'major': '7'}\n",
      "{'_id': ObjectId('65910d29a718a1d864dfb99e'), 'name': 'student 8', 'age': 26, 'major': '8'}\n",
      "{'_id': ObjectId('65910d29a718a1d864dfb99f'), 'name': 'student 9', 'age': 27, 'major': '9'}\n",
      "{'_id': ObjectId('65910d29a718a1d864dfb9a0'), 'name': 'student 10', 'age': 28, 'major': '10'}\n"
     ]
    }
   ],
   "source": [
    "students.update_one({\"name\":\"student 1\"}, {\"$set\":{\"age\": 25}})\n",
    "get_all_documents(students)"
   ]
  },
  {
   "cell_type": "markdown",
   "metadata": {},
   "source": [
    "- delete student 5 and 9"
   ]
  },
  {
   "cell_type": "code",
   "execution_count": 22,
   "metadata": {},
   "outputs": [
    {
     "name": "stdout",
     "output_type": "stream",
     "text": [
      "{'_id': ObjectId('6591006d13f2f5f6ef561718'), 'name': 'student 1', 'age': 25, 'major': '1'}\n",
      "{'_id': ObjectId('6591006d13f2f5f6ef561719'), 'name': 'student 2', 'age': 20, 'major': '2'}\n",
      "{'_id': ObjectId('6591006d13f2f5f6ef56171a'), 'name': 'student 3', 'age': 21, 'major': '3'}\n",
      "{'_id': ObjectId('6591006d13f2f5f6ef56171b'), 'name': 'student 4', 'age': 22, 'major': '4'}\n",
      "{'_id': ObjectId('6591006d13f2f5f6ef56171d'), 'name': 'student 6', 'age': 24, 'major': '6'}\n",
      "{'_id': ObjectId('6591006d13f2f5f6ef56171e'), 'name': 'student 7', 'age': 25, 'major': '7'}\n",
      "{'_id': ObjectId('6591006d13f2f5f6ef56171f'), 'name': 'student 8', 'age': 26, 'major': '8'}\n",
      "{'_id': ObjectId('6591006d13f2f5f6ef561721'), 'name': 'student 10', 'age': 28, 'major': '10'}\n",
      "{'_id': ObjectId('65910d29a718a1d864dfb997'), 'name': 'student 1', 'age': 19, 'major': '1'}\n",
      "{'_id': ObjectId('65910d29a718a1d864dfb998'), 'name': 'student 2', 'age': 20, 'major': '2'}\n",
      "{'_id': ObjectId('65910d29a718a1d864dfb999'), 'name': 'student 3', 'age': 21, 'major': '3'}\n",
      "{'_id': ObjectId('65910d29a718a1d864dfb99a'), 'name': 'student 4', 'age': 22, 'major': '4'}\n",
      "{'_id': ObjectId('65910d29a718a1d864dfb99c'), 'name': 'student 6', 'age': 24, 'major': '6'}\n",
      "{'_id': ObjectId('65910d29a718a1d864dfb99d'), 'name': 'student 7', 'age': 25, 'major': '7'}\n",
      "{'_id': ObjectId('65910d29a718a1d864dfb99e'), 'name': 'student 8', 'age': 26, 'major': '8'}\n",
      "{'_id': ObjectId('65910d29a718a1d864dfb9a0'), 'name': 'student 10', 'age': 28, 'major': '10'}\n"
     ]
    }
   ],
   "source": [
    "students.delete_one({\"name\":\"student 5\"})\n",
    "students.delete_one({\"name\":\"student 9\"})\n",
    "\n",
    "get_all_documents(students)"
   ]
  },
  {
   "cell_type": "markdown",
   "metadata": {},
   "source": [
    "- find student 4"
   ]
  },
  {
   "cell_type": "code",
   "execution_count": 24,
   "metadata": {},
   "outputs": [
    {
     "data": {
      "text/plain": [
       "{'_id': ObjectId('6591006d13f2f5f6ef56171b'),\n",
       " 'name': 'student 4',\n",
       " 'age': 22,\n",
       " 'major': '4'}"
      ]
     },
     "execution_count": 24,
     "metadata": {},
     "output_type": "execute_result"
    }
   ],
   "source": [
    "res = students.find_one({\"name\": \"student 4\"})\n",
    "res"
   ]
  },
  {
   "cell_type": "markdown",
   "metadata": {},
   "source": [
    "- filter students with age > 20"
   ]
  },
  {
   "cell_type": "code",
   "execution_count": 27,
   "metadata": {},
   "outputs": [
    {
     "name": "stdout",
     "output_type": "stream",
     "text": [
      "{'_id': ObjectId('6591006d13f2f5f6ef56171a'), 'name': 'student 3', 'age': 21, 'major': '3'}\n",
      "{'_id': ObjectId('65910d29a718a1d864dfb999'), 'name': 'student 3', 'age': 21, 'major': '3'}\n",
      "{'_id': ObjectId('65910d29a718a1d864dfb99a'), 'name': 'student 4', 'age': 22, 'major': '4'}\n",
      "{'_id': ObjectId('6591006d13f2f5f6ef56171b'), 'name': 'student 4', 'age': 22, 'major': '4'}\n",
      "{'_id': ObjectId('6591006d13f2f5f6ef56171d'), 'name': 'student 6', 'age': 24, 'major': '6'}\n"
     ]
    }
   ],
   "source": [
    "res = students.find({\"age\":{\"$gt\": 20}}).sort(\"age\").limit(5)\n",
    "for doc in res:\n",
    "    print(doc)"
   ]
  },
  {
   "cell_type": "code",
   "execution_count": null,
   "metadata": {},
   "outputs": [],
   "source": []
  }
 ],
 "metadata": {
  "kernelspec": {
   "display_name": "Python 3",
   "language": "python",
   "name": "python3"
  },
  "language_info": {
   "codemirror_mode": {
    "name": "ipython",
    "version": 3
   },
   "file_extension": ".py",
   "mimetype": "text/x-python",
   "name": "python",
   "nbconvert_exporter": "python",
   "pygments_lexer": "ipython3",
   "version": "3.10.12"
  },
  "orig_nbformat": 4
 },
 "nbformat": 4,
 "nbformat_minor": 2
}
