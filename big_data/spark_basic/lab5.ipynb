{
 "cells": [
  {
   "cell_type": "code",
   "execution_count": 21,
   "metadata": {},
   "outputs": [],
   "source": [
    "from pyspark.sql import SparkSession, Row, functions\n",
    "from pyspark.sql.functions import lit\n",
    "from pyspark.ml.recommendation import ALS"
   ]
  },
  {
   "cell_type": "markdown",
   "metadata": {},
   "source": [
    "# Create Spark Session"
   ]
  },
  {
   "cell_type": "code",
   "execution_count": 3,
   "metadata": {},
   "outputs": [
    {
     "name": "stderr",
     "output_type": "stream",
     "text": [
      "23/11/29 11:25:19 WARN Utils: Your hostname, anbish resolves to a loopback address: 127.0.1.1; using 192.168.1.12 instead (on interface wlp1s0)\n",
      "23/11/29 11:25:19 WARN Utils: Set SPARK_LOCAL_IP if you need to bind to another address\n",
      "Setting default log level to \"WARN\".\n",
      "To adjust logging level use sc.setLogLevel(newLevel). For SparkR, use setLogLevel(newLevel).\n",
      "23/11/29 11:25:19 WARN NativeCodeLoader: Unable to load native-hadoop library for your platform... using builtin-java classes where applicable\n",
      "23/11/29 11:25:20 WARN Utils: Service 'SparkUI' could not bind on port 4040. Attempting port 4041.\n"
     ]
    },
    {
     "data": {
      "text/html": [
       "\n",
       "            <div>\n",
       "                <p><b>SparkSession - in-memory</b></p>\n",
       "                \n",
       "        <div>\n",
       "            <p><b>SparkContext</b></p>\n",
       "\n",
       "            <p><a href=\"http://192.168.1.12:4041\">Spark UI</a></p>\n",
       "\n",
       "            <dl>\n",
       "              <dt>Version</dt>\n",
       "                <dd><code>v3.5.0</code></dd>\n",
       "              <dt>Master</dt>\n",
       "                <dd><code>local[*]</code></dd>\n",
       "              <dt>AppName</dt>\n",
       "                <dd><code>MovieRecommendations</code></dd>\n",
       "            </dl>\n",
       "        </div>\n",
       "        \n",
       "            </div>\n",
       "        "
      ],
      "text/plain": [
       "<pyspark.sql.session.SparkSession at 0x7f8c800e3130>"
      ]
     },
     "execution_count": 3,
     "metadata": {},
     "output_type": "execute_result"
    }
   ],
   "source": [
    "spark = SparkSession.builder.appName(\"MovieRecommendations\").getOrCreate()\n",
    "spark"
   ]
  },
  {
   "cell_type": "markdown",
   "metadata": {},
   "source": [
    "# Read raw data"
   ]
  },
  {
   "cell_type": "code",
   "execution_count": 4,
   "metadata": {},
   "outputs": [
    {
     "data": {
      "text/plain": [
       "../data/ml-100k/u.data MapPartitionsRDD[1] at textFile at NativeMethodAccessorImpl.java:0"
      ]
     },
     "execution_count": 4,
     "metadata": {},
     "output_type": "execute_result"
    }
   ],
   "source": [
    "lines = spark.sparkContext.textFile(\"../data/ml-100k/u.data\")\n",
    "lines"
   ]
  },
  {
   "cell_type": "markdown",
   "metadata": {},
   "source": [
    "# Define parse input function to convert RDD to list of Row objects"
   ]
  },
  {
   "cell_type": "code",
   "execution_count": 8,
   "metadata": {},
   "outputs": [
    {
     "data": {
      "text/plain": [
       "[Row(UserID=196, MovieID=242, Rating=3.0),\n",
       " Row(UserID=186, MovieID=302, Rating=3.0),\n",
       " Row(UserID=22, MovieID=377, Rating=1.0),\n",
       " Row(UserID=244, MovieID=51, Rating=2.0),\n",
       " Row(UserID=166, MovieID=346, Rating=1.0),\n",
       " Row(UserID=298, MovieID=474, Rating=4.0),\n",
       " Row(UserID=115, MovieID=265, Rating=2.0),\n",
       " Row(UserID=253, MovieID=465, Rating=5.0),\n",
       " Row(UserID=305, MovieID=451, Rating=3.0),\n",
       " Row(UserID=6, MovieID=86, Rating=3.0)]"
      ]
     },
     "execution_count": 8,
     "metadata": {},
     "output_type": "execute_result"
    }
   ],
   "source": [
    "def parse_input(line):\n",
    "    fields = line.split()\n",
    "    userID = int(fields[0])\n",
    "    movieID = int(fields[1])\n",
    "    rating = float(fields[2])\n",
    "    return Row(UserID=userID, MovieID=movieID, Rating=rating)\n",
    "\n",
    "rdd_ratings = lines.map(parse_input)\n",
    "rdd_ratings.take(10)\n"
   ]
  },
  {
   "cell_type": "markdown",
   "metadata": {},
   "source": [
    "# Convert RDD to dataframe"
   ]
  },
  {
   "cell_type": "code",
   "execution_count": 9,
   "metadata": {},
   "outputs": [
    {
     "name": "stdout",
     "output_type": "stream",
     "text": [
      "+------+-------+------+\n",
      "|UserID|MovieID|Rating|\n",
      "+------+-------+------+\n",
      "|   196|    242|   3.0|\n",
      "|   186|    302|   3.0|\n",
      "|    22|    377|   1.0|\n",
      "|   244|     51|   2.0|\n",
      "|   166|    346|   1.0|\n",
      "|   298|    474|   4.0|\n",
      "|   115|    265|   2.0|\n",
      "|   253|    465|   5.0|\n",
      "|   305|    451|   3.0|\n",
      "|     6|     86|   3.0|\n",
      "+------+-------+------+\n",
      "only showing top 10 rows\n",
      "\n"
     ]
    }
   ],
   "source": [
    "movie_ratings = spark.createDataFrame(rdd_ratings)\n",
    "movie_ratings.show(10)"
   ]
  },
  {
   "cell_type": "markdown",
   "metadata": {},
   "source": [
    "# Show rated movies for user id 1"
   ]
  },
  {
   "cell_type": "code",
   "execution_count": 15,
   "metadata": {},
   "outputs": [
    {
     "data": {
      "text/plain": [
       "DataFrame[UserID: bigint, MovieID: bigint, Rating: double]"
      ]
     },
     "execution_count": 15,
     "metadata": {},
     "output_type": "execute_result"
    }
   ],
   "source": [
    "user1_movies = movie_ratings.filter(\"UserID = 1\")\n",
    "user1_movies"
   ]
  },
  {
   "cell_type": "markdown",
   "metadata": {},
   "source": [
    "- Load movie names from u.item"
   ]
  },
  {
   "cell_type": "code",
   "execution_count": 16,
   "metadata": {},
   "outputs": [],
   "source": [
    "def load_movie_names():\n",
    "    movie_names = {}\n",
    "    with open(\"../data/ml-100k/u.item\", encoding=\"latin1\") as file:\n",
    "        for line in file:\n",
    "            fields = line.split(\"|\")\n",
    "            movieID = int(fields[0])\n",
    "            name = fields[1]\n",
    "\n",
    "            movie_names[movieID] = name\n",
    "    return movie_names\n",
    "\n",
    "movie_names = load_movie_names()"
   ]
  },
  {
   "cell_type": "markdown",
   "metadata": {},
   "source": [
    "- Names of rated movies for user 1"
   ]
  },
  {
   "cell_type": "code",
   "execution_count": 17,
   "metadata": {},
   "outputs": [
    {
     "name": "stdout",
     "output_type": "stream",
     "text": [
      "Three Colors: White (1994) || rating: 4.0\n",
      "Grand Day Out, A (1992) || rating: 3.0\n",
      "Desperado (1995) || rating: 4.0\n",
      "Glengarry Glen Ross (1992) || rating: 4.0\n",
      "Angels and Insects (1995) || rating: 4.0\n",
      "Groundhog Day (1993) || rating: 5.0\n",
      "Delicatessen (1991) || rating: 5.0\n",
      "Hunt for Red October, The (1990) || rating: 4.0\n",
      "Dirty Dancing (1987) || rating: 2.0\n",
      "Rock, The (1996) || rating: 3.0\n",
      "Ed Wood (1994) || rating: 4.0\n",
      "Star Trek: First Contact (1996) || rating: 4.0\n",
      "Pillow Book, The (1995) || rating: 5.0\n",
      "Horseman on the Roof, The (Hussard sur le toit, Le) (1995) || rating: 5.0\n",
      "Star Trek VI: The Undiscovered Country (1991) || rating: 4.0\n",
      "From Dusk Till Dawn (1996) || rating: 3.0\n",
      "So I Married an Axe Murderer (1993) || rating: 4.0\n",
      "Shawshank Redemption, The (1994) || rating: 5.0\n",
      "True Romance (1993) || rating: 3.0\n",
      "Star Trek: The Wrath of Khan (1982) || rating: 5.0\n",
      "Kull the Conqueror (1997) || rating: 1.0\n",
      "Independence Day (ID4) (1996) || rating: 4.0\n",
      "Wallace & Gromit: The Best of Aardman Animation (1996) || rating: 5.0\n",
      "Wizard of Oz, The (1939) || rating: 4.0\n",
      "Faster Pussycat! Kill! Kill! (1965) || rating: 1.0\n",
      "Citizen Kane (1941) || rating: 4.0\n",
      "Silence of the Lambs, The (1991) || rating: 4.0\n",
      "Blues Brothers, The (1980) || rating: 4.0\n",
      "Breaking the Waves (1996) || rating: 5.0\n",
      "Robert A. Heinlein's The Puppet Masters (1994) || rating: 4.0\n",
      "Crimson Tide (1995) || rating: 3.0\n",
      "Four Weddings and a Funeral (1994) || rating: 3.0\n",
      "Three Colors: Blue (1993) || rating: 5.0\n",
      "Good, The Bad and The Ugly, The (1966) || rating: 5.0\n",
      "Bad Boys (1995) || rating: 2.0\n",
      "Event Horizon (1997) || rating: 1.0\n",
      "Lawnmower Man, The (1992) || rating: 2.0\n",
      "Raiders of the Lost Ark (1981) || rating: 5.0\n",
      "Basic Instinct (1992) || rating: 3.0\n",
      "Jurassic Park (1993) || rating: 5.0\n",
      "Pulp Fiction (1994) || rating: 4.0\n",
      "Good Will Hunting (1997) || rating: 3.0\n",
      "Hot Shots! Part Deux (1993) || rating: 4.0\n",
      "Star Trek III: The Search for Spock (1984) || rating: 4.0\n",
      "Homeward Bound: The Incredible Journey (1993) || rating: 1.0\n",
      "101 Dalmatians (1996) || rating: 2.0\n",
      "Mars Attacks! (1996) || rating: 5.0\n",
      "Striptease (1996) || rating: 1.0\n",
      "Phenomenon (1996) || rating: 3.0\n",
      "Field of Dreams (1989) || rating: 3.0\n",
      "Shanghai Triad (Yao a yao yao dao waipo qiao) (1995) || rating: 5.0\n",
      "Theodore Rex (1995) || rating: 1.0\n",
      "I.Q. (1994) || rating: 3.0\n",
      "Akira (1988) || rating: 4.0\n",
      "Carlito's Way (1993) || rating: 4.0\n",
      "Mask, The (1994) || rating: 4.0\n",
      "Psycho (1960) || rating: 4.0\n",
      "Terminator 2: Judgment Day (1991) || rating: 5.0\n",
      "Room with a View, A (1986) || rating: 2.0\n",
      "Under Siege (1992) || rating: 2.0\n",
      "Contact (1997) || rating: 5.0\n",
      "Hudsucker Proxy, The (1994) || rating: 5.0\n",
      "Free Willy (1993) || rating: 1.0\n",
      "Unbearable Lightness of Being, The (1988) || rating: 4.0\n",
      "Sound of Music, The (1965) || rating: 1.0\n",
      "Willy Wonka and the Chocolate Factory (1971) || rating: 4.0\n",
      "Legends of the Fall (1994) || rating: 4.0\n",
      "Brazil (1985) || rating: 5.0\n",
      "Moll Flanders (1996) || rating: 4.0\n",
      "Cape Fear (1991) || rating: 3.0\n",
      "This Is Spinal Tap (1984) || rating: 4.0\n",
      "George of the Jungle (1997) || rating: 1.0\n",
      "Kids in the Hall: Brain Candy (1996) || rating: 5.0\n",
      "In the Company of Men (1997) || rating: 3.0\n",
      "Usual Suspects, The (1995) || rating: 5.0\n",
      "Postino, Il (1994) || rating: 5.0\n",
      "Dances with Wolves (1990) || rating: 3.0\n",
      "Dolores Claiborne (1994) || rating: 5.0\n",
      "Natural Born Killers (1994) || rating: 3.0\n",
      "Return of the Pink Panther, The (1974) || rating: 4.0\n",
      "Indiana Jones and the Last Crusade (1989) || rating: 4.0\n",
      "Army of Darkness (1993) || rating: 4.0\n",
      "Platoon (1986) || rating: 4.0\n",
      "Evil Dead II (1987) || rating: 3.0\n",
      "Swingers (1996) || rating: 5.0\n",
      "Alien (1979) || rating: 5.0\n",
      "Grosse Pointe Blank (1997) || rating: 4.0\n",
      "Young Frankenstein (1974) || rating: 5.0\n",
      "Supercop (1992) || rating: 4.0\n",
      "Kolya (1996) || rating: 5.0\n",
      "Ghost and the Darkness, The (1996) || rating: 2.0\n",
      "Flipper (1996) || rating: 1.0\n",
      "Right Stuff, The (1983) || rating: 4.0\n",
      "Mimic (1997) || rating: 2.0\n",
      "Nightmare on Elm Street, A (1984) || rating: 1.0\n",
      "Young Guns (1988) || rating: 3.0\n",
      "Citizen Ruth (1996) || rating: 4.0\n",
      "Lost World: Jurassic Park, The (1997) || rating: 2.0\n",
      "Shining, The (1980) || rating: 3.0\n",
      "Apocalypse Now (1979) || rating: 3.0\n",
      "Fifth Element, The (1997) || rating: 4.0\n",
      "Ref, The (1994) || rating: 3.0\n",
      "Nightmare Before Christmas, The (1993) || rating: 5.0\n",
      "Richard III (1995) || rating: 3.0\n",
      "Batman & Robin (1997) || rating: 1.0\n",
      "Bound (1996) || rating: 5.0\n",
      "Last of the Mohicans, The (1992) || rating: 4.0\n",
      "Kansas City (1996) || rating: 3.0\n",
      "My Best Friend's Wedding (1997) || rating: 2.0\n",
      "All Dogs Go to Heaven 2 (1996) || rating: 1.0\n",
      "Twister (1996) || rating: 3.0\n",
      "Outbreak (1995) || rating: 3.0\n",
      "unknown || rating: 4.0\n",
      "Rumble in the Bronx (1995) || rating: 3.0\n",
      "Remains of the Day, The (1993) || rating: 5.0\n",
      "Dead Poets Society (1989) || rating: 5.0\n",
      "Strange Days (1995) || rating: 4.0\n",
      "Abyss, The (1989) || rating: 3.0\n",
      "Star Trek IV: The Voyage Home (1986) || rating: 4.0\n",
      "Mad Love (1995) || rating: 2.0\n",
      "Taxi Driver (1976) || rating: 4.0\n",
      "Ridicule (1996) || rating: 5.0\n",
      "Maverick (1994) || rating: 3.0\n",
      "Ace Ventura: Pet Detective (1994) || rating: 3.0\n",
      "What's Eating Gilbert Grape (1993) || rating: 4.0\n",
      "Henry V (1989) || rating: 5.0\n",
      "Fargo (1996) || rating: 5.0\n",
      "Die Hard 2 (1990) || rating: 3.0\n",
      "Jungle2Jungle (1997) || rating: 1.0\n",
      "Monty Python's Life of Brian (1979) || rating: 5.0\n",
      "Pink Floyd - The Wall (1982) || rating: 4.0\n",
      "Top Gun (1986) || rating: 4.0\n",
      "Stargate (1994) || rating: 3.0\n",
      "Full Metal Jacket (1987) || rating: 3.0\n",
      "Aristocats, The (1970) || rating: 2.0\n",
      "Forrest Gump (1994) || rating: 3.0\n",
      "Cinema Paradiso (1988) || rating: 5.0\n",
      "Net, The (1995) || rating: 3.0\n",
      "Dead Man Walking (1995) || rating: 5.0\n",
      "Chasing Amy (1997) || rating: 5.0\n",
      "Braveheart (1995) || rating: 4.0\n",
      "Muppet Treasure Island (1996) || rating: 1.0\n",
      "Clockwork Orange, A (1971) || rating: 3.0\n",
      "Godfather: Part II, The (1974) || rating: 4.0\n",
      "2001: A Space Odyssey (1968) || rating: 4.0\n",
      "Crow, The (1994) || rating: 4.0\n",
      "Unhook the Stars (1996) || rating: 4.0\n",
      "Aliens (1986) || rating: 5.0\n",
      "Manon of the Spring (Manon des sources) (1986) || rating: 5.0\n",
      "D3: The Mighty Ducks (1996) || rating: 1.0\n",
      "Turbo: A Power Rangers Movie (1997) || rating: 1.0\n",
      "Blade Runner (1982) || rating: 5.0\n",
      "GoldenEye (1995) || rating: 3.0\n",
      "Belle de jour (1967) || rating: 3.0\n",
      "Santa Clause, The (1994) || rating: 2.0\n",
      "Austin Powers: International Man of Mystery (1997) || rating: 4.0\n",
      "Full Monty, The (1997) || rating: 5.0\n",
      "Crumb (1994) || rating: 5.0\n",
      "20,000 Leagues Under the Sea (1954) || rating: 3.0\n",
      "M*A*S*H (1970) || rating: 3.0\n",
      "To Wong Foo, Thanks for Everything! Julie Newmar (1995) || rating: 3.0\n",
      "Gattaca (1997) || rating: 5.0\n",
      "Gone with the Wind (1939) || rating: 4.0\n",
      "Sneakers (1992) || rating: 4.0\n",
      "Sting, The (1973) || rating: 4.0\n",
      "When the Cats Away (Chacun cherche son chat) (1996) || rating: 4.0\n",
      "Mirror Has Two Faces, The (1996) || rating: 3.0\n",
      "Welcome to the Dollhouse (1995) || rating: 5.0\n",
      "Babe (1995) || rating: 1.0\n",
      "Patton (1970) || rating: 3.0\n",
      "Jaws (1975) || rating: 4.0\n",
      "Sgt. Bilko (1996) || rating: 2.0\n",
      "Long Kiss Goodnight, The (1996) || rating: 3.0\n",
      "Snow White and the Seven Dwarfs (1937) || rating: 3.0\n",
      "Toy Story (1995) || rating: 5.0\n",
      "Graduate, The (1967) || rating: 5.0\n",
      "Princess Bride, The (1987) || rating: 5.0\n",
      "Brother Minister: The Assassination of Malcolm X (1994) || rating: 4.0\n",
      "Chasing Amy (1997) || rating: 5.0\n",
      "Doom Generation, The (1995) || rating: 2.0\n",
      "Die Hard (1988) || rating: 4.0\n",
      "Starship Troopers (1997) || rating: 2.0\n",
      "Maya Lin: A Strong Clear Vision (1994) || rating: 5.0\n",
      "Brothers McMullen, The (1995) || rating: 3.0\n",
      "Weekend at Bernie's (1989) || rating: 3.0\n",
      "Nadja (1994) || rating: 2.0\n",
      "Return of the Jedi (1983) || rating: 5.0\n",
      "Mr. Smith Goes to Washington (1939) || rating: 3.0\n",
      "Men in Black (1997) || rating: 4.0\n",
      "Jerry Maguire (1996) || rating: 2.0\n",
      "Breakfast at Tiffany's (1961) || rating: 1.0\n",
      "Mystery Science Theater 3000: The Movie (1996) || rating: 5.0\n",
      "GoodFellas (1990) || rating: 4.0\n",
      "Lion King, The (1994) || rating: 3.0\n",
      "Sling Blade (1996) || rating: 5.0\n",
      "Exotica (1994) || rating: 4.0\n",
      "Wrong Trousers, The (1993) || rating: 5.0\n",
      "Billy Madison (1995) || rating: 2.0\n",
      "On Golden Pond (1981) || rating: 4.0\n",
      "Operation Dumbo Drop (1995) || rating: 1.0\n",
      "While You Were Sleeping (1995) || rating: 4.0\n",
      "Firm, The (1993) || rating: 4.0\n",
      "Bridge on the River Kwai, The (1957) || rating: 4.0\n",
      "Priest (1994) || rating: 5.0\n",
      "Star Wars (1977) || rating: 5.0\n",
      "Raging Bull (1980) || rating: 4.0\n",
      "12 Angry Men (1957) || rating: 5.0\n",
      "Copycat (1995) || rating: 3.0\n",
      "Searching for Bobby Fischer (1993) || rating: 5.0\n",
      "Raising Arizona (1987) || rating: 4.0\n",
      "Reservoir Dogs (1992) || rating: 4.0\n",
      "Diabolique (1996) || rating: 4.0\n",
      "Private Benjamin (1980) || rating: 2.0\n",
      "Haunted World of Edward D. Wood Jr., The (1995) || rating: 5.0\n",
      "Seven (Se7en) (1995) || rating: 2.0\n",
      "Devil's Own, The (1997) || rating: 2.0\n",
      "Free Willy 2: The Adventure Home (1995) || rating: 1.0\n",
      "Big Night (1996) || rating: 5.0\n",
      "Godfather, The (1972) || rating: 5.0\n",
      "French Twist (Gazon maudit) (1995) || rating: 5.0\n",
      "Fugitive, The (1993) || rating: 4.0\n",
      "Air Bud (1997) || rating: 1.0\n",
      "Eat Drink Man Woman (1994) || rating: 5.0\n",
      "Hoop Dreams (1994) || rating: 5.0\n",
      "Birdcage, The (1996) || rating: 4.0\n",
      "Shall We Dance? (1996) || rating: 4.0\n",
      "Terminator, The (1984) || rating: 5.0\n",
      "Fish Called Wanda, A (1988) || rating: 3.0\n",
      "Heavy Metal (1981) || rating: 2.0\n",
      "Monty Python and the Holy Grail (1974) || rating: 5.0\n",
      "Frighteners, The (1996) || rating: 4.0\n",
      "Amadeus (1984) || rating: 5.0\n",
      "Get Shorty (1995) || rating: 3.0\n",
      "Steel (1997) || rating: 1.0\n",
      "Unforgiven (1992) || rating: 4.0\n",
      "Professional, The (1994) || rating: 5.0\n",
      "Clerks (1994) || rating: 5.0\n",
      "Love Bug, The (1969) || rating: 3.0\n",
      "Beavis and Butt-head Do America (1996) || rating: 3.0\n",
      "Twelve Monkeys (1995) || rating: 4.0\n",
      "Jude (1996) || rating: 2.0\n",
      "Disclosure (1994) || rating: 4.0\n",
      "Jean de Florette (1986) || rating: 5.0\n",
      "Cold Comfort Farm (1995) || rating: 3.0\n",
      "Nikita (La Femme Nikita) (1990) || rating: 5.0\n",
      "Lone Star (1996) || rating: 5.0\n",
      "Aladdin (1992) || rating: 4.0\n",
      "Bram Stoker's Dracula (1992) || rating: 3.0\n",
      "Quiz Show (1994) || rating: 4.0\n",
      "Bedknobs and Broomsticks (1971) || rating: 2.0\n",
      "When Harry Met Sally... (1989) || rating: 5.0\n",
      "Spitfire Grill, The (1996) || rating: 2.0\n",
      "Much Ado About Nothing (1993) || rating: 3.0\n",
      "Batman Returns (1992) || rating: 1.0\n",
      "Back to the Future (1985) || rating: 5.0\n",
      "Four Rooms (1995) || rating: 4.0\n",
      "Cyrano de Bergerac (1990) || rating: 5.0\n",
      "Smilla's Sense of Snow (1997) || rating: 2.0\n",
      "Antonia's Line (1995) || rating: 5.0\n",
      "Batman Forever (1995) || rating: 1.0\n",
      "White Balloon, The (1995) || rating: 4.0\n",
      "Three Colors: Red (1994) || rating: 5.0\n",
      "Mr. Holland's Opus (1995) || rating: 5.0\n",
      "Truth About Cats & Dogs, The (1996) || rating: 5.0\n",
      "Madness of King George, The (1994) || rating: 4.0\n",
      "Sleepless in Seattle (1993) || rating: 4.0\n",
      "Mighty Aphrodite (1995) || rating: 5.0\n",
      "Apollo 13 (1995) || rating: 4.0\n",
      "Empire Strikes Back, The (1980) || rating: 5.0\n",
      "Cable Guy, The (1996) || rating: 3.0\n",
      "Sleeper (1973) || rating: 5.0\n",
      "Home Alone (1990) || rating: 2.0\n"
     ]
    }
   ],
   "source": [
    "for rating in user1_movies.collect():\n",
    "    movieID = rating['MovieID']\n",
    "    print(f\"{movie_names[movieID]} || rating: {rating['Rating']}\")"
   ]
  },
  {
   "cell_type": "markdown",
   "metadata": {},
   "source": [
    "# Get movie that was rated over 100 times"
   ]
  },
  {
   "cell_type": "code",
   "execution_count": 20,
   "metadata": {},
   "outputs": [
    {
     "name": "stdout",
     "output_type": "stream",
     "text": [
      "+-------+-----+\n",
      "|movieID|count|\n",
      "+-------+-----+\n",
      "|    474|  194|\n",
      "|     29|  114|\n",
      "|     65|  115|\n",
      "|    191|  276|\n",
      "|    418|  129|\n",
      "|    222|  365|\n",
      "|    293|  147|\n",
      "|    270|  136|\n",
      "|    367|  170|\n",
      "|    705|  137|\n",
      "+-------+-----+\n",
      "only showing top 10 rows\n",
      "\n"
     ]
    }
   ],
   "source": [
    "rating_count_filter = movie_ratings.groupBy(\"movieID\").count().filter(\"count >= 100\")\n",
    "rating_count_filter.show(10)"
   ]
  },
  {
   "cell_type": "markdown",
   "metadata": {},
   "source": [
    "# ML"
   ]
  },
  {
   "cell_type": "code",
   "execution_count": 23,
   "metadata": {},
   "outputs": [],
   "source": [
    "als=ALS(maxIter=5, regParam=0.01, userCol=\"UserID\", itemCol=\"MovieID\", ratingCol=\"Rating\")\n",
    "model = als.fit(movie_ratings)"
   ]
  },
  {
   "cell_type": "code",
   "execution_count": 24,
   "metadata": {},
   "outputs": [
    {
     "name": "stdout",
     "output_type": "stream",
     "text": [
      "+-------+------+\n",
      "|MovieID|UserID|\n",
      "+-------+------+\n",
      "|    474|     1|\n",
      "|     29|     1|\n",
      "|     65|     1|\n",
      "|    191|     1|\n",
      "|    418|     1|\n",
      "|    222|     1|\n",
      "|    293|     1|\n",
      "|    270|     1|\n",
      "|    367|     1|\n",
      "|    705|     1|\n",
      "+-------+------+\n",
      "only showing top 10 rows\n",
      "\n"
     ]
    }
   ],
   "source": [
    "popular_movies = rating_count_filter.select(\"MovieID\").withColumn(\"UserID\", lit(1))\n",
    "popular_movies.show(10)"
   ]
  },
  {
   "cell_type": "code",
   "execution_count": 25,
   "metadata": {},
   "outputs": [
    {
     "name": "stdout",
     "output_type": "stream",
     "text": [
      "+-------+------+----------+\n",
      "|MovieID|UserID|prediction|\n",
      "+-------+------+----------+\n",
      "|    474|     1|  4.710671|\n",
      "|     29|     1| 1.7873267|\n",
      "|     65|     1| 3.7993805|\n",
      "|    191|     1| 4.3726716|\n",
      "|    418|     1| 2.5764577|\n",
      "|    222|     1| 3.4987476|\n",
      "|    293|     1|  4.269912|\n",
      "|    270|     1|  3.401249|\n",
      "|    367|     1|  3.486995|\n",
      "|    705|     1| 3.5915065|\n",
      "+-------+------+----------+\n",
      "only showing top 10 rows\n",
      "\n"
     ]
    }
   ],
   "source": [
    "recommendations = model.transform(popular_movies)\n",
    "recommendations.show(10)"
   ]
  },
  {
   "cell_type": "code",
   "execution_count": 27,
   "metadata": {},
   "outputs": [
    {
     "name": "stdout",
     "output_type": "stream",
     "text": [
      "+-------+------+----------+\n",
      "|MovieID|UserID|prediction|\n",
      "+-------+------+----------+\n",
      "|     56|     1| 5.0769544|\n",
      "|     12|     1|  5.020918|\n",
      "|    100|     1| 5.0079856|\n",
      "|    127|     1| 5.0022445|\n",
      "|    156|     1|   4.99092|\n",
      "|    357|     1|  4.962844|\n",
      "|    169|     1| 4.9581566|\n",
      "|     89|     1| 4.9482355|\n",
      "|    475|     1|   4.85978|\n",
      "|    179|     1|  4.843936|\n",
      "+-------+------+----------+\n",
      "only showing top 10 rows\n",
      "\n"
     ]
    }
   ],
   "source": [
    "recommendations.orderBy(\"prediction\", ascending=False).show(10)"
   ]
  },
  {
   "cell_type": "code",
   "execution_count": null,
   "metadata": {},
   "outputs": [],
   "source": []
  }
 ],
 "metadata": {
  "kernelspec": {
   "display_name": "Python 3",
   "language": "python",
   "name": "python3"
  },
  "language_info": {
   "codemirror_mode": {
    "name": "ipython",
    "version": 3
   },
   "file_extension": ".py",
   "mimetype": "text/x-python",
   "name": "python",
   "nbconvert_exporter": "python",
   "pygments_lexer": "ipython3",
   "version": "3.10.12"
  },
  "orig_nbformat": 4
 },
 "nbformat": 4,
 "nbformat_minor": 2
}
