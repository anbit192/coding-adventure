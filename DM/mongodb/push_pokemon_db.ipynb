{
 "cells": [
  {
   "cell_type": "code",
   "execution_count": 9,
   "metadata": {},
   "outputs": [],
   "source": [
    "import pickle\n",
    "import numpy as np\n",
    "import pymongo\n",
    "from bson.objectid import ObjectId\n",
    "import requests\n",
    "import json"
   ]
  },
  {
   "cell_type": "markdown",
   "metadata": {},
   "source": [
    "## Unpickle function"
   ]
  },
  {
   "cell_type": "code",
   "execution_count": 10,
   "metadata": {},
   "outputs": [],
   "source": [
    "def unpickle_the_data(pickle_file_name):\n",
    "    with open(pickle_file_name, 'rb') as pk_file:\n",
    "        unpickleddata = pickle.load(pk_file)\n",
    "    return unpickleddata"
   ]
  },
  {
   "cell_type": "markdown",
   "metadata": {},
   "source": [
    "## Unpickle data"
   ]
  },
  {
   "cell_type": "code",
   "execution_count": 11,
   "metadata": {},
   "outputs": [],
   "source": [
    "pkms = unpickle_the_data(\"all_pokemon_info.pickle\")\n",
    "moves = unpickle_the_data(\"all_moves.pickle\")"
   ]
  },
  {
   "cell_type": "markdown",
   "metadata": {},
   "source": [
    "## Parse pokemon info"
   ]
  },
  {
   "cell_type": "code",
   "execution_count": 12,
   "metadata": {},
   "outputs": [],
   "source": [
    "def get_types(pkm_data: dict):\n",
    "    types = []\n",
    "\n",
    "    for slot in pkm_data[\"types\"]:\n",
    "        types.append(slot[\"type\"][\"name\"])\n",
    "\n",
    "    return types\n",
    "\n",
    "\n",
    "def get_abilities(pkm_data:dict):\n",
    "    abilities = []\n",
    "\n",
    "    for slot in pkm_data[\"abilities\"]:\n",
    "        abilities.append(slot[\"ability\"][\"name\"])\n",
    "\n",
    "    return abilities\n",
    "\n",
    "\n",
    "\n",
    "def get_sprites(pkm_data:dict):\n",
    "    return pkm_data[\"sprites\"]"
   ]
  },
  {
   "cell_type": "markdown",
   "metadata": {},
   "source": [
    "## Init MongoDB connection"
   ]
  },
  {
   "cell_type": "code",
   "execution_count": 13,
   "metadata": {},
   "outputs": [],
   "source": [
    "client = pymongo.MongoClient(\"localhost\", 27017)\n",
    "pkm_db = client[\"pokemon\"]"
   ]
  },
  {
   "cell_type": "markdown",
   "metadata": {},
   "source": [
    "## Push to info collection"
   ]
  },
  {
   "cell_type": "code",
   "execution_count": 14,
   "metadata": {},
   "outputs": [],
   "source": [
    "for pkm in pkms:\n",
    "    data_form = {\n",
    "        \"name\":pkm[\"name\"],\n",
    "        \"type\":get_types(pkm),\n",
    "        \"abilities\":get_abilities(pkm),\n",
    "        \"sprites\":get_sprites(pkm)\n",
    "        \n",
    "    }\n",
    "\n",
    "    pkm_db.info.insert_one(data_form)"
   ]
  }
 ],
 "metadata": {
  "kernelspec": {
   "display_name": "Python 3",
   "language": "python",
   "name": "python3"
  },
  "language_info": {
   "codemirror_mode": {
    "name": "ipython",
    "version": 3
   },
   "file_extension": ".py",
   "mimetype": "text/x-python",
   "name": "python",
   "nbconvert_exporter": "python",
   "pygments_lexer": "ipython3",
   "version": "3.11.3"
  }
 },
 "nbformat": 4,
 "nbformat_minor": 2
}
