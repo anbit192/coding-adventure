{
 "cells": [
  {
   "cell_type": "code",
   "execution_count": 1,
   "metadata": {},
   "outputs": [],
   "source": [
    "import numpy as np\n",
    "import pymongo\n",
    "from bson.objectid import ObjectId\n",
    "import requests\n",
    "import json\n"
   ]
  },
  {
   "cell_type": "markdown",
   "metadata": {},
   "source": [
    "## API pokemon"
   ]
  },
  {
   "cell_type": "code",
   "execution_count": 2,
   "metadata": {},
   "outputs": [],
   "source": [
    "rayquaza_data = requests.get(\"https://pokeapi.co/api/v2/pokemon/rayquaza/\").content\n",
    "kyogre_data = requests.get(\"https://pokeapi.co/api/v2/pokemon/kyogre/\").content\n",
    "groudon_data = requests.get(\"https://pokeapi.co/api/v2/pokemon/groudon/\").content\n",
    "abra_data = requests.get(\"https://pokeapi.co/api/v2/pokemon/abra/\").content\n"
   ]
  },
  {
   "cell_type": "markdown",
   "metadata": {},
   "source": [
    "## Init connection "
   ]
  },
  {
   "cell_type": "code",
   "execution_count": 3,
   "metadata": {},
   "outputs": [],
   "source": [
    "client = pymongo.MongoClient(\"localhost\", 27017)\n",
    "pkm_db = client[\"pokemon\"]"
   ]
  },
  {
   "cell_type": "code",
   "execution_count": 4,
   "metadata": {},
   "outputs": [],
   "source": [
    "info = pkm_db[\"info\"]"
   ]
  },
  {
   "cell_type": "markdown",
   "metadata": {},
   "source": [
    "## Convert json format to dictionary in python"
   ]
  },
  {
   "cell_type": "code",
   "execution_count": 5,
   "metadata": {},
   "outputs": [],
   "source": [
    "def convert_to_dict(bytes_str: bytes):\n",
    "    temp = bytes_str.decode(\"utf-8\")\n",
    "\n",
    "    return json.loads(temp)"
   ]
  },
  {
   "cell_type": "markdown",
   "metadata": {},
   "source": [
    "## Get pokemons"
   ]
  },
  {
   "cell_type": "code",
   "execution_count": 8,
   "metadata": {},
   "outputs": [
    {
     "data": {
      "text/plain": [
       "651"
      ]
     },
     "execution_count": 8,
     "metadata": {},
     "output_type": "execute_result"
    }
   ],
   "source": [
    "def load_all_pkm_data():\n",
    "    prefix = \"https://pokeapi.co/api/v2/pokemon\"\n",
    "    count = json.loads(requests.get(prefix).content)[\"count\"]\n",
    "\n",
    "    pkms = []\n",
    "\n",
    "    for i in range(int(count/2)):\n",
    "        pkm = convert_to_dict(requests.get(f\"{prefix}/{i+1}\").content)\n",
    "\n",
    "        # print(pkm)\n",
    "        pkms.append(pkm)\n",
    "\n",
    "    return pkms\n",
    "\n",
    "    \n",
    "pkms = load_all_pkm_data()\n",
    "len(pkms)"
   ]
  },
  {
   "cell_type": "markdown",
   "metadata": {},
   "source": [
    "## Get pokemon's type"
   ]
  },
  {
   "cell_type": "code",
   "execution_count": 9,
   "metadata": {},
   "outputs": [],
   "source": [
    "def get_types(pkm_data: dict):\n",
    "    types = []\n",
    "\n",
    "    for slot in pkm_data[\"types\"]:\n",
    "        types.append(slot[\"type\"][\"name\"])\n",
    "\n",
    "    return types"
   ]
  },
  {
   "cell_type": "markdown",
   "metadata": {},
   "source": [
    "## Get pokemon's abilities"
   ]
  },
  {
   "cell_type": "code",
   "execution_count": 10,
   "metadata": {},
   "outputs": [],
   "source": [
    "def get_abilities(pkm_data:dict):\n",
    "    abilities = []\n",
    "\n",
    "    for slot in pkm_data[\"abilities\"]:\n",
    "        abilities.append(slot[\"ability\"][\"name\"])\n",
    "\n",
    "    return abilities"
   ]
  },
  {
   "cell_type": "markdown",
   "metadata": {},
   "source": [
    "## Get pokemon sprites"
   ]
  },
  {
   "cell_type": "code",
   "execution_count": 11,
   "metadata": {},
   "outputs": [],
   "source": [
    "def get_sprites(pkm_data:dict):\n",
    "    return pkm_data[\"sprites\"]"
   ]
  },
  {
   "cell_type": "markdown",
   "metadata": {},
   "source": [
    "## Push pokemon's info"
   ]
  },
  {
   "cell_type": "code",
   "execution_count": 12,
   "metadata": {},
   "outputs": [],
   "source": [
    "for pkm in pkms:\n",
    "    data_form = {\n",
    "        \"name\":pkm[\"name\"],\n",
    "        \"type\":get_types(pkm),\n",
    "        \"abilities\":get_abilities(pkm),\n",
    "        \"sprites\":get_sprites(pkm)\n",
    "        \n",
    "    }\n",
    "\n",
    "    pkm_db.info.insert_one(data_form)"
   ]
  }
 ],
 "metadata": {
  "kernelspec": {
   "display_name": "Python 3",
   "language": "python",
   "name": "python3"
  },
  "language_info": {
   "codemirror_mode": {
    "name": "ipython",
    "version": 3
   },
   "file_extension": ".py",
   "mimetype": "text/x-python",
   "name": "python",
   "nbconvert_exporter": "python",
   "pygments_lexer": "ipython3",
   "version": "3.11.3"
  }
 },
 "nbformat": 4,
 "nbformat_minor": 2
}
