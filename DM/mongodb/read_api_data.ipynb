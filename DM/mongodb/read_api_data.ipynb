{
 "cells": [
  {
   "cell_type": "code",
   "execution_count": 9,
   "metadata": {},
   "outputs": [],
   "source": [
    "import numpy as np\n",
    "import pymongo\n",
    "from bson.objectid import ObjectId\n",
    "import requests\n",
    "import json\n",
    "import pickle\n"
   ]
  },
  {
   "cell_type": "markdown",
   "metadata": {},
   "source": [
    "## API pokemon"
   ]
  },
  {
   "cell_type": "code",
   "execution_count": 2,
   "metadata": {},
   "outputs": [],
   "source": [
    "rayquaza_data = requests.get(\"https://pokeapi.co/api/v2/pokemon/rayquaza/\").content\n",
    "kyogre_data = requests.get(\"https://pokeapi.co/api/v2/pokemon/kyogre/\").content\n",
    "groudon_data = requests.get(\"https://pokeapi.co/api/v2/pokemon/groudon/\").content\n",
    "abra_data = requests.get(\"https://pokeapi.co/api/v2/pokemon/abra/\").content\n"
   ]
  },
  {
   "cell_type": "markdown",
   "metadata": {},
   "source": [
    "## Convert json format to dictionary in python"
   ]
  },
  {
   "cell_type": "code",
   "execution_count": 5,
   "metadata": {},
   "outputs": [],
   "source": [
    "def convert_to_dict(bytes_str: bytes):\n",
    "    temp = bytes_str.decode(\"utf-8\")\n",
    "\n",
    "    return json.loads(temp)"
   ]
  },
  {
   "cell_type": "markdown",
   "metadata": {},
   "source": [
    "## Get pokemons"
   ]
  },
  {
   "cell_type": "code",
   "execution_count": null,
   "metadata": {},
   "outputs": [],
   "source": [
    "def load_all_pkm_data():\n",
    "    prefix = \"https://pokeapi.co/api/v2/pokemon\"\n",
    "    count = json.loads(requests.get(\"https://pokeapi.co/api/v2/pokemon-species/\").content)[\"count\"]\n",
    "\n",
    "    pkms = []\n",
    "\n",
    "    for i in range(int(count)):\n",
    "        pkm = convert_to_dict(requests.get(f\"{prefix}/{i+1}\").content)\n",
    "\n",
    "        # print(pkm)\n",
    "        pkms.append(pkm)\n",
    "        # print(i)\n",
    "\n",
    "    return pkms\n",
    "\n",
    "    \n",
    "pkms = load_all_pkm_data()\n",
    "len(pkms)"
   ]
  },
  {
   "cell_type": "markdown",
   "metadata": {},
   "source": [
    "## Get moves"
   ]
  },
  {
   "cell_type": "code",
   "execution_count": null,
   "metadata": {},
   "outputs": [],
   "source": [
    "def load_all_moves():\n",
    "    prefix = \"https://pokeapi.co/api/v2/move\"\n",
    "    # count = convert_to_dict(requests.get(prefix).content)[\"count\"]\n",
    "    count = 919\n",
    "\n",
    "    moves = []\n",
    "    for i in range(count):\n",
    "        temp = convert_to_dict(requests.get(f\"{prefix}/{i+1}/\").content)\n",
    "        moves.append(temp)\n",
    "        # print(i)\n",
    "    return moves\n",
    "\n",
    "moves = load_all_moves()\n",
    "len(moves)"
   ]
  },
  {
   "cell_type": "markdown",
   "metadata": {},
   "source": [
    "## Export python list to pickle files"
   ]
  },
  {
   "cell_type": "code",
   "execution_count": 12,
   "metadata": {},
   "outputs": [],
   "source": [
    "def pickle_data(export_file_name: str, pickle_obj):\n",
    "    with open(f\"{export_file_name}.pickle\", \"wb\") as pckl:\n",
    "        pickle.dump(pickle_obj, pckl)\n",
    "\n",
    "        print(f\"Exported {export_file_name}.pickle\")"
   ]
  },
  {
   "cell_type": "code",
   "execution_count": 13,
   "metadata": {},
   "outputs": [
    {
     "name": "stdout",
     "output_type": "stream",
     "text": [
      "Exported all_pokemon_info.pickle\n"
     ]
    }
   ],
   "source": [
    "pickle_data(\"all_pokemon_info\", pkms)"
   ]
  },
  {
   "cell_type": "code",
   "execution_count": 15,
   "metadata": {},
   "outputs": [
    {
     "name": "stdout",
     "output_type": "stream",
     "text": [
      "Exported all_moves.pickle\n"
     ]
    }
   ],
   "source": [
    "pickle_data(\"all_moves\", moves)"
   ]
  }
 ],
 "metadata": {
  "kernelspec": {
   "display_name": "Python 3",
   "language": "python",
   "name": "python3"
  },
  "language_info": {
   "codemirror_mode": {
    "name": "ipython",
    "version": 3
   },
   "file_extension": ".py",
   "mimetype": "text/x-python",
   "name": "python",
   "nbconvert_exporter": "python",
   "pygments_lexer": "ipython3",
   "version": "3.11.3"
  }
 },
 "nbformat": 4,
 "nbformat_minor": 2
}
