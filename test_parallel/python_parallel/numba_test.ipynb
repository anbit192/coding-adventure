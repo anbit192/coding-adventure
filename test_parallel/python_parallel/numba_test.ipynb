{
 "cells": [
  {
   "cell_type": "code",
   "execution_count": 1,
   "metadata": {},
   "outputs": [
    {
     "name": "stdout",
     "output_type": "stream",
     "text": [
      "[[260.94797 252.42181 264.20285 ... 265.48074 256.1321  260.28616]\n",
      " [248.83034 242.30717 246.4565  ... 249.4068  249.12015 245.11578]\n",
      " [260.74115 254.29033 264.377   ... 262.57205 266.65427 260.8511 ]\n",
      " ...\n",
      " [263.20197 255.4851  255.12476 ... 262.40002 259.0676  253.65948]\n",
      " [260.50217 253.49136 255.64014 ... 258.29272 266.07153 253.83916]\n",
      " [255.8441  246.54317 255.18039 ... 257.9922  259.5996  254.05682]]\n",
      "(1024, 1024)\n"
     ]
    }
   ],
   "source": [
    "import numpy as np\n",
    "from numba import cuda\n",
    "\n",
    "# Define the CUDA kernel for matrix multiplication\n",
    "@cuda.jit\n",
    "def matrix_multiply_kernel(A, B, result):\n",
    "    row, col = cuda.grid(2)\n",
    "    \n",
    "    if row < result.shape[0] and col < result.shape[1]:\n",
    "        tmp = 0.0\n",
    "        for i in range(A.shape[1]):\n",
    "            tmp += A[row, i] * B[i, col]\n",
    "        result[row, col] = tmp\n",
    "\n",
    "# nhan ma tran tren gpu\n",
    "def matrix_multiply_cuda(A, B):\n",
    "    m, n = A.shape\n",
    "    n, k = B.shape\n",
    "    \n",
    "    # cap bo nho cho gpu\n",
    "    d_result = cuda.device_array((m, k), dtype=np.float32)\n",
    "\n",
    "    # tao so block va grid su dung \n",
    "    blockdim = (32, 32)\n",
    "    griddim = (int(np.ceil(m / blockdim[0])), int(np.ceil(k / blockdim[1])))\n",
    "\n",
    "    # truyen du lieu ma tran tu host xuong device de xu ly \n",
    "    d_A = cuda.to_device(A)\n",
    "    d_B = cuda.to_device(B)\n",
    "\n",
    "    # goi lai ham voi so grid va block chia san de tinh\n",
    "    matrix_multiply_kernel[griddim, blockdim](d_A, d_B, d_result)\n",
    "\n",
    "    # tra ket qua tinh toan tu device ve cho  \n",
    "    result_cuda = d_result.copy_to_host()\n",
    "\n",
    "    return result_cuda\n",
    "\n",
    "A = np.random.rand(1024, 1024).astype(np.float32)\n",
    "B = np.random.rand(1024, 1024).astype(np.float32)\n",
    "\n",
    "result = matrix_multiply_cuda(A, B)\n",
    "print(result)\n",
    "print(result.shape)"
   ]
  },
  {
   "cell_type": "code",
   "execution_count": null,
   "metadata": {},
   "outputs": [],
   "source": []
  }
 ],
 "metadata": {
  "kernelspec": {
   "display_name": "Python 3",
   "language": "python",
   "name": "python3"
  },
  "language_info": {
   "codemirror_mode": {
    "name": "ipython",
    "version": 3
   },
   "file_extension": ".py",
   "mimetype": "text/x-python",
   "name": "python",
   "nbconvert_exporter": "python",
   "pygments_lexer": "ipython3",
   "version": "3.11.3"
  }
 },
 "nbformat": 4,
 "nbformat_minor": 2
}
