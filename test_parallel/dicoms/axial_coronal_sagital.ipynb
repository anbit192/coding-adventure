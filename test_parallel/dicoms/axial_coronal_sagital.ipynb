{
 "cells": [
  {
   "cell_type": "markdown",
   "metadata": {},
   "source": [
    "---\n",
    "- #  Import\n",
    "---"
   ]
  },
  {
   "cell_type": "code",
   "execution_count": 1,
   "metadata": {},
   "outputs": [],
   "source": [
    "import pydicom as dicom\n",
    "import matplotlib.pyplot as plt\n",
    "import numpy as np\n",
    "import os"
   ]
  },
  {
   "cell_type": "markdown",
   "metadata": {},
   "source": [
    "---\n",
    "- #  Get all the dicom file paths in folder\n"
   ]
  },
  {
   "cell_type": "code",
   "execution_count": 2,
   "metadata": {},
   "outputs": [
    {
     "name": "stdout",
     "output_type": "stream",
     "text": [
      "['D0001.dcm', 'D0002.dcm', 'D0003.dcm', 'D0004.dcm', 'D0005.dcm', 'D0006.dcm', 'D0007.dcm', 'D0008.dcm', 'D0009.dcm', 'D0010.dcm', 'D0011.dcm', 'D0012.dcm', 'D0013.dcm', 'D0014.dcm', 'D0015.dcm', 'D0016.dcm', 'D0017.dcm', 'D0018.dcm', 'D0019.dcm', 'D0020.dcm', 'D0021.dcm', 'D0022.dcm', 'D0023.dcm', 'D0024.dcm', 'D0025.dcm', 'D0026.dcm', 'D0027.dcm', 'D0028.dcm', 'D0029.dcm', 'D0030.dcm', 'D0031.dcm', 'D0032.dcm', 'D0033.dcm', 'D0034.dcm', 'D0035.dcm', 'D0036.dcm', 'D0037.dcm', 'D0038.dcm', 'D0039.dcm', 'D0040.dcm', 'D0041.dcm', 'D0042.dcm', 'D0043.dcm', 'D0044.dcm', 'D0045.dcm', 'D0046.dcm', 'D0047.dcm', 'D0048.dcm', 'D0049.dcm', 'D0050.dcm', 'D0051.dcm', 'D0052.dcm', 'D0053.dcm', 'D0054.dcm', 'D0055.dcm', 'D0056.dcm', 'D0057.dcm', 'D0058.dcm', 'D0059.dcm', 'D0060.dcm', 'D0061.dcm', 'D0062.dcm', 'D0063.dcm', 'D0064.dcm', 'D0065.dcm', 'D0066.dcm', 'D0067.dcm', 'D0068.dcm', 'D0069.dcm', 'D0070.dcm', 'D0071.dcm', 'D0072.dcm', 'D0073.dcm', 'D0074.dcm', 'D0075.dcm', 'D0076.dcm', 'D0077.dcm', 'D0078.dcm', 'D0079.dcm', 'D0080.dcm', 'D0081.dcm', 'D0082.dcm', 'D0083.dcm', 'D0084.dcm', 'D0085.dcm', 'D0086.dcm', 'D0087.dcm', 'D0088.dcm', 'D0089.dcm', 'D0090.dcm', 'D0091.dcm', 'D0092.dcm', 'D0093.dcm', 'D0094.dcm', 'D0095.dcm', 'D0096.dcm', 'D0097.dcm', 'D0098.dcm', 'D0099.dcm', 'D0100.dcm', 'D0101.dcm', 'D0102.dcm', 'D0103.dcm', 'D0104.dcm', 'D0105.dcm', 'D0106.dcm', 'D0107.dcm', 'D0108.dcm', 'D0109.dcm', 'D0110.dcm', 'D0111.dcm', 'D0112.dcm', 'D0113.dcm', 'D0114.dcm', 'D0115.dcm', 'D0116.dcm', 'D0117.dcm', 'D0118.dcm', 'D0119.dcm', 'D0120.dcm', 'D0121.dcm', 'D0122.dcm', 'D0123.dcm', 'D0124.dcm', 'D0125.dcm', 'D0126.dcm', 'D0127.dcm', 'D0128.dcm', 'D0129.dcm', 'D0130.dcm', 'D0131.dcm', 'D0132.dcm', 'D0133.dcm', 'D0134.dcm', 'D0135.dcm', 'D0136.dcm', 'D0137.dcm', 'D0138.dcm', 'D0139.dcm', 'D0140.dcm', 'D0141.dcm', 'D0142.dcm', 'D0143.dcm', 'D0144.dcm', 'D0145.dcm', 'D0146.dcm', 'D0147.dcm', 'D0148.dcm', 'D0149.dcm', 'D0150.dcm', 'D0151.dcm', 'D0152.dcm', 'D0153.dcm', 'D0154.dcm', 'D0155.dcm', 'D0156.dcm', 'D0157.dcm', 'D0158.dcm', 'D0159.dcm', 'D0160.dcm', 'D0161.dcm', 'D0162.dcm', 'D0163.dcm', 'D0164.dcm', 'D0165.dcm', 'D0166.dcm', 'D0167.dcm', 'D0168.dcm', 'D0169.dcm', 'D0170.dcm', 'D0171.dcm', 'D0172.dcm', 'D0173.dcm', 'D0174.dcm', 'D0175.dcm', 'D0176.dcm', 'D0177.dcm', 'D0178.dcm', 'D0179.dcm', 'D0180.dcm', 'D0181.dcm', 'D0182.dcm', 'D0183.dcm', 'D0184.dcm', 'D0185.dcm', 'D0186.dcm', 'D0187.dcm', 'D0188.dcm', 'D0189.dcm']\n"
     ]
    }
   ],
   "source": [
    "path = \"./PAT034\"\n",
    "dcm_paths = os.listdir(path)\n",
    "\n",
    "print(dcm_paths)"
   ]
  },
  {
   "cell_type": "markdown",
   "metadata": {},
   "source": [
    "---\n",
    "- #  Read all the dicom files in the dcm_paths\n"
   ]
  },
  {
   "cell_type": "code",
   "execution_count": 3,
   "metadata": {},
   "outputs": [
    {
     "name": "stdout",
     "output_type": "stream",
     "text": [
      "Dataset.file_meta -------------------------------\n",
      "(0002, 0000) File Meta Information Group Length  UL: 210\n",
      "(0002, 0001) File Meta Information Version       OB: b'\\x00\\x01'\n",
      "(0002, 0002) Media Storage SOP Class UID         UI: CT Image Storage\n",
      "(0002, 0003) Media Storage SOP Instance UID      UI: 1.3.6.1.4.1.9590.100.1.2.214408481411028294912321317190122210624\n",
      "(0002, 0010) Transfer Syntax UID                 UI: Explicit VR Little Endian\n",
      "(0002, 0012) Implementation Class UID            UI: 1.3.6.1.4.1.9590.100.1.3.100.9.4\n",
      "(0002, 0013) Implementation Version Name         SH: 'MATLAB IPT 9.4'\n",
      "-------------------------------------------------\n",
      "(0008, 0005) Specific Character Set              CS: 'ISO_IR 100'\n",
      "(0008, 0008) Image Type                          CS: ['ORIGINAL', 'PRIMARY', 'AXIAL', 'HELICAL']\n",
      "(0008, 0012) Instance Creation Date              DA: '0'\n",
      "(0008, 0013) Instance Creation Time              TM: '160223.640'\n",
      "(0008, 0016) SOP Class UID                       UI: CT Image Storage\n",
      "(0008, 0018) SOP Instance UID                    UI: 1.3.6.1.4.1.9590.100.1.2.214408481411028294912321317190122210624\n",
      "(0008, 0020) Study Date                          DA: '0'\n",
      "(0008, 0022) Acquisition Date                    DA: '0'\n",
      "(0008, 0023) Content Date                        DA: '0'\n",
      "(0008, 0030) Study Time                          TM: '0'\n",
      "(0008, 0032) Acquisition Time                    TM: '0'\n",
      "(0008, 0033) Content Time                        TM: '0'\n",
      "(0008, 0050) Accession Number                    SH: '0'\n",
      "(0008, 0060) Modality                            CS: 'CT'\n",
      "(0008, 0070) Manufacturer                        LO: '0'\n",
      "(0008, 0080) Institution Name                    LO: '0'\n",
      "(0008, 0090) Referring Physician's Name          PN: ''\n",
      "(0008, 1030) Study Description                   LO: '0'\n",
      "(0008, 103e) Series Description                  LO: ''\n",
      "(0008, 1070) Operators' Name                     PN: ''\n",
      "(0008, 1090) Manufacturer's Model Name           LO: 'NeuViz 16'\n",
      "(0010, 0010) Patient's Name                      PN: ''\n",
      "(0010, 0020) Patient ID                          LO: ''\n",
      "(0010, 0030) Patient's Birth Date                DA: ''\n",
      "(0010, 0040) Patient's Sex                       CS: 'M'\n",
      "(0010, 1010) Patient's Age                       AS: '080Y'\n",
      "(0010, 1020) Patient's Size                      DS: '0.0'\n",
      "(0010, 1030) Patient's Weight                    DS: '0.0'\n",
      "(0010, 4000) Patient Comments                    LT: ''\n",
      "(0018, 0010) Contrast/Bolus Agent                LO: 'C+'\n",
      "(0018, 0022) Scan Options                        CS: 'HELICAL'\n",
      "(0018, 0050) Slice Thickness                     DS: '1.0'\n",
      "(0018, 0060) KVP                                 DS: '120.0'\n",
      "(0018, 0090) Data Collection Diameter            DS: '500.0'\n",
      "(0018, 1020) Software Versions                   LO: 'NeuViz 16 1.1'\n",
      "(0018, 1030) Protocol Name                       LO: 'PE Test Bolus'\n",
      "(0018, 1050) Spatial Resolution                  DS: '0.35'\n",
      "(0018, 1100) Reconstruction Diameter             DS: '363.0'\n",
      "(0018, 1110) Distance Source to Detector         DS: '1040.0'\n",
      "(0018, 1111) Distance Source to Patient          DS: '570.0'\n",
      "(0018, 1120) Gantry/Detector Tilt                DS: '0.0'\n",
      "(0018, 1130) Table Height                        DS: '368.9'\n",
      "(0018, 1140) Rotation Direction                  CS: 'CW'\n",
      "(0018, 1150) Exposure Time                       IS: '11162'\n",
      "(0018, 1151) X-Ray Tube Current                  IS: '275'\n",
      "(0018, 1152) Exposure                            IS: '170'\n",
      "(0018, 1160) Filter Type                         SH: 'SA'\n",
      "(0018, 1210) Convolution Kernel                  SH: 'SA'\n",
      "(0018, 5100) Patient Position                    CS: 'HFS'\n",
      "(0020, 000d) Study Instance UID                  UI: 0\n",
      "(0020, 000e) Series Instance UID                 UI: 0\n",
      "(0020, 0010) Study ID                            SH: '0'\n",
      "(0020, 0011) Series Number                       IS: '5'\n",
      "(0020, 0012) Acquisition Number                  IS: '4'\n",
      "(0020, 0013) Instance Number                     IS: '11'\n",
      "(0020, 0032) Image Position (Patient)            DS: [-146.5, -181.5, -785.5]\n",
      "(0020, 0037) Image Orientation (Patient)         DS: [1, 0, 0, 0, 1, 0]\n",
      "(0020, 0052) Frame of Reference UID              UI: 1.2.156.14702.1.1000.16.3.164.20150929154649015\n",
      "(0020, 1040) Position Reference Indicator        LO: ''\n",
      "(0020, 1041) Slice Location                      DS: '785.5'\n",
      "(0028, 0002) Samples per Pixel                   US: 1\n",
      "(0028, 0004) Photometric Interpretation          CS: 'MONOCHROME2'\n",
      "(0028, 0010) Rows                                US: 512\n",
      "(0028, 0011) Columns                             US: 512\n",
      "(0028, 0030) Pixel Spacing                       DS: [0.708984, 0.708984]\n",
      "(0028, 0100) Bits Allocated                      US: 16\n",
      "(0028, 0101) Bits Stored                         US: 16\n",
      "(0028, 0102) High Bit                            US: 15\n",
      "(0028, 0103) Pixel Representation                US: 0\n",
      "(0028, 0106) Smallest Image Pixel Value          US: 0\n",
      "(0028, 0107) Largest Image Pixel Value           US: 2208\n",
      "(0028, 1050) Window Center                       DS: '90.0'\n",
      "(0028, 1051) Window Width                        DS: '500.0'\n",
      "(0028, 1052) Rescale Intercept                   DS: '-1024.0'\n",
      "(0028, 1053) Rescale Slope                       DS: '1.0'\n",
      "(7fe0, 0010) Pixel Data                          OW: Array of 524288 elements\n"
     ]
    }
   ],
   "source": [
    "dcm_files = []\n",
    "\n",
    "for file_name in dcm_paths:\n",
    "    full_path = path + f\"/{file_name}\"\n",
    "    temp_dicom = dicom.dcmread(full_path)\n",
    "    dcm_files.append(temp_dicom)\n",
    "\n",
    "print(dcm_files[10]) # print out the 10th file\n",
    "    "
   ]
  },
  {
   "cell_type": "markdown",
   "metadata": {},
   "source": [
    "---\n",
    "- #  Sort the files by attribute: <i><b>ImagePositionPatient</b> \n",
    "## => ImagePositionPatient: position of the slice in patient's body (3D)\n"
   ]
  },
  {
   "cell_type": "code",
   "execution_count": 4,
   "metadata": {},
   "outputs": [
    {
     "name": "stdout",
     "output_type": "stream",
     "text": [
      "[-146.5, -181.5, -795.5]\n",
      "[-146.5, -181.5, -794.5]\n",
      "[-146.5, -181.5, -793.5]\n",
      "[-146.5, -181.5, -792.5]\n",
      "[-146.5, -181.5, -791.5]\n",
      "[-146.5, -181.5, -790.5]\n",
      "[-146.5, -181.5, -789.5]\n",
      "[-146.5, -181.5, -788.5]\n",
      "[-146.5, -181.5, -787.5]\n",
      "[-146.5, -181.5, -786.5]\n",
      "[-146.5, -181.5, -785.5]\n",
      "[-146.5, -181.5, -784.5]\n",
      "[-146.5, -181.5, -783.5]\n",
      "[-146.5, -181.5, -782.5]\n",
      "[-146.5, -181.5, -781.5]\n",
      "[-146.5, -181.5, -780.5]\n",
      "[-146.5, -181.5, -779.5]\n",
      "[-146.5, -181.5, -778.5]\n",
      "[-146.5, -181.5, -777.5]\n",
      "[-146.5, -181.5, -776.5]\n",
      "[-146.5, -181.5, -775.5]\n",
      "[-146.5, -181.5, -774.5]\n",
      "[-146.5, -181.5, -773.5]\n",
      "[-146.5, -181.5, -772.5]\n",
      "[-146.5, -181.5, -771.5]\n",
      "[-146.5, -181.5, -770.5]\n",
      "[-146.5, -181.5, -769.5]\n",
      "[-146.5, -181.5, -768.5]\n",
      "[-146.5, -181.5, -767.5]\n",
      "[-146.5, -181.5, -766.5]\n",
      "[-146.5, -181.5, -765.5]\n",
      "[-146.5, -181.5, -764.5]\n",
      "[-146.5, -181.5, -763.5]\n",
      "[-146.5, -181.5, -762.5]\n",
      "[-146.5, -181.5, -761.5]\n",
      "[-146.5, -181.5, -760.5]\n",
      "[-146.5, -181.5, -759.5]\n",
      "[-146.5, -181.5, -758.5]\n",
      "[-146.5, -181.5, -757.5]\n",
      "[-146.5, -181.5, -756.5]\n",
      "[-146.5, -181.5, -755.5]\n",
      "[-146.5, -181.5, -754.5]\n",
      "[-146.5, -181.5, -753.5]\n",
      "[-146.5, -181.5, -752.5]\n",
      "[-146.5, -181.5, -751.5]\n",
      "[-146.5, -181.5, -750.5]\n",
      "[-146.5, -181.5, -749.5]\n",
      "[-146.5, -181.5, -748.5]\n",
      "[-146.5, -181.5, -747.5]\n",
      "[-146.5, -181.5, -746.5]\n",
      "[-146.5, -181.5, -745.5]\n",
      "[-146.5, -181.5, -744.5]\n",
      "[-146.5, -181.5, -743.5]\n",
      "[-146.5, -181.5, -742.5]\n",
      "[-146.5, -181.5, -741.5]\n",
      "[-146.5, -181.5, -740.5]\n",
      "[-146.5, -181.5, -739.5]\n",
      "[-146.5, -181.5, -738.5]\n",
      "[-146.5, -181.5, -737.5]\n",
      "[-146.5, -181.5, -736.5]\n",
      "[-146.5, -181.5, -735.5]\n",
      "[-146.5, -181.5, -734.5]\n",
      "[-146.5, -181.5, -733.5]\n",
      "[-146.5, -181.5, -732.5]\n",
      "[-146.5, -181.5, -731.5]\n",
      "[-146.5, -181.5, -730.5]\n",
      "[-146.5, -181.5, -729.5]\n",
      "[-146.5, -181.5, -728.5]\n",
      "[-146.5, -181.5, -727.5]\n",
      "[-146.5, -181.5, -726.5]\n",
      "[-146.5, -181.5, -725.5]\n",
      "[-146.5, -181.5, -724.5]\n",
      "[-146.5, -181.5, -723.5]\n",
      "[-146.5, -181.5, -722.5]\n",
      "[-146.5, -181.5, -721.5]\n",
      "[-146.5, -181.5, -720.5]\n",
      "[-146.5, -181.5, -719.5]\n",
      "[-146.5, -181.5, -718.5]\n",
      "[-146.5, -181.5, -717.5]\n",
      "[-146.5, -181.5, -716.5]\n",
      "[-146.5, -181.5, -715.5]\n",
      "[-146.5, -181.5, -714.5]\n",
      "[-146.5, -181.5, -713.5]\n",
      "[-146.5, -181.5, -712.5]\n",
      "[-146.5, -181.5, -711.5]\n",
      "[-146.5, -181.5, -710.5]\n",
      "[-146.5, -181.5, -709.5]\n",
      "[-146.5, -181.5, -708.5]\n",
      "[-146.5, -181.5, -707.5]\n",
      "[-146.5, -181.5, -706.5]\n",
      "[-146.5, -181.5, -705.5]\n",
      "[-146.5, -181.5, -704.5]\n",
      "[-146.5, -181.5, -703.5]\n",
      "[-146.5, -181.5, -702.5]\n",
      "[-146.5, -181.5, -701.5]\n",
      "[-146.5, -181.5, -700.5]\n",
      "[-146.5, -181.5, -699.5]\n",
      "[-146.5, -181.5, -698.5]\n",
      "[-146.5, -181.5, -697.5]\n",
      "[-146.5, -181.5, -696.5]\n",
      "[-146.5, -181.5, -695.5]\n",
      "[-146.5, -181.5, -694.5]\n",
      "[-146.5, -181.5, -693.5]\n",
      "[-146.5, -181.5, -692.5]\n",
      "[-146.5, -181.5, -691.5]\n",
      "[-146.5, -181.5, -690.5]\n",
      "[-146.5, -181.5, -689.5]\n",
      "[-146.5, -181.5, -688.5]\n",
      "[-146.5, -181.5, -687.5]\n",
      "[-146.5, -181.5, -686.5]\n",
      "[-146.5, -181.5, -685.5]\n",
      "[-146.5, -181.5, -684.5]\n",
      "[-146.5, -181.5, -683.5]\n",
      "[-146.5, -181.5, -682.5]\n",
      "[-146.5, -181.5, -681.5]\n",
      "[-146.5, -181.5, -680.5]\n",
      "[-146.5, -181.5, -679.5]\n",
      "[-146.5, -181.5, -678.5]\n",
      "[-146.5, -181.5, -677.5]\n",
      "[-146.5, -181.5, -676.5]\n",
      "[-146.5, -181.5, -675.5]\n",
      "[-146.5, -181.5, -674.5]\n",
      "[-146.5, -181.5, -673.5]\n",
      "[-146.5, -181.5, -672.5]\n",
      "[-146.5, -181.5, -671.5]\n",
      "[-146.5, -181.5, -670.5]\n",
      "[-146.5, -181.5, -669.5]\n",
      "[-146.5, -181.5, -668.5]\n",
      "[-146.5, -181.5, -667.5]\n",
      "[-146.5, -181.5, -666.5]\n",
      "[-146.5, -181.5, -665.5]\n",
      "[-146.5, -181.5, -664.5]\n",
      "[-146.5, -181.5, -663.5]\n",
      "[-146.5, -181.5, -662.5]\n",
      "[-146.5, -181.5, -661.5]\n",
      "[-146.5, -181.5, -660.5]\n",
      "[-146.5, -181.5, -659.5]\n",
      "[-146.5, -181.5, -658.5]\n",
      "[-146.5, -181.5, -657.5]\n",
      "[-146.5, -181.5, -656.5]\n",
      "[-146.5, -181.5, -655.5]\n",
      "[-146.5, -181.5, -654.5]\n",
      "[-146.5, -181.5, -653.5]\n",
      "[-146.5, -181.5, -652.5]\n",
      "[-146.5, -181.5, -651.5]\n",
      "[-146.5, -181.5, -650.5]\n",
      "[-146.5, -181.5, -649.5]\n",
      "[-146.5, -181.5, -648.5]\n",
      "[-146.5, -181.5, -647.5]\n",
      "[-146.5, -181.5, -646.5]\n",
      "[-146.5, -181.5, -645.5]\n",
      "[-146.5, -181.5, -644.5]\n",
      "[-146.5, -181.5, -643.5]\n",
      "[-146.5, -181.5, -642.5]\n",
      "[-146.5, -181.5, -641.5]\n",
      "[-146.5, -181.5, -640.5]\n",
      "[-146.5, -181.5, -639.5]\n",
      "[-146.5, -181.5, -638.5]\n",
      "[-146.5, -181.5, -637.5]\n",
      "[-146.5, -181.5, -636.5]\n",
      "[-146.5, -181.5, -635.5]\n",
      "[-146.5, -181.5, -634.5]\n",
      "[-146.5, -181.5, -633.5]\n",
      "[-146.5, -181.5, -632.5]\n",
      "[-146.5, -181.5, -631.5]\n",
      "[-146.5, -181.5, -630.5]\n",
      "[-146.5, -181.5, -629.5]\n",
      "[-146.5, -181.5, -628.5]\n",
      "[-146.5, -181.5, -627.5]\n",
      "[-146.5, -181.5, -626.5]\n",
      "[-146.5, -181.5, -625.5]\n",
      "[-146.5, -181.5, -624.5]\n",
      "[-146.5, -181.5, -623.5]\n",
      "[-146.5, -181.5, -622.5]\n",
      "[-146.5, -181.5, -621.5]\n",
      "[-146.5, -181.5, -620.5]\n",
      "[-146.5, -181.5, -619.5]\n",
      "[-146.5, -181.5, -618.5]\n",
      "[-146.5, -181.5, -617.5]\n",
      "[-146.5, -181.5, -616.5]\n",
      "[-146.5, -181.5, -615.5]\n",
      "[-146.5, -181.5, -614.5]\n",
      "[-146.5, -181.5, -613.5]\n",
      "[-146.5, -181.5, -612.5]\n",
      "[-146.5, -181.5, -611.5]\n",
      "[-146.5, -181.5, -610.5]\n",
      "[-146.5, -181.5, -609.5]\n",
      "[-146.5, -181.5, -608.5]\n",
      "[-146.5, -181.5, -607.5]\n"
     ]
    }
   ],
   "source": [
    "dcm_files = sorted(dcm_files, key = lambda file: file.ImagePositionPatient[2]) #sort by z-axis\n",
    "\n",
    "for file in dcm_files:\n",
    "    print(file.ImagePositionPatient)"
   ]
  },
  {
   "cell_type": "markdown",
   "metadata": {},
   "source": [
    "---\n",
    "- #  Get <i><b>pixel spacing</b></i> & <i><b>slice_thickness</b></i>\n"
   ]
  },
  {
   "cell_type": "markdown",
   "metadata": {},
   "source": [
    "Pixel spacing and slice thickness are essential attributes in DICOM files that provide critical information about the size and spacing of pixels (2D images) or voxels (3D volumes) in medical images. They play a role in helping classify DICOM files into axial, coronal, or sagittal views."
   ]
  },
  {
   "cell_type": "markdown",
   "metadata": {},
   "source": [
    "## <ul> 1. Pixel Spacing:\n",
    "<li> Definition: Pixel spacing specifies the physical size of each pixel in the X and Y dimensions of a 2D image, typically in millimeters. It determines the dimensions of the pixel grid that represents the 2D image.\n",
    "<li> Role in Classification:\n",
    "<ul> \n",
    "    <li> In an axial view, the pixel spacing in the X and Y dimensions is roughly equal, and the slice thickness (Z spacing) is usually greater. The Z spacing represents the space between consecutive axial slices.\n",
    "    <li> In a coronal view, the pixel spacing in the X dimension is larger than in the Y dimension.\n",
    "    <li> In a sagittal view, the pixel spacing in the Y dimension is larger than in the X dimension.\n",
    "</ul>\n",
    "<li> Pixel spacing is used along with the slice thickness to determine the orientation and aspect ratio of the image grid, which helps classify the image view.\n",
    "</ul>\n",
    "\n",
    "## <ul> 2. Slice Thickness:\n",
    "<li> Definition: Slice thickness represents the physical distance between adjacent image slices (axial slices in particular), typically in millimeters. It provides information about the separation between consecutive slices.\n",
    "<li> Role in Classification:\n",
    "<ul>\n",
    "    <li> In an axial view, slice thickness is often greater, indicating that the spacing between slices along the Z-axis is significant.\n",
    "    <li> In a coronal view, slice thickness may be smaller, as the spacing between coronal slices is typically less.\n",
    "    <li> In a sagittal view, slice thickness can also be smaller, indicating a closer spacing between sagittal slices.\n",
    "</ul>\n",
    "<li> Slice thickness is used to identify the spacing between the slices and is one of the factors used for view classification.\n",
    "</ul>\n"
   ]
  },
  {
   "cell_type": "code",
   "execution_count": 5,
   "metadata": {},
   "outputs": [
    {
     "name": "stdout",
     "output_type": "stream",
     "text": [
      "pixel spacing: [0.708984, 0.708984]\n",
      "slice thickness: 1\n"
     ]
    }
   ],
   "source": [
    "pixel_spacings = dcm_files[0].PixelSpacing\n",
    "slice_thickness = dcm_files[0].SliceThickness\n",
    "print(f\"pixel spacing: {pixel_spacings}\")\n",
    "print(f\"slice thickness: {slice_thickness}\")\n"
   ]
  },
  {
   "cell_type": "markdown",
   "metadata": {},
   "source": [
    "---\n",
    "- #  Get Aspect Ratios of coordinates"
   ]
  },
  {
   "cell_type": "code",
   "execution_count": 6,
   "metadata": {},
   "outputs": [
    {
     "name": "stdout",
     "output_type": "stream",
     "text": [
      "axial ratio = 1.0\n",
      "sagital ratio = 0.708984\n",
      "coronal ratio = 1.4104690655924534\n"
     ]
    }
   ],
   "source": [
    "axial_aspect_ratio = pixel_spacings[1] / pixel_spacings[0] # y / x\n",
    "sagital_aspect_ratios = pixel_spacings[1] / slice_thickness # y / z\n",
    "coronal_aspect_ratios = slice_thickness / pixel_spacings[0] # z / x\n",
    "\n",
    "print(f\"axial ratio = {axial_aspect_ratio}\")\n",
    "print(f\"sagital ratio = {sagital_aspect_ratios}\")\n",
    "print(f\"coronal ratio = {coronal_aspect_ratios}\")"
   ]
  },
  {
   "cell_type": "markdown",
   "metadata": {},
   "source": [
    "- #  Get <b><i>3D</i></b> Image Shape"
   ]
  },
  {
   "cell_type": "code",
   "execution_count": 7,
   "metadata": {},
   "outputs": [
    {
     "name": "stdout",
     "output_type": "stream",
     "text": [
      "(512, 512, 189)\n"
     ]
    }
   ],
   "source": [
    "image_shape_x = dcm_files[0].pixel_array.shape[0]\n",
    "image_shape_y = dcm_files[0].pixel_array.shape[1]\n",
    "image_shape_z = len(dcm_files)\n",
    "\n",
    "image_shape = (image_shape_x, image_shape_y, image_shape_z)\n",
    "\n",
    "print(image_shape)\n"
   ]
  },
  {
   "cell_type": "markdown",
   "metadata": {},
   "source": [
    "---\n",
    "#  Create multiple perspective image"
   ]
  },
  {
   "cell_type": "markdown",
   "metadata": {},
   "source": [
    " - ### Create <b><i>volume<i></b> for 3D Image (3D matrix)"
   ]
  },
  {
   "cell_type": "code",
   "execution_count": 8,
   "metadata": {},
   "outputs": [],
   "source": [
    "img_3d_matrix = np.zeros(image_shape) # create zeros 3d matrix "
   ]
  },
  {
   "cell_type": "markdown",
   "metadata": {},
   "source": [
    "- ### Insert values for the 3D matrix"
   ]
  },
  {
   "cell_type": "code",
   "execution_count": 9,
   "metadata": {},
   "outputs": [
    {
     "name": "stdout",
     "output_type": "stream",
     "text": [
      "[[[  25.   22.   15. ...   32.   35.   25.]\n",
      "  [  28.   24.   28. ...   27.   30.   27.]\n",
      "  [  33.   31.   31. ...   20.   16.   27.]\n",
      "  ...\n",
      "  [  25.   25.   25. ...   25.   25.   25.]\n",
      "  [  25.   25.   25. ...   25.   25.   25.]\n",
      "  [  25.   25.   25. ...   25.   25.   25.]]\n",
      "\n",
      " [[  14.   17.   23. ...   28.   42.   25.]\n",
      "  [  27.   23.   23. ...   37.   42.   22.]\n",
      "  [  30.   32.   25. ...   29.   19.   22.]\n",
      "  ...\n",
      "  [  25.   25.   25. ...   25.   25.   25.]\n",
      "  [  25.   25.   25. ...   25.   25.   25.]\n",
      "  [  25.   25.   25. ...   25.   25.   25.]]\n",
      "\n",
      " [[   4.   26.   22. ...   26.   37.   25.]\n",
      "  [  16.   20.   26. ...   39.   46.   24.]\n",
      "  [  30.   28.   35. ...   33.   32.   25.]\n",
      "  ...\n",
      "  [  25.   25.   25. ...   25.   25.   25.]\n",
      "  [  25.   25.   25. ...   25.   25.   25.]\n",
      "  [  25.   25.   25. ...   25.   25.   25.]]\n",
      "\n",
      " ...\n",
      "\n",
      " [[ 648.  627.  621. ...   42.   41.   27.]\n",
      "  [ 868.  852.  849. ...   45.   39.   26.]\n",
      "  [1064. 1059. 1046. ...   45.   32.   31.]\n",
      "  ...\n",
      "  [  25.   25.   25. ...   25.   25.   25.]\n",
      "  [  25.   25.   25. ...   25.   25.   25.]\n",
      "  [  25.   25.   25. ...   25.   25.   25.]]\n",
      "\n",
      " [[ 377.  368.  371. ...   41.   28.   21.]\n",
      "  [ 554.  562.  559. ...   37.   29.   30.]\n",
      "  [ 765.  763.  750. ...   37.   35.   40.]\n",
      "  ...\n",
      "  [  25.   25.   25. ...   25.   25.   25.]\n",
      "  [  25.   25.   25. ...   25.   25.   25.]\n",
      "  [  25.   25.   25. ...   25.   25.   25.]]\n",
      "\n",
      " [[ 173.  177.  185. ...   38.   32.   25.]\n",
      "  [ 287.  295.  292. ...   34.   30.   33.]\n",
      "  [ 479.  472.  452. ...   31.   29.   33.]\n",
      "  ...\n",
      "  [  25.   25.   25. ...   25.   25.   25.]\n",
      "  [  25.   25.   25. ...   25.   25.   25.]\n",
      "  [  25.   25.   25. ...   25.   25.   25.]]]\n"
     ]
    }
   ],
   "source": [
    "# Create a list contains all the slice image (2D matrices)\n",
    "slice_imgs = []\n",
    "for file in dcm_files:\n",
    "    slice_imgs.append(file.pixel_array)\n",
    "\n",
    "# Insert each slice into 3d image (3D matrix)\n",
    "for i in range(image_shape_z):\n",
    "    slice_img = slice_imgs[i]\n",
    "    img_3d_matrix[:, :, i] = slice_img\n",
    "\n",
    "print(img_3d_matrix)"
   ]
  },
  {
   "cell_type": "code",
   "execution_count": 10,
   "metadata": {},
   "outputs": [
    {
     "data": {
      "image/png": "[encoded data removed]",
      "text/plain": [
       "<Figure size 640x480 with 3 Axes>"
      ]
     },
     "metadata": {},
     "output_type": "display_data"
    }
   ],
   "source": [
    "axial = plt.subplot(1, 3, 1)\n",
    "plt.title(\"Axial\")\n",
    "plt.imshow(img_3d_matrix[:, :, image_shape_z//2], cmap=\"gray\")\n",
    "axial.set_aspect(axial_aspect_ratio)\n",
    "\n",
    "sagital = plt.subplot(1, 3, 2)\n",
    "plt.title(\"Sagital\")\n",
    "plt.imshow(img_3d_matrix[:, image_shape_y//2,:], cmap=\"gray\")\n",
    "sagital.set_aspect(0.5)\n",
    "\n",
    "coronal = plt.subplot(1, 3, 3)\n",
    "plt.title(\"Coronal\")\n",
    "plt.imshow(img_3d_matrix[image_shape_x//2, :, :], cmap=\"gray\")\n",
    "coronal.set_aspect(0.5)\n",
    "plt.show()\n"
   ]
  },
  {
   "cell_type": "markdown",
   "metadata": {},
   "source": [
    "# export sagital images"
   ]
  },
  {
   "cell_type": "code",
   "execution_count": 11,
   "metadata": {},
   "outputs": [],
   "source": [
    "for i in range(image_shape_y):\n",
    "    plt.imsave(f\"./sagital_imgs_output/sagital0{i}.jpg\", img_3d_matrix[:, i, :], cmap = \"gray\")"
   ]
  },
  {
   "cell_type": "markdown",
   "metadata": {},
   "source": [
    "# export coronal images"
   ]
  },
  {
   "cell_type": "code",
   "execution_count": 15,
   "metadata": {},
   "outputs": [],
   "source": [
    "for i in range(image_shape_y):\n",
    "    plt.imsave(f\"./coronal_imgs_output/coronal0{i}.jpg\", img_3d_matrix[i,: , :], cmap = \"gray\")"
   ]
  }
 ],
 "metadata": {
  "kernelspec": {
   "display_name": "Python 3",
   "language": "python",
   "name": "python3"
  },
  "language_info": {
   "codemirror_mode": {
    "name": "ipython",
    "version": 3
   },
   "file_extension": ".py",
   "mimetype": "text/x-python",
   "name": "python",
   "nbconvert_exporter": "python",
   "pygments_lexer": "ipython3",
   "version": "3.11.3"
  },
  "orig_nbformat": 4
 },
 "nbformat": 4,
 "nbformat_minor": 2
}
