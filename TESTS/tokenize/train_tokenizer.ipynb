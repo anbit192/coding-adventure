{
 "cells": [
  {
   "cell_type": "code",
   "execution_count": 2,
   "metadata": {},
   "outputs": [],
   "source": [
    "from underthesea import word_tokenize\n",
    "import pandas as pd\n",
    "import numpy as np"
   ]
  },
  {
   "cell_type": "code",
   "execution_count": 8,
   "metadata": {},
   "outputs": [
    {
     "data": {
      "text/plain": [
       "(21304, 4)"
      ]
     },
     "execution_count": 8,
     "metadata": {},
     "output_type": "execute_result"
    }
   ],
   "source": [
    "df = pd.read_csv(\"../data/openhust_with_id.csv\")\n",
    "df.shape"
   ]
  },
  {
   "cell_type": "code",
   "execution_count": 12,
   "metadata": {},
   "outputs": [],
   "source": [
    "test_sentence = df[\"Document\"][192]\n",
    "segmented_sentence = word_tokenize(test_sentence)\n"
   ]
  },
  {
   "cell_type": "code",
   "execution_count": 15,
   "metadata": {},
   "outputs": [
    {
     "name": "stdout",
     "output_type": "stream",
     "text": [
      "nạn_nhân\n",
      "phụ_nữ\n",
      "bất_ngờ\n",
      "tấn_công\n",
      "công_viên\n",
      "Anthony_Chabot\n",
      "San_Francisco\n",
      "tự_vệ\n",
      "nạn_nhân\n",
      "Angeles_Times\n",
      "cảnh_sát\n",
      "địa_phương\n",
      "thú_cưng\n",
      "nạn_nhân\n",
      "cố_gắng\n",
      "tấn_công\n",
      "thương_tích\n",
      "cảnh_sát\n",
      "Nghi_phạm\n",
      "Alma_Cadwalader\n",
      "cáo_buộc\n",
      "hành_hung\n",
      "thương_tích\n",
      "nghiêm_trọng\n",
      "ý_đồ\n",
      "tước_đoạt\n",
      "nạn_nhân\n",
      "An_Hồng\n"
     ]
    }
   ],
   "source": [
    "for word in segmented_sentence:\n",
    "    if (\" \" in word):\n",
    "        word = word.replace(\" \",\"_\")\n",
    "        "
   ]
  }
 ],
 "metadata": {
  "kernelspec": {
   "display_name": "Python 3",
   "language": "python",
   "name": "python3"
  },
  "language_info": {
   "codemirror_mode": {
    "name": "ipython",
    "version": 3
   },
   "file_extension": ".py",
   "mimetype": "text/x-python",
   "name": "python",
   "nbconvert_exporter": "python",
   "pygments_lexer": "ipython3",
   "version": "3.11.3"
  }
 },
 "nbformat": 4,
 "nbformat_minor": 2
}
