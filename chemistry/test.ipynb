{
 "cells": [
  {
   "cell_type": "code",
   "execution_count": 1,
   "metadata": {},
   "outputs": [
    {
     "ename": "ModuleNotFoundError",
     "evalue": "No module named 'deap'",
     "output_type": "error",
     "traceback": [
      "\u001b[1;31m---------------------------------------------------------------------------\u001b[0m",
      "\u001b[1;31mModuleNotFoundError\u001b[0m                       Traceback (most recent call last)",
      "Cell \u001b[1;32mIn[1], line 3\u001b[0m\n\u001b[0;32m      1\u001b[0m \u001b[38;5;28;01mimport\u001b[39;00m \u001b[38;5;21;01mrandom\u001b[39;00m\n\u001b[0;32m      2\u001b[0m \u001b[38;5;28;01mimport\u001b[39;00m \u001b[38;5;21;01mnumpy\u001b[39;00m \u001b[38;5;28;01mas\u001b[39;00m \u001b[38;5;21;01mnp\u001b[39;00m\n\u001b[1;32m----> 3\u001b[0m \u001b[38;5;28;01mfrom\u001b[39;00m \u001b[38;5;21;01mdeap\u001b[39;00m \u001b[38;5;28;01mimport\u001b[39;00m base, creator, tools, algorithms\n\u001b[0;32m      4\u001b[0m \u001b[38;5;28;01mimport\u001b[39;00m \u001b[38;5;21;01mmath\u001b[39;00m\n\u001b[0;32m      6\u001b[0m \u001b[38;5;66;03m# Định nghĩa hàm mục tiêu\u001b[39;00m\n",
      "\u001b[1;31mModuleNotFoundError\u001b[0m: No module named 'deap'"
     ]
    }
   ],
   "source": [
    "import random\n",
    "import numpy as np\n",
    "from deap import base, creator, tools, algorithms\n",
    "import math\n",
    "\n",
    "# Định nghĩa hàm mục tiêu\n",
    "def objective_function(individual):\n",
    "    x, y = individual\n",
    "    return math.exp((x - 7) * 2 + (y - 9) * 2),\n",
    "\n",
    "# Thiết lập thuật giải di truyền\n",
    "creator.create(\"FitnessMin\", base.Fitness, weights=(-1.0,))  # Tìm giá trị nhỏ nhất\n",
    "creator.create(\"Individual\", list, fitness=creator.FitnessMin)\n",
    "\n",
    "toolbox = base.Toolbox()\n",
    "toolbox.register(\"attr_float\", random.uniform, -10, 10)  # Miền giá trị của x, y\n",
    "toolbox.register(\"individual\", tools.initRepeat, creator.Individual, toolbox.attr_float, 2)\n",
    "toolbox.register(\"population\", tools.initRepeat, list, toolbox.individual)\n",
    "\n",
    "toolbox.register(\"evaluate\", objective_function)\n",
    "toolbox.register(\"mate\", tools.cxBlend, alpha=0.5)\n",
    "toolbox.register(\"mutate\", tools.mutGaussian, mu=0, sigma=1, indpb=0.2)\n",
    "toolbox.register(\"select\", tools.selTournament, tournsize=3)\n",
    "\n",
    "# Các thông số thuật giải\n",
    "POP_SIZE = 100  # Số cá thể trong quần thể\n",
    "GENS = 50       # Số thế hệ\n",
    "CX_PROB = 0.7   # Xác suất lai ghép\n",
    "MUT_PROB = 0.2  # Xác suất đột biến\n",
    "\n",
    "# Trường hợp 1: Không giữ lại cá thể tinh hoa\n",
    "def genetic_algorithm_without_elitism():\n",
    "    population = toolbox.population(n=POP_SIZE)\n",
    "    algorithms.eaSimple(population, toolbox, cxpb=CX_PROB, mutpb=MUT_PROB, ngen=GENS, verbose=True)\n",
    "    best_individual = tools.selBest(population, k=1)[0]\n",
    "    return best_individual, best_individual.fitness.values[0]\n",
    "\n",
    "# Trường hợp 2: Giữ lại cá thể tinh hoa\n",
    "def genetic_algorithm_with_elitism():\n",
    "    population = toolbox.population(n=POP_SIZE)\n",
    "    algorithms.eaMuPlusLambda(population, toolbox, mu=POP_SIZE, lambda_=POP_SIZE, cxpb=CX_PROB, mutpb=MUT_PROB, ngen=GENS, verbose=True)\n",
    "    best_individual = tools.selBest(population, k=1)[0]\n",
    "    return best_individual, best_individual.fitness.values[0]\n",
    "\n",
    "# Chạy thuật giải di truyền cho từng trường hợp\n",
    "best_individual_without_elitism, min_value_without_elitism = genetic_algorithm_without_elitism()\n",
    "print(\"Trường hợp không giữ lại cá thể tinh hoa:\")\n",
    "print(\"Cá thể tốt nhất:\", best_individual_without_elitism)\n",
    "print(\"Giá trị nhỏ nhất:\", min_value_without_elitism)\n",
    "\n",
    "best_individual_with_elitism, min_value_with_elitism = genetic_algorithm_with_elitism()\n",
    "print(\"\\nTrường hợp giữ lại cá thể tinh hoa:\")\n",
    "print(\"Cá thể tốt nhất:\", best_individual_with_elitism)\n",
    "print(\"Giá trị nhỏ nhất:\", min_value_with_elitism)"
   ]
  }
 ],
 "metadata": {
  "kernelspec": {
   "display_name": "Python 3",
   "language": "python",
   "name": "python3"
  },
  "language_info": {
   "codemirror_mode": {
    "name": "ipython",
    "version": 3
   },
   "file_extension": ".py",
   "mimetype": "text/x-python",
   "name": "python",
   "nbconvert_exporter": "python",
   "pygments_lexer": "ipython3",
   "version": "3.11.3"
  }
 },
 "nbformat": 4,
 "nbformat_minor": 2
}
