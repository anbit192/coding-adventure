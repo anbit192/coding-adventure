{
 "cells": [
  {
   "cell_type": "code",
   "execution_count": 104,
   "metadata": {},
   "outputs": [],
   "source": [
    "import numpy as np"
   ]
  },
  {
   "cell_type": "markdown",
   "metadata": {},
   "source": [
    "- data prepare"
   ]
  },
  {
   "cell_type": "markdown",
   "metadata": {},
   "source": [
    "Prepare 2 group of points, we can achieved this by using means and cov, each group has N = 30 points"
   ]
  },
  {
   "cell_type": "code",
   "execution_count": 105,
   "metadata": {},
   "outputs": [],
   "source": [
    "means = [[2, 2], [4, 2]]\n",
    "cov = [[.3, .2], [.2, .3]]\n",
    "N = 20"
   ]
  },
  {
   "cell_type": "markdown",
   "metadata": {},
   "source": [
    "Assign means[0] to X0, means[1] to X1, and concat both of them as X "
   ]
  },
  {
   "cell_type": "code",
   "execution_count": 106,
   "metadata": {},
   "outputs": [
    {
     "data": {
      "text/plain": [
       "array([[1.87992856, 2.61119362, 2.1034782 , 2.586875  , 2.35761236,\n",
       "        2.46861921, 1.3778957 , 2.00984748, 2.10104014, 1.8966859 ,\n",
       "        2.0170055 , 1.92433458, 1.6760871 , 1.20880454, 1.53651199,\n",
       "        1.3746852 , 2.03455006, 1.45806877, 1.90942496, 2.0012073 ,\n",
       "        4.03034613, 3.68631657, 4.47007535, 3.48099496, 4.18262141,\n",
       "        3.64184894, 3.83027877, 4.20053288, 3.93340502, 4.11665783,\n",
       "        4.32486152, 5.06323271, 3.6642459 , 2.9079072 , 4.20372219,\n",
       "        3.85837433, 4.27867334, 3.77240362, 2.69342755, 3.27187984],\n",
       "       [2.12039108, 2.79021416, 1.63441598, 2.42423075, 1.88982128,\n",
       "        2.39166952, 2.03600591, 1.90641967, 1.68247878, 1.94265607,\n",
       "        2.19675706, 3.04695087, 1.19228084, 1.80181994, 2.54166199,\n",
       "        2.45847555, 1.84700584, 1.24646884, 1.72723196, 1.81304561,\n",
       "        2.09238119, 1.60664521, 2.57694005, 2.05055795, 2.25416678,\n",
       "        1.60647215, 1.6596614 , 1.98512509, 1.57606183, 2.18085299,\n",
       "        1.63617628, 1.65067107, 1.19070097, 0.71833871, 2.23035453,\n",
       "        1.35959126, 2.22254048, 1.76914755, 0.98758533, 1.22034284]])"
      ]
     },
     "execution_count": 106,
     "metadata": {},
     "output_type": "execute_result"
    }
   ],
   "source": [
    "X0 = np.random.multivariate_normal(means[0], cov, N).T\n",
    "X1 = np.random.multivariate_normal(means[1], cov, N).T\n",
    "\n",
    "X = np.concatenate((X0, X1), axis=1)\n",
    "\n",
    "X\n",
    "\n"
   ]
  },
  {
   "cell_type": "markdown",
   "metadata": {},
   "source": [
    "Generate labels for X (X0 = 1, X1 = -1)"
   ]
  },
  {
   "cell_type": "code",
   "execution_count": 107,
   "metadata": {},
   "outputs": [
    {
     "data": {
      "text/plain": [
       "array([ 1.,  1.,  1.,  1.,  1.,  1.,  1.,  1.,  1.,  1.,  1.,  1.,  1.,\n",
       "        1.,  1.,  1.,  1.,  1.,  1.,  1., -1., -1., -1., -1., -1., -1.,\n",
       "       -1., -1., -1., -1., -1., -1., -1., -1., -1., -1., -1., -1., -1.,\n",
       "       -1.])"
      ]
     },
     "execution_count": 107,
     "metadata": {},
     "output_type": "execute_result"
    }
   ],
   "source": [
    "Y = np.concatenate((np.ones((1, N)), -1*np.ones((1, N))), axis=1).flatten()\n",
    "Y"
   ]
  },
  {
   "cell_type": "markdown",
   "metadata": {},
   "source": [
    "Add ones vector to X"
   ]
  },
  {
   "cell_type": "code",
   "execution_count": 108,
   "metadata": {},
   "outputs": [],
   "source": [
    "X = np.concatenate((np.ones((1, X.shape[1])), X), axis=0)\n"
   ]
  },
  {
   "cell_type": "code",
   "execution_count": 109,
   "metadata": {},
   "outputs": [
    {
     "data": {
      "text/plain": [
       "(3, 40)"
      ]
     },
     "execution_count": 109,
     "metadata": {},
     "output_type": "execute_result"
    }
   ],
   "source": [
    "X.shape"
   ]
  },
  {
   "cell_type": "markdown",
   "metadata": {},
   "source": [
    "- Perceptron activation function"
   ]
  },
  {
   "cell_type": "code",
   "execution_count": 110,
   "metadata": {},
   "outputs": [],
   "source": [
    "def activation(w, X):\n",
    "    return np.sign(w.T @ X)"
   ]
  },
  {
   "cell_type": "markdown",
   "metadata": {},
   "source": [
    "- Function to check coverge"
   ]
  },
  {
   "cell_type": "code",
   "execution_count": 111,
   "metadata": {},
   "outputs": [],
   "source": [
    "def check_accuracy(w, X, y_true):\n",
    "    preds = activation(w, X).flatten()\n",
    "    acc = np.mean(preds == y_true)\n",
    "    return acc"
   ]
  },
  {
   "cell_type": "markdown",
   "metadata": {},
   "source": [
    "- Perceptron function"
   ]
  },
  {
   "cell_type": "code",
   "execution_count": 112,
   "metadata": {},
   "outputs": [],
   "source": [
    "def perceptron(X, y, w_init, max_iter=60, eta=0.1, tol=1e-4):\n",
    "    w = w_init\n",
    "\n",
    "    prev_acc = 0\n",
    "    misclassified = False\n",
    "    converged = False\n",
    "\n",
    "    for _ in range(max_iter):\n",
    "        random_index = np.random.permutation(X.shape[1])\n",
    "        X_shuffled, Y_shuffled = X[:, random_index], y[random_index]\n",
    "        for i in range(len(X_shuffled)):\n",
    "            xi = X_shuffled[:, i].reshape(-1, 1)\n",
    "            yi = Y_shuffled[i]\n",
    "\n",
    "            pred_label = activation(w, xi)\n",
    "            if (pred_label != yi):\n",
    "                misclassified = True\n",
    "                w += eta * yi*xi\n",
    "\n",
    "        acc = check_accuracy(w, X, Y)\n",
    "        if (np.abs(acc - prev_acc) < tol):\n",
    "            converged = True\n",
    "            break\n",
    "        else:\n",
    "            prev_acc = acc\n",
    "\n",
    "        if (misclassified == False):\n",
    "            converged = True\n",
    "            break\n",
    "    if (converged == False):\n",
    "        print(\"Not converged yet!\")\n",
    "    return w"
   ]
  },
  {
   "cell_type": "code",
   "execution_count": 127,
   "metadata": {},
   "outputs": [
    {
     "data": {
      "text/plain": [
       "array([[0.10366007],\n",
       "       [2.7553868 ],\n",
       "       [0.86203338]])"
      ]
     },
     "execution_count": 127,
     "metadata": {},
     "output_type": "execute_result"
    }
   ],
   "source": [
    "w_init = np.random.randn(X.shape[0], 1)\n",
    "best_w = perceptron(X, Y, w_init, max_iter=100)\n",
    "# w_init.shape\n",
    "best_w"
   ]
  },
  {
   "cell_type": "markdown",
   "metadata": {},
   "source": [
    "Read this for more info: https://machinelearningcoban.com/2017/01/21/perceptron/"
   ]
  }
 ],
 "metadata": {
  "kernelspec": {
   "display_name": "Python 3",
   "language": "python",
   "name": "python3"
  },
  "language_info": {
   "codemirror_mode": {
    "name": "ipython",
    "version": 3
   },
   "file_extension": ".py",
   "mimetype": "text/x-python",
   "name": "python",
   "nbconvert_exporter": "python",
   "pygments_lexer": "ipython3",
   "version": "3.10.12"
  },
  "orig_nbformat": 4
 },
 "nbformat": 4,
 "nbformat_minor": 2
}
