{
 "cells": [
  {
   "cell_type": "code",
   "execution_count": 2,
   "metadata": {},
   "outputs": [],
   "source": [
    "import numpy as np\n",
    "import matplotlib.pyplot as plt"
   ]
  },
  {
   "cell_type": "code",
   "execution_count": 3,
   "metadata": {},
   "outputs": [],
   "source": [
    "np.random.seed(192)"
   ]
  },
  {
   "cell_type": "code",
   "execution_count": 4,
   "metadata": {},
   "outputs": [],
   "source": [
    "means = [[2, 2], [4, 2]]\n",
    "cov = [[.3, .2], [.2, .3]]\n",
    "N = 30"
   ]
  },
  {
   "cell_type": "markdown",
   "metadata": {},
   "source": [
    "X, Y are 2-dim"
   ]
  },
  {
   "cell_type": "code",
   "execution_count": 5,
   "metadata": {},
   "outputs": [
    {
     "data": {
      "text/plain": [
       "(3, 60)"
      ]
     },
     "execution_count": 5,
     "metadata": {},
     "output_type": "execute_result"
    }
   ],
   "source": [
    "X0 = np.random.multivariate_normal(means[0], cov, N).T\n",
    "X1 = np.random.multivariate_normal(means[1], cov, N).T\n",
    "\n",
    "X = np.concatenate((X0, X1), axis=1)\n",
    "Y = np.concatenate((np.ones((1, N)), -1*np.ones((1, N))), axis=1)\n",
    "\n",
    "X = np.concatenate((np.ones((1, X.shape[1])), X), axis=0)\n",
    "X.shape"
   ]
  },
  {
   "cell_type": "code",
   "execution_count": 6,
   "metadata": {},
   "outputs": [
    {
     "data": {
      "image/png": "[encoded data removed]",
      "text/plain": [
       "<Figure size 500x500 with 1 Axes>"
      ]
     },
     "metadata": {},
     "output_type": "display_data"
    }
   ],
   "source": [
    "fig, ax = plt.subplots(figsize=(5, 5))\n",
    "\n",
    "ani = plt.cla()\n",
    "# plot points\n",
    "ani = plt.plot(X0[0, :], X0[1, :], 'b^', markersize=8, alpha=.8)\n",
    "ani = plt.plot(X1[0, :], X1[1, :], 'ro', markersize=8, alpha=.8)\n",
    "ani = plt.axis([0, 6, -2, 4])\n",
    "plt.show()"
   ]
  },
  {
   "cell_type": "code",
   "execution_count": 7,
   "metadata": {},
   "outputs": [],
   "source": [
    "def h(w, x):\n",
    "    return np.sign(w.T @ x)"
   ]
  },
  {
   "cell_type": "code",
   "execution_count": 8,
   "metadata": {},
   "outputs": [],
   "source": [
    "def has_converged(X, y, w):\n",
    "    return np.array_equal(h(w, X), y)"
   ]
  },
  {
   "cell_type": "markdown",
   "metadata": {},
   "source": [
    "reshape to 3,1 for visualize?"
   ]
  },
  {
   "cell_type": "code",
   "execution_count": 9,
   "metadata": {},
   "outputs": [],
   "source": [
    "def perceptron(X, y, w_init):\n",
    "    w = [w_init]\n",
    "    N = X.shape[1]\n",
    "    mis_points = []\n",
    "\n",
    "    while True:\n",
    "        mix_id = np.random.permutation(N)\n",
    "        for i in range(N):\n",
    "            xi = X[:, mix_id[i]].reshape(3, 1)\n",
    "            yi = y[0, mix_id[i]]\n",
    "            if h(w[-1], xi)[0] != yi:\n",
    "                mis_points.append(mix_id[i])\n",
    "                w_new = w[-1] + yi*xi\n",
    "                w.append(w_new)\n",
    "        if has_converged(X, y, w[-1]):\n",
    "            break\n",
    "\n",
    "    return (w, mis_points)"
   ]
  },
  {
   "cell_type": "markdown",
   "metadata": {},
   "source": [
    "![Alt text](image.png)"
   ]
  },
  {
   "cell_type": "code",
   "execution_count": 10,
   "metadata": {},
   "outputs": [],
   "source": [
    "d = X.shape[0]\n",
    "w_init = np.random.randn(d, 1)\n",
    "w, m = perceptron(X, Y, w_init)"
   ]
  },
  {
   "cell_type": "markdown",
   "metadata": {},
   "source": [
    "mis_points"
   ]
  },
  {
   "cell_type": "code",
   "execution_count": 11,
   "metadata": {},
   "outputs": [
    {
     "name": "stdout",
     "output_type": "stream",
     "text": [
      "[56, 12, 49, 6, 48, 17, 9, 20, 47, 28, 32, 7, 29, 32, 5, 41, 6, 18, 39, 5, 32, 23]\n"
     ]
    }
   ],
   "source": [
    "print(m)"
   ]
  },
  {
   "cell_type": "markdown",
   "metadata": {},
   "source": [
    "w arrays"
   ]
  },
  {
   "cell_type": "code",
   "execution_count": 12,
   "metadata": {},
   "outputs": [
    {
     "data": {
      "text/plain": [
       "array([[[-1.09437034],\n",
       "        [ 0.36798959],\n",
       "        [ 0.70988351]],\n",
       "\n",
       "       [[-2.09437034],\n",
       "        [-3.37296982],\n",
       "        [-0.41078719]],\n",
       "\n",
       "       [[-1.09437034],\n",
       "        [-0.49301099],\n",
       "        [ 2.32247031]],\n",
       "\n",
       "       [[-2.09437034],\n",
       "        [-4.35192604],\n",
       "        [ 0.72158702]],\n",
       "\n",
       "       [[-1.09437034],\n",
       "        [-2.00133373],\n",
       "        [ 3.39281856]],\n",
       "\n",
       "       [[-2.09437034],\n",
       "        [-6.42689467],\n",
       "        [ 0.26328077]],\n",
       "\n",
       "       [[-1.09437034],\n",
       "        [-4.75381762],\n",
       "        [ 1.53088381]],\n",
       "\n",
       "       [[-0.09437034],\n",
       "        [-2.88667243],\n",
       "        [ 2.99344436]],\n",
       "\n",
       "       [[ 0.90562966],\n",
       "        [-1.45596376],\n",
       "        [ 4.39799808]],\n",
       "\n",
       "       [[-0.09437034],\n",
       "        [-5.02349985],\n",
       "        [ 3.15367975]],\n",
       "\n",
       "       [[ 0.90562966],\n",
       "        [-3.40651105],\n",
       "        [ 4.80032795]],\n",
       "\n",
       "       [[-0.09437034],\n",
       "        [-6.45416188],\n",
       "        [ 2.81432205]],\n",
       "\n",
       "       [[ 0.90562966],\n",
       "        [-4.29816004],\n",
       "        [ 5.45391056]],\n",
       "\n",
       "       [[ 1.90562966],\n",
       "        [-2.80003835],\n",
       "        [ 6.43908096]],\n",
       "\n",
       "       [[ 0.90562966],\n",
       "        [-5.84768918],\n",
       "        [ 4.45307506]],\n",
       "\n",
       "       [[ 1.90562966],\n",
       "        [-3.48412468],\n",
       "        [ 6.36975219]],\n",
       "\n",
       "       [[ 0.90562966],\n",
       "        [-8.21149887],\n",
       "        [ 3.35920933]],\n",
       "\n",
       "       [[ 1.90562966],\n",
       "        [-5.86090656],\n",
       "        [ 6.03044087]],\n",
       "\n",
       "       [[ 2.90562966],\n",
       "        [-4.02763262],\n",
       "        [ 7.48442066]],\n",
       "\n",
       "       [[ 1.90562966],\n",
       "        [-8.08384314],\n",
       "        [ 5.68322288]],\n",
       "\n",
       "       [[ 2.90562966],\n",
       "        [-5.72027864],\n",
       "        [ 7.5999    ]],\n",
       "\n",
       "       [[ 1.90562966],\n",
       "        [-8.76792947],\n",
       "        [ 5.6138941 ]],\n",
       "\n",
       "       [[ 2.90562966],\n",
       "        [-6.89483986],\n",
       "        [ 7.67869693]]])"
      ]
     },
     "execution_count": 12,
     "metadata": {},
     "output_type": "execute_result"
    }
   ],
   "source": [
    "temp = np.array(w)\n",
    "temp[0].T\n",
    "temp"
   ]
  },
  {
   "cell_type": "markdown",
   "metadata": {},
   "source": [
    "---"
   ]
  },
  {
   "cell_type": "code",
   "execution_count": 13,
   "metadata": {},
   "outputs": [],
   "source": [
    "def draw_line(w):\n",
    "    w0, w1, w2 = w[0], w[1], w[2]\n",
    "    if w2 != 0:\n",
    "        x11, x12 = -100, 100\n",
    "        return plt.plot([x11, x12], [-(w1*x11 + w0)/w2, -(w1*x12 + w0)/w2], 'k')\n",
    "    else:\n",
    "        x10 = -w0/w1\n",
    "        return plt.plot([x10, x10], [-100, 100], 'k')"
   ]
  },
  {
   "cell_type": "code",
   "execution_count": 14,
   "metadata": {},
   "outputs": [
    {
     "name": "stderr",
     "output_type": "stream",
     "text": [
      "MovieWriter imagemagick unavailable; using Pillow instead.\n"
     ]
    },
    {
     "data": {
      "image/png": "[encoded data removed]",
      "text/plain": [
       "<Figure size 500x500 with 1 Axes>"
      ]
     },
     "metadata": {},
     "output_type": "display_data"
    }
   ],
   "source": [
    "import matplotlib.animation as animation\n",
    "from matplotlib.animation import FuncAnimation\n",
    "\n",
    "\n",
    "def viz_alg_1d_2(w):\n",
    "    it = len(w)\n",
    "    fig, ax = plt.subplots(figsize=(5, 5))\n",
    "\n",
    "    def update(i):\n",
    "        ani = plt.cla()\n",
    "        # points\n",
    "        ani = plt.plot(X0[0, :], X0[1, :], 'b^', markersize=8, alpha=.8)\n",
    "        ani = plt.plot(X1[0, :], X1[1, :], 'ro', markersize=8, alpha=.8)\n",
    "        ani = plt.axis([0, 6, -2, 4])\n",
    "        i2 = i if i < it else it-1\n",
    "        ani = draw_line(w[i2])\n",
    "        if i < it-1:\n",
    "            # draw one misclassified point\n",
    "            circle = plt.Circle((X[1, m[i]], X[2, m[i]]),\n",
    "                                0.15, color='k', fill=False)\n",
    "            ax.add_artist(circle)\n",
    "\n",
    "        cur_axes = plt.gca()\n",
    "        cur_axes.axes.get_xaxis().set_ticks([])\n",
    "        cur_axes.axes.get_yaxis().set_ticks([])\n",
    "        label = 'PLA: iter %d/%d' % (i2, it-1)\n",
    "        ax.set_xlabel(label)\n",
    "        return ani, ax\n",
    "\n",
    "    anim = FuncAnimation(\n",
    "        fig, update, frames=np.arange(0, it + 2), interval=1000)\n",
    "\n",
    "    anim.save('pla_vis.gif', dpi=100, writer='imagemagick')\n",
    "    plt.show()\n",
    "\n",
    "\n",
    "viz_alg_1d_2(w)"
   ]
  }
 ],
 "metadata": {
  "kernelspec": {
   "display_name": "Python 3",
   "language": "python",
   "name": "python3"
  },
  "language_info": {
   "codemirror_mode": {
    "name": "ipython",
    "version": 3
   },
   "file_extension": ".py",
   "mimetype": "text/x-python",
   "name": "python",
   "nbconvert_exporter": "python",
   "pygments_lexer": "ipython3",
   "version": "3.11.3"
  }
 },
 "nbformat": 4,
 "nbformat_minor": 2
}
