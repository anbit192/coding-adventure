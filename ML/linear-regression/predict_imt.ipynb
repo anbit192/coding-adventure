{
 "cells": [
  {
   "cell_type": "code",
   "execution_count": 16,
   "metadata": {},
   "outputs": [],
   "source": [
    "import numpy as np\n",
    "import pandas as pd\n",
    "from matplotlib import pyplot as plt\n",
    "from sklearn import linear_model"
   ]
  },
  {
   "cell_type": "markdown",
   "metadata": {},
   "source": [
    "## Read file"
   ]
  },
  {
   "cell_type": "code",
   "execution_count": 21,
   "metadata": {},
   "outputs": [
    {
     "data": {
      "text/plain": [
       "(100, 6)"
      ]
     },
     "execution_count": 21,
     "metadata": {},
     "output_type": "execute_result"
    }
   ],
   "source": [
    "with open(\"../data/imt.txt\", \"r\") as f:\n",
    "    column_names = f.readline().replace(\"\\n\",\"\").split(\" \")\n",
    "    lines = f.readlines()\n",
    "    lines = [line.replace(\"\\n\",\"\") for line in lines]\n",
    "\n",
    "data = []\n",
    "column_names.pop(0)\n",
    "\n",
    "for line in lines:\n",
    "    temp = line.split(\" \")\n",
    "    temp.pop(0)\n",
    "    temp = list(map(float, temp))\n",
    "\n",
    "    data.append(temp)\n",
    "\n",
    "df = pd.DataFrame(data, columns=column_names)\n",
    "df.shape\n",
    "\n",
    "\n"
   ]
  },
  {
   "attachments": {
    "image.png": {
     "image/png": "[encoded data removed]"
    }
   },
   "cell_type": "markdown",
   "metadata": {},
   "source": [
    "![image.png](attachment:image.png)"
   ]
  },
  {
   "cell_type": "code",
   "execution_count": 20,
   "metadata": {},
   "outputs": [],
   "source": [
    "X = df.drop(columns=[\"IPM\"])\n",
    "Y = df[\"IPM\"]\n",
    "\n",
    "regressor = linear_model.LinearRegression(fit_intercept=True)\n",
    "\n",
    "regressor.fit(X, Y)\n",
    "age, bmi, bp, glu, chol = regressor.coef_\n",
    "intercept = regressor.intercept_"
   ]
  },
  {
   "cell_type": "markdown",
   "metadata": {},
   "source": [
    "=> ipm = intercept + age*x1 + chol*x2 + glu*x3 + bp*x4 + bmi*x5"
   ]
  },
  {
   "cell_type": "markdown",
   "metadata": {},
   "source": [
    "- split"
   ]
  },
  {
   "cell_type": "code",
   "execution_count": 25,
   "metadata": {},
   "outputs": [],
   "source": [
    "training = df[0:80]\n",
    "testing = df[80:df.shape[0]]"
   ]
  },
  {
   "cell_type": "code",
   "execution_count": 29,
   "metadata": {},
   "outputs": [
    {
     "name": "stdout",
     "output_type": "stream",
     "text": [
      "0.30532598337436595\n",
      "0.36947015406502115\n"
     ]
    }
   ],
   "source": [
    "X2 = training.drop(columns=[\"IPM\"])\n",
    "Y2 = training[\"IPM\"]\n",
    "\n",
    "X_test = testing.drop(columns=[\"IPM\"])\n",
    "Y_test = testing[\"IPM\"]\n",
    "\n",
    "regressor.fit(X2, Y2)\n",
    "\n",
    "age, bmi, bp, glu, chol = regressor.coef_\n",
    "intercept = regressor.intercept_\n",
    "\n",
    "y_pred = regressor.predict(X_test)\n",
    "\n",
    "errors = y_pred - Y_test\n",
    "mean_error = np.mean(np.abs(y_pred - Y_test))\n",
    "\n",
    "var_error = sum((errors - mean_error)**2)/errors.shape[0]\n",
    "\n",
    "print(mean_error)\n",
    "print(var_error)\n"
   ]
  }
 ],
 "metadata": {
  "kernelspec": {
   "display_name": "Python 3",
   "language": "python",
   "name": "python3"
  },
  "language_info": {
   "codemirror_mode": {
    "name": "ipython",
    "version": 3
   },
   "file_extension": ".py",
   "mimetype": "text/x-python",
   "name": "python",
   "nbconvert_exporter": "python",
   "pygments_lexer": "ipython3",
   "version": "3.11.3"
  }
 },
 "nbformat": 4,
 "nbformat_minor": 2
}
