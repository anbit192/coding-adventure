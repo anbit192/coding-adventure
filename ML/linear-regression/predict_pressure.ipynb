{
 "cells": [
  {
   "cell_type": "code",
   "execution_count": 1,
   "metadata": {},
   "outputs": [],
   "source": [
    "import pandas as pd\n",
    "import numpy as np\n",
    "from matplotlib import pyplot as plt"
   ]
  },
  {
   "cell_type": "markdown",
   "metadata": {},
   "source": [
    "## Read data"
   ]
  },
  {
   "cell_type": "code",
   "execution_count": 2,
   "metadata": {},
   "outputs": [
    {
     "data": {
      "text/html": [
       "<div>\n",
       "<style scoped>\n",
       "    .dataframe tbody tr th:only-of-type {\n",
       "        vertical-align: middle;\n",
       "    }\n",
       "\n",
       "    .dataframe tbody tr th {\n",
       "        vertical-align: top;\n",
       "    }\n",
       "\n",
       "    .dataframe thead th {\n",
       "        text-align: right;\n",
       "    }\n",
       "</style>\n",
       "<table border=\"1\" class=\"dataframe\">\n",
       "  <thead>\n",
       "    <tr style=\"text-align: right;\">\n",
       "      <th></th>\n",
       "      <th>Atm</th>\n",
       "      <th>Temperature</th>\n",
       "    </tr>\n",
       "  </thead>\n",
       "  <tbody>\n",
       "    <tr>\n",
       "      <th>0</th>\n",
       "      <td>20.79</td>\n",
       "      <td>194.5</td>\n",
       "    </tr>\n",
       "    <tr>\n",
       "      <th>1</th>\n",
       "      <td>20.79</td>\n",
       "      <td>194.3</td>\n",
       "    </tr>\n",
       "    <tr>\n",
       "      <th>2</th>\n",
       "      <td>22.40</td>\n",
       "      <td>197.9</td>\n",
       "    </tr>\n",
       "    <tr>\n",
       "      <th>3</th>\n",
       "      <td>22.67</td>\n",
       "      <td>198.4</td>\n",
       "    </tr>\n",
       "    <tr>\n",
       "      <th>4</th>\n",
       "      <td>23.15</td>\n",
       "      <td>199.4</td>\n",
       "    </tr>\n",
       "    <tr>\n",
       "      <th>5</th>\n",
       "      <td>23.35</td>\n",
       "      <td>199.9</td>\n",
       "    </tr>\n",
       "    <tr>\n",
       "      <th>6</th>\n",
       "      <td>23.89</td>\n",
       "      <td>200.9</td>\n",
       "    </tr>\n",
       "    <tr>\n",
       "      <th>7</th>\n",
       "      <td>23.99</td>\n",
       "      <td>201.1</td>\n",
       "    </tr>\n",
       "    <tr>\n",
       "      <th>8</th>\n",
       "      <td>24.02</td>\n",
       "      <td>201.4</td>\n",
       "    </tr>\n",
       "    <tr>\n",
       "      <th>9</th>\n",
       "      <td>24.01</td>\n",
       "      <td>201.3</td>\n",
       "    </tr>\n",
       "    <tr>\n",
       "      <th>10</th>\n",
       "      <td>25.14</td>\n",
       "      <td>203.6</td>\n",
       "    </tr>\n",
       "    <tr>\n",
       "      <th>11</th>\n",
       "      <td>26.57</td>\n",
       "      <td>204.6</td>\n",
       "    </tr>\n",
       "    <tr>\n",
       "      <th>12</th>\n",
       "      <td>28.49</td>\n",
       "      <td>209.5</td>\n",
       "    </tr>\n",
       "    <tr>\n",
       "      <th>13</th>\n",
       "      <td>27.76</td>\n",
       "      <td>208.6</td>\n",
       "    </tr>\n",
       "    <tr>\n",
       "      <th>14</th>\n",
       "      <td>29.04</td>\n",
       "      <td>210.7</td>\n",
       "    </tr>\n",
       "    <tr>\n",
       "      <th>15</th>\n",
       "      <td>29.88</td>\n",
       "      <td>211.9</td>\n",
       "    </tr>\n",
       "    <tr>\n",
       "      <th>16</th>\n",
       "      <td>30.06</td>\n",
       "      <td>212.2</td>\n",
       "    </tr>\n",
       "  </tbody>\n",
       "</table>\n",
       "</div>"
      ],
      "text/plain": [
       "      Atm  Temperature\n",
       "0   20.79        194.5\n",
       "1   20.79        194.3\n",
       "2   22.40        197.9\n",
       "3   22.67        198.4\n",
       "4   23.15        199.4\n",
       "5   23.35        199.9\n",
       "6   23.89        200.9\n",
       "7   23.99        201.1\n",
       "8   24.02        201.4\n",
       "9   24.01        201.3\n",
       "10  25.14        203.6\n",
       "11  26.57        204.6\n",
       "12  28.49        209.5\n",
       "13  27.76        208.6\n",
       "14  29.04        210.7\n",
       "15  29.88        211.9\n",
       "16  30.06        212.2"
      ]
     },
     "execution_count": 2,
     "metadata": {},
     "output_type": "execute_result"
    }
   ],
   "source": [
    "df = pd.read_csv(\"../data/atm_pressure.csv\")\n",
    "df\n"
   ]
  },
  {
   "cell_type": "code",
   "execution_count": 3,
   "metadata": {},
   "outputs": [
    {
     "data": {
      "text/plain": [
       "(17,)"
      ]
     },
     "execution_count": 3,
     "metadata": {},
     "output_type": "execute_result"
    }
   ],
   "source": [
    "temps = np.array(df[\"Temperature\"])\n",
    "atms = np.array(df[\"Atm\"])\n",
    "temps.shape"
   ]
  },
  {
   "cell_type": "markdown",
   "metadata": {},
   "source": [
    "## Plot "
   ]
  },
  {
   "cell_type": "code",
   "execution_count": 4,
   "metadata": {},
   "outputs": [
    {
     "data": {
      "image/png": "[encoded data removed]",
      "text/plain": [
       "<Figure size 640x480 with 1 Axes>"
      ]
     },
     "metadata": {},
     "output_type": "display_data"
    }
   ],
   "source": [
    "plt.scatter(temps, atms, color=\"red\", marker=\"o\", )\n",
    "plt.axis([193, 213, 19, 31])\n",
    "plt.xlabel(\"Temperature (F)\")\n",
    "plt.ylabel(\"Pressure (Atm)\")\n",
    "\n",
    "plt.show()"
   ]
  },
  {
   "cell_type": "markdown",
   "metadata": {},
   "source": [
    "## Method 1"
   ]
  },
  {
   "cell_type": "markdown",
   "metadata": {},
   "source": [
    "- y = w0 + w1 * x <br/>\n",
    "=> (atm = w0 + w1 * temp)\n",
    "- Calculate the cofficients w0, w1. "
   ]
  },
  {
   "cell_type": "markdown",
   "metadata": {},
   "source": [
    "\n",
    "\n",
    "- deviation of X: X - mean(X) \n",
    "- deviation of Y: Y - mean(Y)\n",
    "\n",
    "- w1 = Cov(X, Y) / var(X)\n",
    "\n",
    "![Alt text](image.png)\n",
    "- y_h = w0 + w1 * x_h <br/>\n",
    "=> w0 = y_h - w1 * x_h"
   ]
  },
  {
   "cell_type": "markdown",
   "metadata": {},
   "source": [
    "- calculate means"
   ]
  },
  {
   "cell_type": "code",
   "execution_count": 5,
   "metadata": {},
   "outputs": [
    {
     "name": "stdout",
     "output_type": "stream",
     "text": [
      "25.058823529411764\n"
     ]
    }
   ],
   "source": [
    "x_h = np.mean(temps)\n",
    "y_h = np.mean(atms)\n",
    "print(y_h)"
   ]
  },
  {
   "cell_type": "markdown",
   "metadata": {},
   "source": [
    "- calculate covarian\n",
    "- np.cov(x, y) will return: <br/>\n",
    "cov(x,x) cov(x,y) <br/>\n",
    "cov(y,x) cov(y,y)\n"
   ]
  },
  {
   "cell_type": "code",
   "execution_count": 6,
   "metadata": {},
   "outputs": [
    {
     "data": {
      "text/plain": [
       "17.34637867647057"
      ]
     },
     "execution_count": 6,
     "metadata": {},
     "output_type": "execute_result"
    }
   ],
   "source": [
    "cov = np.cov(temps, atms)\n",
    "cov = cov[0, 1]\n",
    "var = np.var(temps)\n",
    "cov"
   ]
  },
  {
   "cell_type": "markdown",
   "metadata": {},
   "source": [
    "- calculate w0, w1"
   ]
  },
  {
   "cell_type": "code",
   "execution_count": 7,
   "metadata": {},
   "outputs": [],
   "source": [
    "w1 = cov/ var\n",
    "w0 = y_h - w1 * x_h"
   ]
  },
  {
   "cell_type": "markdown",
   "metadata": {},
   "source": [
    "- plot both datas"
   ]
  },
  {
   "cell_type": "code",
   "execution_count": 8,
   "metadata": {},
   "outputs": [
    {
     "data": {
      "text/plain": [
       "<matplotlib.collections.PathCollection at 0x19a5429f350>"
      ]
     },
     "execution_count": 8,
     "metadata": {},
     "output_type": "execute_result"
    },
    {
     "data": {
      "image/png": "[encoded data removed]",
      "text/plain": [
       "<Figure size 640x480 with 1 Axes>"
      ]
     },
     "metadata": {},
     "output_type": "display_data"
    }
   ],
   "source": [
    "x_h = np.linspace(193, 213, 2)\n",
    "y_h = w0 + w1 * x_h\n",
    "\n",
    "plt.plot(x_h, y_h)\n",
    "plt.scatter(temps, atms, color=\"red\", marker=\"o\")"
   ]
  },
  {
   "cell_type": "markdown",
   "metadata": {},
   "source": [
    "## Method 2\n",
    "- Use invert matrix multiplication"
   ]
  },
  {
   "cell_type": "markdown",
   "metadata": {},
   "source": [
    "![Alt text](image-2.png)"
   ]
  },
  {
   "cell_type": "markdown",
   "metadata": {},
   "source": [
    "- Convert Xs and Ys to 2-D"
   ]
  },
  {
   "cell_type": "code",
   "execution_count": 9,
   "metadata": {},
   "outputs": [
    {
     "data": {
      "text/plain": [
       "array([[20.79, 20.79, 22.4 , 22.67, 23.15, 23.35, 23.89, 23.99, 24.02,\n",
       "        24.01, 25.14, 26.57, 28.49, 27.76, 29.04, 29.88, 30.06]])"
      ]
     },
     "execution_count": 9,
     "metadata": {},
     "output_type": "execute_result"
    }
   ],
   "source": [
    "temps = np.array([df[\"Temperature\"]])\n",
    "atms = np.array([df[\"Atm\"]])\n",
    "atms\n"
   ]
  },
  {
   "cell_type": "markdown",
   "metadata": {},
   "source": [
    "- Create matrix filled with 1s"
   ]
  },
  {
   "cell_type": "code",
   "execution_count": 10,
   "metadata": {},
   "outputs": [
    {
     "data": {
      "text/plain": [
       "array([[1, 1, 1, 1, 1, 1, 1, 1, 1, 1, 1, 1, 1, 1, 1, 1, 1]], dtype=uint8)"
      ]
     },
     "execution_count": 10,
     "metadata": {},
     "output_type": "execute_result"
    }
   ],
   "source": [
    "one_matrix = np.ones((1, temps.shape[1]), dtype=np.uint8)\n",
    "one_matrix"
   ]
  },
  {
   "cell_type": "markdown",
   "metadata": {},
   "source": [
    "- Concatenate it with the Xs matrix and transpose it"
   ]
  },
  {
   "cell_type": "code",
   "execution_count": 11,
   "metadata": {},
   "outputs": [
    {
     "data": {
      "text/plain": [
       "array([[  1. , 194.5],\n",
       "       [  1. , 194.3],\n",
       "       [  1. , 197.9],\n",
       "       [  1. , 198.4],\n",
       "       [  1. , 199.4],\n",
       "       [  1. , 199.9],\n",
       "       [  1. , 200.9],\n",
       "       [  1. , 201.1],\n",
       "       [  1. , 201.4],\n",
       "       [  1. , 201.3],\n",
       "       [  1. , 203.6],\n",
       "       [  1. , 204.6],\n",
       "       [  1. , 209.5],\n",
       "       [  1. , 208.6],\n",
       "       [  1. , 210.7],\n",
       "       [  1. , 211.9],\n",
       "       [  1. , 212.2]])"
      ]
     },
     "execution_count": 11,
     "metadata": {},
     "output_type": "execute_result"
    }
   ],
   "source": [
    "Xbar = np.row_stack((one_matrix, temps)).T\n",
    "Xbar\n"
   ]
  },
  {
   "cell_type": "markdown",
   "metadata": {},
   "source": [
    "- Some weird things\n",
    "\n",
    "![Alt text](image-1.png)"
   ]
  },
  {
   "cell_type": "code",
   "execution_count": 12,
   "metadata": {},
   "outputs": [
    {
     "name": "stdout",
     "output_type": "stream",
     "text": [
      "[[1.7000000e+01 3.4502000e+03]\n",
      " [3.4502000e+03 7.0075902e+05]]\n",
      "[[  426.   ]\n",
      " [86735.495]]\n"
     ]
    }
   ],
   "source": [
    "A = Xbar.T @ Xbar\n",
    "b = Xbar.T @ atms.T\n",
    "print(A)\n",
    "print(b)"
   ]
  },
  {
   "cell_type": "markdown",
   "metadata": {},
   "source": [
    "- get inverted matrix of A"
   ]
  },
  {
   "cell_type": "code",
   "execution_count": 13,
   "metadata": {},
   "outputs": [],
   "source": [
    "inverted_A = np.linalg.pinv(A)\n",
    "w = (inverted_A @ b).T\n",
    "w0 = w[0][0]\n",
    "w1 = w[0][1]"
   ]
  },
  {
   "cell_type": "markdown",
   "metadata": {},
   "source": [
    "- plot"
   ]
  },
  {
   "cell_type": "code",
   "execution_count": 14,
   "metadata": {},
   "outputs": [
    {
     "data": {
      "text/plain": [
       "[<matplotlib.lines.Line2D at 0x19a543a7f90>]"
      ]
     },
     "execution_count": 14,
     "metadata": {},
     "output_type": "execute_result"
    },
    {
     "data": {
      "image/png": "[encoded data removed]",
      "text/plain": [
       "<Figure size 640x480 with 1 Axes>"
      ]
     },
     "metadata": {},
     "output_type": "display_data"
    }
   ],
   "source": [
    "x_h = np.linspace(193,213, 2)\n",
    "y_h = w0 + w1* x_h\n",
    "\n",
    "plt.scatter(temps, atms, color=\"blue\", marker=\"x\")\n",
    "plt.plot(x_h, y_h, color=\"green\")"
   ]
  }
 ],
 "metadata": {
  "kernelspec": {
   "display_name": "Python 3",
   "language": "python",
   "name": "python3"
  },
  "language_info": {
   "codemirror_mode": {
    "name": "ipython",
    "version": 3
   },
   "file_extension": ".py",
   "mimetype": "text/x-python",
   "name": "python",
   "nbconvert_exporter": "python",
   "pygments_lexer": "ipython3",
   "version": "3.11.3"
  }
 },
 "nbformat": 4,
 "nbformat_minor": 2
}
