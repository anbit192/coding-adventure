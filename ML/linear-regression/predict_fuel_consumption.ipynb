{
 "cells": [
  {
   "cell_type": "code",
   "execution_count": 8,
   "metadata": {},
   "outputs": [],
   "source": [
    "import numpy as np\n",
    "import pandas as pd\n",
    "from sklearn import datasets, linear_model\n"
   ]
  },
  {
   "cell_type": "markdown",
   "metadata": {},
   "source": [
    "![Alt text](image-3.png)"
   ]
  },
  {
   "cell_type": "markdown",
   "metadata": {},
   "source": [
    "## Read data"
   ]
  },
  {
   "cell_type": "code",
   "execution_count": 9,
   "metadata": {},
   "outputs": [
    {
     "data": {
      "text/html": [
       "<div>\n",
       "<style scoped>\n",
       "    .dataframe tbody tr th:only-of-type {\n",
       "        vertical-align: middle;\n",
       "    }\n",
       "\n",
       "    .dataframe tbody tr th {\n",
       "        vertical-align: top;\n",
       "    }\n",
       "\n",
       "    .dataframe thead th {\n",
       "        text-align: right;\n",
       "    }\n",
       "</style>\n",
       "<table border=\"1\" class=\"dataframe\">\n",
       "  <thead>\n",
       "    <tr style=\"text-align: right;\">\n",
       "      <th></th>\n",
       "      <th>Tax</th>\n",
       "      <th>Dlic</th>\n",
       "      <th>Income</th>\n",
       "      <th>logMiles</th>\n",
       "      <th>Fuel</th>\n",
       "    </tr>\n",
       "  </thead>\n",
       "  <tbody>\n",
       "    <tr>\n",
       "      <th>0</th>\n",
       "      <td>18.0</td>\n",
       "      <td>1031.380067</td>\n",
       "      <td>23471.0</td>\n",
       "      <td>16.527110</td>\n",
       "      <td>690.264418</td>\n",
       "    </tr>\n",
       "    <tr>\n",
       "      <th>1</th>\n",
       "      <td>8.0</td>\n",
       "      <td>1031.641062</td>\n",
       "      <td>30064.0</td>\n",
       "      <td>13.734286</td>\n",
       "      <td>514.279223</td>\n",
       "    </tr>\n",
       "    <tr>\n",
       "      <th>2</th>\n",
       "      <td>18.0</td>\n",
       "      <td>908.597153</td>\n",
       "      <td>25578.0</td>\n",
       "      <td>15.753556</td>\n",
       "      <td>621.475071</td>\n",
       "    </tr>\n",
       "    <tr>\n",
       "      <th>3</th>\n",
       "      <td>21.7</td>\n",
       "      <td>946.570576</td>\n",
       "      <td>22257.0</td>\n",
       "      <td>16.582436</td>\n",
       "      <td>655.292668</td>\n",
       "    </tr>\n",
       "    <tr>\n",
       "      <th>4</th>\n",
       "      <td>18.0</td>\n",
       "      <td>844.703336</td>\n",
       "      <td>32275.0</td>\n",
       "      <td>17.364708</td>\n",
       "      <td>573.912855</td>\n",
       "    </tr>\n",
       "  </tbody>\n",
       "</table>\n",
       "</div>"
      ],
      "text/plain": [
       "    Tax         Dlic   Income   logMiles        Fuel\n",
       "0  18.0  1031.380067  23471.0  16.527110  690.264418\n",
       "1   8.0  1031.641062  30064.0  13.734286  514.279223\n",
       "2  18.0   908.597153  25578.0  15.753556  621.475071\n",
       "3  21.7   946.570576  22257.0  16.582436  655.292668\n",
       "4  18.0   844.703336  32275.0  17.364708  573.912855"
      ]
     },
     "execution_count": 9,
     "metadata": {},
     "output_type": "execute_result"
    }
   ],
   "source": [
    "new_datas = []\n",
    "with open(\"../data/fuel.txt\", \"r\") as f:\n",
    "    f.readline()\n",
    "    datas = f.readlines()\n",
    "    datas = [line.replace(\"\\n\", \"\") for line in datas]\n",
    "\n",
    "for line in datas:\n",
    "    temp = line.split(\",\")\n",
    "\n",
    "    temp.pop(0) # remove the 'State' Column\n",
    "\n",
    "    driver = float(temp[0])\n",
    "    fuelC = float(temp[1])\n",
    "    income = float(temp[2])\n",
    "    mile = float(temp[3])\n",
    "    pop = int(temp[5])\n",
    "    tax = float(temp[6])\n",
    "\n",
    "    fuel = 1000 * fuelC / pop\n",
    "    dlic = 1000 * driver / pop\n",
    "    log_mile = np.log2(mile)\n",
    "\n",
    "    new_datas.append([tax, dlic, income, log_mile, fuel])\n",
    "\n",
    "df = pd.DataFrame(new_datas, columns=[\"Tax\", \"Dlic\", \"Income\", \"logMiles\", \"Fuel\"])\n",
    "df.head(5)"
   ]
  },
  {
   "cell_type": "markdown",
   "metadata": {},
   "source": [
    "- Get X and Y data"
   ]
  },
  {
   "cell_type": "code",
   "execution_count": 10,
   "metadata": {},
   "outputs": [
    {
     "data": {
      "text/plain": [
       "array([[690.26441757, 514.2792226 , 621.47507144, 655.29266793,\n",
       "        573.91285495, 616.61151167, 549.99260782, 626.02393371,\n",
       "        317.49239716, 586.34609606, 750.90741721, 426.34936956,\n",
       "        628.42794733, 526.23766215, 666.53646256, 647.00162472,\n",
       "        600.90240949, 659.74131389, 633.73476444, 584.09261655,\n",
       "        602.28617335, 543.23206817, 642.97059452, 672.91914994,\n",
       "        683.50195471, 689.36611392, 666.59775913, 617.69053989,\n",
       "        614.89398503, 689.65212114, 597.64026149, 646.52727397,\n",
       "        374.16406957, 645.44182635, 666.18874657, 572.07563999,\n",
       "        657.06051765, 556.34551224, 518.3286299 , 482.32693716,\n",
       "        711.73305769, 697.05277706, 638.23106095, 681.10013659,\n",
       "        591.49994589, 691.02271186, 681.03112144, 576.06974956,\n",
       "        562.4109333 , 581.79371695, 842.79175243]])"
      ]
     },
     "execution_count": 10,
     "metadata": {},
     "output_type": "execute_result"
    }
   ],
   "source": [
    "X = df.drop(columns=[\"Fuel\"])\n",
    "Y = np.array([df[\"Fuel\"]])\n",
    "Y\n",
    "\n"
   ]
  },
  {
   "cell_type": "code",
   "execution_count": 11,
   "metadata": {},
   "outputs": [],
   "source": [
    "def qr_decomposition(X):\n",
    "    m = X.shape[0]\n",
    "    n = X.shape[1]\n",
    "\n",
    "    Q = np.identity(m)\n",
    "\n",
    "    R = np.copy(X)\n",
    "\n",
    "    for i in range(n):\n",
    "        x = X[i:, i]\n",
    "        k = x.shape[0]\n",
    "\n",
    "        rho = -np.sign(x[0]) * np.linalg.norm(x)\n",
    "\n",
    "        e = np.zeros(k)\n",
    "\n",
    "        e[0] = 1\n",
    "\n",
    "        v = (1/(x[0] - rho)) * (x - (rho * e))\n",
    "\n",
    "        for j in range(n):\n",
    "            R[i:, j] = R[i: , j] - (2 / (v@v)) * ((np.outer(v, v)) @ R[i:, j])\n",
    "\n",
    "        for j in range(m):\n",
    "            Q[i:, j] = Q[i:, j] - (2 / (v@v)) * ((np.outer(v, v)) @ Q[i:, j])\n",
    "\n",
    "    return Q.transpose(), R\n",
    "\n",
    "\n",
    "def linear_regression(X, Y):\n",
    "    Xbar = np.concatenate((np.ones((X.shape[0], 1)), X), axis=1)\n",
    "    Q, R = qr_decomposition(Xbar)\n",
    "    inverted_R = np.linalg.pinv(R)\n",
    "\n",
    "    A = inverted_R @ Q.T\n",
    "\n",
    "    return A @ Y.T"
   ]
  },
  {
   "cell_type": "code",
   "execution_count": 12,
   "metadata": {},
   "outputs": [
    {
     "name": "stdout",
     "output_type": "stream",
     "text": [
      "           Intercept: 154.19284457730757\n",
      "                 Tax: -4.227983208329615\n",
      "                Dlic: 0.47187121344198474\n",
      "              Income: -0.006135330970417853\n",
      "            LogMiles: 18.545274506048013\n"
     ]
    }
   ],
   "source": [
    "w = linear_regression(X, Y)\n",
    "w = w.T.tolist()\n",
    "line = ['Intercept', 'Tax', \"Dlic\", \"Income\", 'LogMiles']\n",
    "res = list(zip(line, w[0]))\n",
    "for o in res:\n",
    "    print(\"{: >20}: {: >10}\".format(*o))"
   ]
  },
  {
   "cell_type": "markdown",
   "metadata": {},
   "source": [
    "## Method 2"
   ]
  },
  {
   "cell_type": "code",
   "execution_count": 24,
   "metadata": {},
   "outputs": [
    {
     "name": "stdout",
     "output_type": "stream",
     "text": [
      "154.1928445773043\n",
      "[-4.22798321e+00  4.71871213e-01 -6.13533097e-03  1.85452745e+01]\n"
     ]
    }
   ],
   "source": [
    "regrressor = linear_model.LinearRegression(fit_intercept=True)\n",
    "# Xbar = np.concatenate((np.ones((X.shape[0], 1)), X), axis=1)\n",
    "X = df.drop(columns=[\"Fuel\"])\n",
    "Y = df[\"Fuel\"]\n",
    "regrressor.fit(X, Y)\n",
    "\n",
    "print(regrressor.intercept_)\n",
    "print(regrressor.coef_)\n"
   ]
  }
 ],
 "metadata": {
  "kernelspec": {
   "display_name": "Python 3",
   "language": "python",
   "name": "python3"
  },
  "language_info": {
   "codemirror_mode": {
    "name": "ipython",
    "version": 3
   },
   "file_extension": ".py",
   "mimetype": "text/x-python",
   "name": "python",
   "nbconvert_exporter": "python",
   "pygments_lexer": "ipython3",
   "version": "3.10.12"
  },
  "orig_nbformat": 4
 },
 "nbformat": 4,
 "nbformat_minor": 2
}
