{
 "cells": [
  {
   "cell_type": "code",
   "execution_count": 4,
   "metadata": {},
   "outputs": [],
   "source": [
    "import numpy as np\n",
    "import os\n",
    "# import matplotlib.pyplot as plt\n",
    "import cv2"
   ]
  },
  {
   "cell_type": "code",
   "execution_count": 10,
   "metadata": {},
   "outputs": [],
   "source": [
    "ASCII_CHARS = ['@', 'l', '.'][::-1]\n",
    "ALPHA = 1.1\n",
    "BETA = -25"
   ]
  },
  {
   "cell_type": "code",
   "execution_count": 11,
   "metadata": {},
   "outputs": [],
   "source": [
    "im = cv2.imread(\"thai.png\")\n",
    "# im = cv2.rotate(im, cv2.ROTATE_90_COUNTERCLOCKWISE)\n",
    "im = cv2.resize(im, (80, 60))\n",
    "im = cv2.cvtColor(im, cv2.COLOR_BGR2GRAY)\n",
    "# im = ALPHA*im + BETA\n",
    "im = cv2.convertScaleAbs(im, alpha=ALPHA, beta=BETA)"
   ]
  },
  {
   "cell_type": "code",
   "execution_count": 12,
   "metadata": {},
   "outputs": [
    {
     "data": {
      "text/plain": [
       "array([['.', 'l', '.', ..., '.', '.', '.'],\n",
       "       ['l', 'l', 'l', ..., '.', '.', '.'],\n",
       "       ['l', 'l', 'l', ..., '.', '.', '.'],\n",
       "       ...,\n",
       "       ['.', '.', '.', ..., '.', '.', '.'],\n",
       "       ['.', '.', '.', ..., '.', '.', '.'],\n",
       "       ['.', '.', '.', ..., '.', '.', '.']], dtype='<U1')"
      ]
     },
     "execution_count": 12,
     "metadata": {},
     "output_type": "execute_result"
    }
   ],
   "source": [
    "def get_ascii_char(px_value):\n",
    "    ratio = 255/len(ASCII_CHARS)\n",
    "    return ASCII_CHARS[int(px_value/ratio)]\n",
    "\n",
    "def map_px(px_values):\n",
    "    res = np.empty(shape=px_values.shape, dtype=str)\n",
    "    for i in range(px_values.shape[0]):\n",
    "        for j in range(px_values.shape[1]):\n",
    "            val = px_values[i, j]\n",
    "            res[i, j] = get_ascii_char(val)\n",
    "    return res\n",
    "\n",
    "\n",
    "res = map_px(im)\n",
    "\n",
    "res"
   ]
  },
  {
   "cell_type": "code",
   "execution_count": 13,
   "metadata": {},
   "outputs": [],
   "source": [
    "with open(\"result.txt\", \"w\") as f:\n",
    "    line = \"\"\n",
    "    for l in res:\n",
    "        line = \"\".join(l)+\"\\n\"\n",
    "        f.write(line)"
   ]
  },
  {
   "cell_type": "code",
   "execution_count": 211,
   "metadata": {},
   "outputs": [],
   "source": [
    "cv2.imshow(\"buoi\",im)\n",
    "\n",
    "cv2.waitKey(0)\n",
    "\n",
    "# closing all open windows\n",
    "cv2.destroyAllWindows()"
   ]
  },
  {
   "cell_type": "code",
   "execution_count": null,
   "metadata": {},
   "outputs": [],
   "source": []
  }
 ],
 "metadata": {
  "kernelspec": {
   "display_name": "Python 3",
   "language": "python",
   "name": "python3"
  },
  "language_info": {
   "codemirror_mode": {
    "name": "ipython",
    "version": 3
   },
   "file_extension": ".py",
   "mimetype": "text/x-python",
   "name": "python",
   "nbconvert_exporter": "python",
   "pygments_lexer": "ipython3",
   "version": "3.11.3"
  }
 },
 "nbformat": 4,
 "nbformat_minor": 2
}
