{
 "cells": [
  {
   "cell_type": "markdown",
   "id": "8ef991c9",
   "metadata": {},
   "source": [
    "Ý tưởng chính của thuật toán ID3 là lựa chọn thuộc tính tốt nhất để phân chia dữ liệu và sử dụng nó để tạo các nút trong cây quyết định."
   ]
  },
  {
   "cell_type": "markdown",
   "id": "68a297cb",
   "metadata": {},
   "source": [
    "Các bước cơ bản của thuật toán ID3 như sau:\n",
    "1. Tìm thuộc tính tốt nhất để phân chia dữ liệu ban đầu bằng cách tính toán information gain của mỗi thuộc tính.\n",
    "2. Sử dụng thuộc tính này để tạo một nút mới trên cây quyết định và phân chia dữ liệu thành các tập con dựa trên các giá trị của thuộc tính.\n",
    "3. Lặp lại các bước trên mỗi tập con, cho đến khi tất cả các lá đều thuộc về cùng một lớp hoặc không còn thuộc tính nào để phân chia."
   ]
  },
  {
   "cell_type": "markdown",
   "id": "8467071f",
   "metadata": {},
   "source": [
    "# Vậy, câu hỏi đặt ra: thế nào là thuộc tính tốt nhất?"
   ]
  },
  {
   "cell_type": "markdown",
   "id": "8b01f05e",
   "metadata": {},
   "source": [
    "Thuộc tính tốt nhất là thuộc tính khi được sử dụng để phân chia dữ liệu sẽ giúp tập dữ liệu con có tính đồng nhất cao hơn (mỗi tập con có xu hướng giống nhau hơn về các đặc trưng quan trọng)."
   ]
  },
  {
   "cell_type": "markdown",
   "id": "30e63d7e",
   "metadata": {},
   "source": [
    "# Có cách nào để đo được tính đồng nhất này không?"
   ]
  },
  {
   "cell_type": "markdown",
   "id": "486f7c24",
   "metadata": {},
   "source": [
    "Có rất nhiều hệ số được đưa ra ứng dụng được. Phổ biến nhất như: Information gain, Gini index,..."
   ]
  },
  {
   "cell_type": "markdown",
   "id": "3dd6ac01",
   "metadata": {},
   "source": [
    "## Information gain"
   ]
  },
  {
   "cell_type": "markdown",
   "id": "08c1fa6a",
   "metadata": {},
   "source": [
    "##### Entropy "
   ]
  },
  {
   "cell_type": "markdown",
   "id": "4093c4eb",
   "metadata": {},
   "source": [
    "Entropy trong dữ liệu đo lường sự không ổn định phân bố của dữ liệu và mức độ đồng đều phân bố giữa các lớp. Nếu dữ liệu đa dạng và phân bố đều, entropy sẽ lớn. Nếu dữ liệu tập trung vào một hoặc vài lớp, entropy sẽ nhỏ (mục đích của bài toán)"
   ]
  },
  {
   "cell_type": "markdown",
   "id": "9cb98490",
   "metadata": {},
   "source": [
    "Cho một phân phối xác suất của một biến rời rạc x có thể nhận n giá trị khác nhau: \n",
    "\\begin{aligned}\n",
    "x_1, x_2, \\dots, x_n\n",
    "\\end{aligned}\n",
    "Giả sử rằng xác suất để x nhận các giá trị này là:\n",
    "\\begin{aligned}\n",
    "p_i = p(x = x_i)\n",
    "\\end{aligned}\n",
    "với:\n",
    "\\begin{aligned}\n",
    "0 \\leq p_i \\leq 1, \\sum_{i=1}^n p_i = 1\n",
    "\\end{aligned}\n",
    "\n",
    "Ký hiệu phân phối này là:\n",
    "\\begin{aligned}\n",
    "\\mathbf{p} = (p_1, p_2, \\dots, p_n)\n",
    "\\end{aligned}\n",
    "\n",
    "Entropy của phân phối này được định nghĩa là:\n",
    "\n",
    "\\begin{aligned}\n",
    "H(\\mathbf{p}) = -\\sum_{i=1}^n p_i \\log(p_i)\\quad\\quad (1)\n",
    "\\end{aligned}\n",
    "\n",
    "trong đó log là logarit tự nhiên và quy ước 0log(0) = 0"
   ]
  },
  {
   "cell_type": "markdown",
   "id": "06400554",
   "metadata": {},
   "source": [
    "Hình ví dụ:"
   ]
  },
  {
   "cell_type": "code",
   "execution_count": 9,
   "id": "2780c2de",
   "metadata": {},
   "outputs": [
    {
     "data": {
      "image/png": "[encoded data removed]",
      "text/plain": [
       "<Figure size 640x480 with 1 Axes>"
      ]
     },
     "metadata": {},
     "output_type": "display_data"
    }
   ],
   "source": [
    "import matplotlib.pyplot as plt\n",
    "import numpy as np\n",
    "\n",
    "def entropy(p):\n",
    "    H = []\n",
    "    for i in p:\n",
    "        if i == 0 or i == 1:\n",
    "            H.append(0)\n",
    "        else:\n",
    "            H.append(-i*np.log2(i) - (1-i)*np.log2(1-i))\n",
    "    return H\n",
    "\n",
    "p = np.arange(0, 1.1, 0.1)\n",
    "\n",
    "plt.plot(p, entropy(p))\n",
    "plt.xlabel('p')\n",
    "plt.ylabel('H(p)')\n",
    "plt.show()"
   ]
  },
  {
   "cell_type": "markdown",
   "id": "03c5293e",
   "metadata": {},
   "source": [
    "Xét một ví dụ với n = 2 được cho ở hình trên. Trong trường hợp một trong 2 giá trị pi = 0 hoặc 1 thì p tinh khiết nhất, entropy = 0. Khi p vẩn đục nhất, tức là giá trị pi = 0.5, entropy đạt giá trị max."
   ]
  },
  {
   "cell_type": "markdown",
   "id": "ee4d8234",
   "metadata": {},
   "source": [
    "Tổng quát lên với n > 2, hàm entropy đạt giá trị nhỏ nhất nếu có một giá trị pi = 1, đạt giá trị lớn nhất nếu tất cả các pi bằng nhau (chứng minh bằng phương pháp nhân tử Lagrange)."
   ]
  },
  {
   "cell_type": "markdown",
   "id": "c7e33d4e",
   "metadata": {},
   "source": [
    "##### Information gain"
   ]
  },
  {
   "cell_type": "markdown",
   "id": "8b9445a5",
   "metadata": {},
   "source": [
    "Information gain được tính bằng hiệu của entropy của tập dữ liệu trước khi phân chia và entropy của các tập con sau khi phân chia tập dữ liệu bằng thuộc tính đó."
   ]
  },
  {
   "cell_type": "markdown",
   "id": "2b5acc52",
   "metadata": {},
   "source": [
    "Cụ thể, entropy của một tập dữ liệu được tính bằng tổng của tất cả các entropy của các lớp dữ liệu khác nhau trong tập dữ liệu đó."
   ]
  },
  {
   "cell_type": "markdown",
   "id": "5582d1e8",
   "metadata": {},
   "source": [
    "Xét một bài toán với C lớp khác nhau. Giả sử ta đang làm việc với một non-leaf node với các điểm dữ liệu tạo thành một tập S với số phần tử |S| = N."
   ]
  },
  {
   "cell_type": "markdown",
   "id": "2ece871f",
   "metadata": {},
   "source": [
    "Giả sử thêm rằng trong số N điểm dữ liệu, Nc (c = 1, 2,..., C) điểm thuộc vào class c. Xác suất để mỗi điểm dữ liệu rơi vào một class c được xấp xỉ bằng Nc/N (maximum likelihood estimation). Như vậy, entropy tại node này được tính bởi:\n",
    "\\begin{aligned}\n",
    "H(\\mathcal{S}) = -\\sum_{c=1}^C \\frac{N_c}{N} \\log\\left(\\frac{N_c}{N}\\right) \\quad\\quad\n",
    "    (2)\n",
    "   \\end{aligned}"
   ]
  },
  {
   "cell_type": "markdown",
   "id": "eaea237b",
   "metadata": {},
   "source": [
    "Tiếp theo, giả sử thuộc tính được chọn là x. Dựa trên x, các điểm dữ liệu trong S được phân ra thành K child node S1, S2,..., Sk với số điểm trong mỗi child node lần lượt là m1, m2,..., mk. Ta định nghĩa:\n",
    "\\begin{aligned}\n",
    "H(x, \\mathcal{S}) = \\sum_{k=1}^K \\frac{m_k}{N} H(\\mathcal{S}_k) \\quad\\quad (3)\n",
    "\\end{aligned}\n",
    "là tổng có trọng số entroy của mỗi child node. Việc lấy trọng số này là quan trọng vì các node thường có số lượng điểm khác nhau"
   ]
  },
  {
   "cell_type": "markdown",
   "id": "d0444069",
   "metadata": {},
   "source": [
    "Định nghĩa information gain dựa trên thuộc tính x:\n",
    "\\begin{aligned}\n",
    "G(x, \\mathcal{S}) = H(\\mathcal{S}) - H(x, \\mathcal{S})\n",
    "   \\end{aligned}"
   ]
  },
  {
   "cell_type": "markdown",
   "id": "bc042ca9",
   "metadata": {},
   "source": [
    "Trong ID3, thuộc tính được chọn xác định dựa trên:\n",
    "$$\n",
    "\\begin{aligned}\n",
    "x^* = \\arg\\max_{x} G(x, \\mathcal{S}) = \\arg\\min_{x} H(x, \\mathcal{S})\n",
    "   \\end{aligned}\n",
    "   $$-\n",
    "Tức là thuộc tính khiến cho information gain đạt giá trị lớn nhất."
   ]
  },
  {
   "cell_type": "markdown",
   "id": "1459d9ad",
   "metadata": {},
   "source": [
    "###### Ví dụ: Dưới đây là một bảng dữ liệu nhỏ về thông tin khách hàng mua hàng trên một website. Giả sử chúng ta muốn dự đoán liệu một khách hàng mới có mua hàng hay không dựa trên các thuộc tính sau:"
   ]
  },
  {
   "cell_type": "markdown",
   "id": "9f84e825",
   "metadata": {},
   "source": [
    "STT\tGiới tính\tTuổi\t    Thu nhập\t      Mua hàng\n",
    " 1\t   Nữ      Dưới 30\t  Dưới 5 triệu\t        Không\n",
    " 2\t   Nam\t   31 - 50\t  Từ 5 đến 10 triệu\t    Có\n",
    " 3\t   Nữ\t   Dưới 30\t  Từ 5 đến 10 triệu\t    Có\n",
    " 4\t   Nam\t   Trên 50\t  Dưới 5 triệu\t        Không\n",
    " 5\t   Nữ\t   Trên 50\t  Từ 10 đến 15 triệu\tCó\n",
    " 6\t   Nữ\t   31 - 50\t  Từ 5 đến 10 triệu\t    Có\n",
    " 7\t   Nam\t   31 - 50\t  Từ 10 đến 15 triệu\tCó\n",
    " 8\t   Nam\t   Trên 50\t  Từ 10 đến 15 triệu\tCó\n",
    " 9\t   Nữ\t   Trên 50\t  Dưới 5 triệu\t        Không\n",
    " 10\t   Nam\t   31 - 50\t  Dưới 5 triệu\t        Không"
   ]
  },
  {
   "cell_type": "markdown",
   "id": "539b49d8",
   "metadata": {},
   "source": [
    "Có 3 thuộc tính:\n",
    "1. Giới tính: Nam, Nữ\n",
    "2. Tuổi: Dưới 30, 31 - 50, Trên 50\n",
    "3. Thu nhập: Dưới 5 triệu, Từ 5 đến 10 triệu, Từ 10 đến 15 triệu:"
   ]
  },
  {
   "cell_type": "markdown",
   "id": "3ebe9d0b",
   "metadata": {},
   "source": [
    "Tổng cộng có: 2 x 3 x 3 = 18 loại khách hàng khác nhau. Trong bảng có 10 loại khách hàng khác nhau"
   ]
  },
  {
   "cell_type": "markdown",
   "id": "3d9566f1",
   "metadata": {},
   "source": [
    "Trong 10 giá trị đầu ra ở Bảng trên, có 4 giá trị bằng không và 6 giá trị có. Entroy tại root node của bài toán là:\n",
    "\\begin{aligned}\n",
    "H(\\mathcal{S}) = - \\frac{4}{10}\\log\\left(\\frac{4}{10}\\right) - \\frac{6}{10}\\log\\left(\\frac{6}{10}\\right)\n",
    "    \\approx 0.2923\n",
    "\\end{aligned}"
   ]
  },
  {
   "cell_type": "markdown",
   "id": "69735211",
   "metadata": {},
   "source": [
    "Tiếp theo, chúng ta tính tổng có trọng số entropy của các child node nếu chọn một trong các thuộc tính giới tính, tuổi, thu nhập để phân chia dữ liệu."
   ]
  },
  {
   "cell_type": "markdown",
   "id": "52b58784",
   "metadata": {},
   "source": [
    "Giới tính:\n",
    "STT\tGiới tính\tTuổi\t    Thu nhập\t      Mua hàng\n",
    " 1\t   Nữ      Dưới 30\t  Dưới 5 triệu\t        Không\n",
    " 2\t   Nữ\t   Dưới 30\t  Từ 5 đến 10 triệu\t    Có\n",
    " 3\t   Nữ\t   Trên 50\t  Từ 10 đến 15 triệu\tCó\n",
    " 4\t   Nữ\t   31 - 50\t  Từ 5 đến 10 triệu\t    Có\n",
    " 5\t   Nữ\t   Trên 50\t  Dưới 5 triệu\t        Không\n",
    " \n",
    " 1\t   Nam\t   31 - 50\t  Từ 5 đến 10 triệu\t    Có\n",
    " 2\t   Nam\t   Trên 50\t  Dưới 5 triệu\t        Không\n",
    " 3\t   Nam\t   31 - 50\t  Từ 10 đến 15 triệu\tCó\n",
    " 4\t   Nam\t   Trên 50\t  Từ 10 đến 15 triệu\tCó\n",
    " 5\t   Nam\t   31 - 50\t  Dưới 5 triệu\t        Không"
   ]
  },
  {
   "cell_type": "markdown",
   "id": "2a1ff113",
   "metadata": {},
   "source": [
    "Gọi tập hợp các điểm trong mỗi child node này lần lượt là Snu, Snam\n",
    "\\begin{aligned}\n",
    "H(\\mathcal{Snu}) = - \\frac{2}{5}\\log\\left(\\frac{2}{5}\\right) - \\frac{3}{5}\\log\\left(\\frac{3}{5}\\right)\n",
    "    \\approx 0.2923\n",
    "\\end{aligned}\n",
    "\\begin{aligned}\n",
    "H(\\mathcal{Snam}) = - \\frac{2}{5}\\log\\left(\\frac{2}{5}\\right) - \\frac{3}{5}\\log\\left(\\frac{3}{5}\\right)\n",
    "    \\approx 0.2923\n",
    "\\end{aligned}\n",
    "\\begin{aligned}\n",
    "H(\\mathcal{gioitinh,S}) = \\frac{1}{2}H(\\mathcal{Snu}) + \\frac{1}{2}H(\\mathcal{Snam})\n",
    "    \\approx 0.2923\n",
    "\\end{aligned}"
   ]
  },
  {
   "cell_type": "markdown",
   "id": "d69c0a90",
   "metadata": {},
   "source": [
    "STT\tGiới tính\tTuổi\t    Thu nhập\t      Mua hàng\n",
    " 1\t   Nữ      Dưới 30\t  Dưới 5 triệu\t        Không\n",
    " 2\t   Nữ\t   Dưới 30\t  Từ 5 đến 10 triệu\t    Có\n",
    "  \n",
    " 1\t   Nam\t   31 - 50\t  Từ 5 đến 10 triệu\t    Có\n",
    " 2\t   Nữ\t   31 - 50\t  Từ 5 đến 10 triệu\t    Có\n",
    " 3\t   Nam\t   31 - 50\t  Từ 10 đến 15 triệu\tCó\n",
    " 4\t   Nam\t   31 - 50\t  Dưới 5 triệu\t        Không\n",
    " \n",
    " 1\t   Nam\t   Trên 50\t  Từ 10 đến 15 triệu\tCó\n",
    " 2\t   Nữ\t   Trên 50\t  Dưới 5 triệu\t        Không\n",
    " 3\t   Nam\t   Trên 50\t  Dưới 5 triệu\t        Không\n",
    " 4\t   Nữ\t   Trên 50\t  Từ 10 đến 15 triệu\tCó"
   ]
  },
  {
   "cell_type": "markdown",
   "id": "30e65c7f",
   "metadata": {},
   "source": [
    "Gọi tập hợp các điểm trong mỗi child node này lần lượt là S3, S4, S5\n",
    "$$\\begin{aligned}\n",
    "H(\\mathcal{S3}) = - \\frac{1}{2}\\log\\left(\\frac{1}{2}\\right) - \\frac{1}{2}\\log\\left(\\frac{1}{2}\\right)\n",
    "    \\approx 0.301\n",
    "\\end{aligned}$$\n",
    "\n",
    "$$\\begin{aligned}\n",
    "H(\\mathcal{S4}) = - \\frac{1}{4}\\log\\left(\\frac{1}{4}\\right) - \\frac{3}{4}\\log\\left(\\frac{3}{4}\\right)\n",
    "    \\approx 0.2442\n",
    "\\end{aligned}$$\n",
    "\n",
    "$$\\begin{aligned}\n",
    "H(\\mathcal{S5}) = - \\frac{2}{4}\\log\\left(\\frac{2}{4}\\right) - \\frac{2}{4}\\log\\left(\\frac{2}{4}\\right)\n",
    "    \\approx 0.301\n",
    "\\end{aligned}$$\n",
    "\n",
    "$$\\begin{aligned}\n",
    "H(\\mathcal{tuoi,S}) = \\frac{2}{10}H(\\mathcal{S3}) + \\frac{4}{10}H(\\mathcal{S4}) + \\frac{4}{10}H(\\mathcal{S5})\n",
    "    \\approx 0.27828\n",
    "\\end{aligned}$$"
   ]
  },
  {
   "cell_type": "markdown",
   "id": "bab6dc76",
   "metadata": {},
   "source": [
    "STT\tGiới tính\tTuổi\t    Thu nhập\t      Mua hàng\n",
    " 1\t   Nữ      Dưới 30\t  Dưới 5 triệu\t        Không\n",
    " 2\t   Nữ\t   Trên 50\t  Dưới 5 triệu\t        Không\n",
    " 3\t   Nam\t   31 - 50\t  Dưới 5 triệu\t        Không\n",
    " 4\t   Nam\t   Trên 50\t  Dưới 5 triệu\t        Không\n",
    "  \n",
    " 1\t   Nam\t   31 - 50\t  Từ 5 đến 10 triệu\t    Có\n",
    " 2\t   Nữ\t   Dưới 30\t  Từ 5 đến 10 triệu\t    Có\n",
    " 3\t   Nữ\t   31 - 50\t  Từ 5 đến 10 triệu\t    Có\n",
    " \n",
    " 1\t   Nữ\t   Trên 50\t  Từ 10 đến 15 triệu\tCó\n",
    " 2\t   Nam\t   31 - 50\t  Từ 10 đến 15 triệu\tCó\n",
    " 3\t   Nam\t   Trên 50\t  Từ 10 đến 15 triệu\tCó\n"
   ]
  },
  {
   "cell_type": "markdown",
   "id": "290004b7",
   "metadata": {},
   "source": [
    "Gọi tập hợp các điểm trong mỗi child node này lần lượt là S5, S10, S15\n",
    "$$\\begin{aligned}\n",
    "H(\\mathcal{S5}) = 0\n",
    "\\end{aligned}$$\n",
    "\n",
    "$$\\begin{aligned}\n",
    "H(\\mathcal{S10}) = 0\n",
    "\\end{aligned}$$\n",
    "\n",
    "$$\\begin{aligned}\n",
    "H(\\mathcal{S5}) = 0\n",
    "\\end{aligned}$$\n",
    "\n",
    "$$\\begin{aligned}\n",
    "H(\\mathcal{thunhap,S}) = 0\n",
    "\\end{aligned}$$"
   ]
  },
  {
   "cell_type": "markdown",
   "id": "9bc2e999",
   "metadata": {},
   "source": [
    "Như vậy, thuộc tính cần chọn ở bước đầu tiên là Thu nhập vì H(thunhap, S) đạt giá trị nhỏ nhất (information gain là lớn nhất)."
   ]
  },
  {
   "cell_type": "markdown",
   "id": "583edec4",
   "metadata": {},
   "source": [
    "Khách hàng: Thu Nhập{\n",
    "    Dưới 5 triệu:          Không mua hàng\n",
    "    Từ 5 đến 10 triệu:     Có mua hàng\n",
    "    Từ 10 đến 15 triệu:    Có mua hàng\n",
    "}"
   ]
  },
  {
   "cell_type": "markdown",
   "id": "607346c1",
   "metadata": {},
   "source": [
    "--------------------------------------------------------------------------------------------------------------------------------"
   ]
  },
  {
   "cell_type": "markdown",
   "id": "62318e11",
   "metadata": {},
   "source": [
    "## Gini index"
   ]
  },
  {
   "cell_type": "markdown",
   "id": "9e1964ae",
   "metadata": {},
   "source": [
    "Gini index là một chỉ số dùng để đánh giá xem việc phân chia ở node điều kiện có tốt hay không. Chỉ số này tương tự với infomation gain."
   ]
  },
  {
   "cell_type": "markdown",
   "id": "5d64b21f",
   "metadata": {},
   "source": [
    "Để tính được chỉ số này trước hết phải tính chỉ số Gini ở từng node."
   ]
  },
  {
   "cell_type": "markdown",
   "id": "278152e9",
   "metadata": {},
   "source": [
    "Công thức tính chỉ số Gini ở node là:"
   ]
  },
  {
   "cell_type": "markdown",
   "id": "cdfe8f2e",
   "metadata": {},
   "source": [
    "\\begin{aligned}\n",
    "\\displaystyle Gini = 1 - \\sum_{i=1}^C(p_i)^2\n",
    "\\end{aligned}"
   ]
  },
  {
   "cell_type": "markdown",
   "id": "d310652c",
   "metadata": {},
   "source": [
    "Trong đó C là số lớp cần phân loại"
   ]
  },
  {
   "cell_type": "markdown",
   "id": "55ab25b1",
   "metadata": {},
   "source": [
    "\\begin{aligned}\n",
    "\\displaystyle p_i = \\frac{n_i}{N},\n",
    "\\end{aligned}"
   ]
  },
  {
   "cell_type": "markdown",
   "id": "8cc96854",
   "metadata": {},
   "source": [
    "$$\\begin{aligned}\n",
    "\\mbox{ Với } n_i \\mbox{ là số lượng phần tử lớp thứ i.}\n",
    "\\end{aligned}$$"
   ]
  },
  {
   "cell_type": "markdown",
   "id": "7e4ff484",
   "metadata": {},
   "source": [
    "Còn N là tổng số lượng phần tử ở node đó: "
   ]
  },
  {
   "cell_type": "markdown",
   "id": "b60f32a3",
   "metadata": {},
   "source": [
    "\\begin{aligned}\n",
    "\\displaystyle N = \\sum_{i=1}^N n_i \\Rightarrow \\sum_{i=1}^N p_i = 1\n",
    "\\end{aligned}"
   ]
  },
  {
   "cell_type": "markdown",
   "id": "152d3401",
   "metadata": {},
   "source": [
    "\\begin{aligned}\n",
    "\\displaystyle \\sum_{i=1}^C(p_i)^2 <= (\\sum_{i=1}^C p_i)^2 = 1 \\Rightarrow Gini \\geq 0, \\mbox{ dấu bằng xẩy ra khi } \\exists j: p_j = 1 \\mbox{ và } p_k = 0 \\mbox{  }\\forall k \\neq j\n",
    "\\end{aligned}"
   ]
  },
  {
   "cell_type": "markdown",
   "id": "94f52c08",
   "metadata": {},
   "source": [
    "\\begin{aligned}\n",
    "\\displaystyle \\sum_{i=1}^C(p_i)^2 >= \\frac{(\\sum_{i=1}^C p_i)^2}{C} = \\frac{1}{C} \\Rightarrow Gini \\leq \\frac{C-1}{C}, \\mbox{ dấu bằng xẩy ra khi } p_j = \\frac{1}{C} \\mbox{  }\\forall j\n",
    "\\end{aligned}"
   ]
  },
  {
   "cell_type": "markdown",
   "id": "af7745c6",
   "metadata": {},
   "source": [
    "Sau khi tính được chỉ số gini ở node cha và 2 node con, ta tính được chỉ số gini index:"
   ]
  },
  {
   "cell_type": "markdown",
   "id": "ea0aeacf",
   "metadata": {},
   "source": [
    "\\begin{aligned}\n",
    "gini\\_index = gini(p) - \\sum_{i=1}^K \\frac{m_k}{M} gini(c_k)\n",
    "\\end{aligned}"
   ]
  },
  {
   "cell_type": "markdown",
   "id": "99e25488",
   "metadata": {},
   "source": [
    "\\begin{aligned}\n",
    "\\mbox{Trong đó}, gini(p) \\mbox{ là chỉ số gini ở node cha, K là số node con được tách ra, } gini(c_k) \n",
    "\\mbox{ là chỉ số gini ở node con thứ k. M là số phần tử ở node p, } m_i \\mbox{ là số phần tử ở node con thứ i }\n",
    "\\end{aligned}"
   ]
  },
  {
   "cell_type": "markdown",
   "id": "5c72640a",
   "metadata": {},
   "source": [
    "Thực ra gini index tính độ lệch gini của node cha với tổng các giá trị gini có đánh trọng số của các node con."
   ]
  },
  {
   "cell_type": "markdown",
   "id": "4bb72cee",
   "metadata": {},
   "source": [
    "Để tìm điều kiện tách,thử ở tất các thuộc tính, mỗi thuộc tính thử một số giá trị chia, rồi so sánh xem điều kiện nào chỉ số gini index giảm nhiều nhất thì sẽ chọn để chia."
   ]
  },
  {
   "cell_type": "markdown",
   "id": "22493e0c",
   "metadata": {},
   "source": [
    "Nhận xét:\n",
    "- Kết quả dùng gini index hay information gain khá giống nhau.\n",
    "- Phép tính có phần dễ tính toán không vì không phải có phép tính log"
   ]
  }
 ],
 "metadata": {
  "kernelspec": {
   "display_name": "Python 3",
   "language": "python",
   "name": "python3"
  },
  "language_info": {
   "codemirror_mode": {
    "name": "ipython",
    "version": 3
   },
   "file_extension": ".py",
   "mimetype": "text/x-python",
   "name": "python",
   "nbconvert_exporter": "python",
   "pygments_lexer": "ipython3",
   "version": "3.8.8"
  },
  "toc": {
   "base_numbering": 1,
   "nav_menu": {},
   "number_sections": true,
   "sideBar": true,
   "skip_h1_title": false,
   "title_cell": "Table of Contents",
   "title_sidebar": "Contents",
   "toc_cell": false,
   "toc_position": {},
   "toc_section_display": true,
   "toc_window_display": false
  }
 },
 "nbformat": 4,
 "nbformat_minor": 5
}
