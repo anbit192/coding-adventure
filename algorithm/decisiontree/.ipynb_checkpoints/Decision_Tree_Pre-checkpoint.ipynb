{
 "cells": [
  {
   "cell_type": "code",
   "execution_count": 22,
   "metadata": {
    "id": "l507IwUXIbm1"
   },
   "outputs": [],
   "source": [
    "import pandas as pd\n",
    "import numpy as np"
   ]
  },
  {
   "cell_type": "markdown",
   "metadata": {},
   "source": [
    "# Thuật toán ID3 cho dữ liệu định tính"
   ]
  },
  {
   "cell_type": "code",
   "execution_count": 23,
   "metadata": {
    "id": "6cYXvvPDLt3y"
   },
   "outputs": [],
   "source": [
    "class Node:\n",
    "    def __init__(self, feature=None, value=None, label=None, branches=None):\n",
    "        self.feature = feature\n",
    "        self.value = value\n",
    "        self.label = label\n",
    "        self.branches = branches"
   ]
  },
  {
   "cell_type": "code",
   "execution_count": 24,
   "metadata": {
    "id": "nnwS0EgJLzBr"
   },
   "outputs": [],
   "source": [
    "def entropy(data):\n",
    "    label_freq = data.iloc[:, -1].value_counts(normalize=True)\n",
    "    entropy = sum([-p * np.log2(p) for p in label_freq])\n",
    "    return entropy"
   ]
  },
  {
   "cell_type": "code",
   "execution_count": 25,
   "metadata": {
    "id": "dRCtQQv4L4aL"
   },
   "outputs": [],
   "source": [
    "def information_gain(data, feature):\n",
    "    total_entropy = entropy(data)\n",
    "    values, counts = np.unique(data[feature], return_counts=True)\n",
    "    \n",
    "    weighted_entropy = sum([(counts[i]/np.sum(counts)) * \n",
    "                            entropy(data.where(data[feature] == values[i]).dropna()) for i in range(len(values))])\n",
    "    \n",
    "    information_gain = total_entropy - weighted_entropy\n",
    "    return information_gain"
   ]
  },
  {
   "cell_type": "code",
   "execution_count": 26,
   "metadata": {
    "id": "9ka2lt_9MErz"
   },
   "outputs": [],
   "source": [
    "def id3(data, features, target):\n",
    "    if len(np.unique(data[target])) <= 1:\n",
    "        return Node(label=np.unique(data[target])[0])\n",
    "    elif len(features) == 0:\n",
    "        return Node(label=np.unique(data[target])[np.argmax(data[target].value_counts())])\n",
    "    else:\n",
    "        best_feature = max(features, key=lambda x: information_gain(data, x))\n",
    "        tree = Node(feature=best_feature)\n",
    "        for value in np.unique(data[best_feature]):\n",
    "            sub_data = data.where(data[best_feature] == value).dropna()\n",
    "            sub_tree = id3(sub_data, [x for x in features if x != best_feature], target)\n",
    "            tree.branches = tree.branches or {}\n",
    "            tree.branches[value] = sub_tree\n",
    "        return tree"
   ]
  },
  {
   "cell_type": "code",
   "execution_count": 27,
   "metadata": {
    "id": "Jw4fjyodORBS"
   },
   "outputs": [],
   "source": [
    "# Để hiển thị cây quyết định được tạo ra bằng thuật toán ID3\n",
    "def print_tree(node, depth=0):\n",
    "    if node.label is not None:\n",
    "        print(\"  \"*depth, \"Leaf:\", node.label)\n",
    "    else:\n",
    "        print(\"  \"*depth, node.feature)\n",
    "        for value, subtree in node.branches.items():\n",
    "            print(\"  \"*(depth+1), value)\n",
    "            print_tree(subtree, depth+2)"
   ]
  },
  {
   "cell_type": "code",
   "execution_count": 28,
   "metadata": {
    "colab": {
     "base_uri": "https://localhost:8080/"
    },
    "id": "q3iCWojBNex7",
    "outputId": "a336dd90-8733-4d1e-c6eb-8a66b4c8c7ca"
   },
   "outputs": [
    {
     "data": {
      "text/plain": [
       "Index(['id', 'outlook', 'temperature', 'humidity', 'wind', 'play'], dtype='object')"
      ]
     },
     "execution_count": 28,
     "metadata": {},
     "output_type": "execute_result"
    }
   ],
   "source": [
    "data = pd.read_csv(\"data.csv\")\n",
    "data.columns"
   ]
  },
  {
   "cell_type": "code",
   "execution_count": 29,
   "metadata": {
    "colab": {
     "base_uri": "https://localhost:8080/",
     "height": 488
    },
    "id": "912dtHmBPCp-",
    "outputId": "23b839d3-2f7f-4212-e0dd-42e0d06da97b"
   },
   "outputs": [
    {
     "data": {
      "text/html": [
       "<div>\n",
       "<style scoped>\n",
       "    .dataframe tbody tr th:only-of-type {\n",
       "        vertical-align: middle;\n",
       "    }\n",
       "\n",
       "    .dataframe tbody tr th {\n",
       "        vertical-align: top;\n",
       "    }\n",
       "\n",
       "    .dataframe thead th {\n",
       "        text-align: right;\n",
       "    }\n",
       "</style>\n",
       "<table border=\"1\" class=\"dataframe\">\n",
       "  <thead>\n",
       "    <tr style=\"text-align: right;\">\n",
       "      <th></th>\n",
       "      <th>id</th>\n",
       "      <th>outlook</th>\n",
       "      <th>temperature</th>\n",
       "      <th>humidity</th>\n",
       "      <th>wind</th>\n",
       "      <th>play</th>\n",
       "    </tr>\n",
       "  </thead>\n",
       "  <tbody>\n",
       "    <tr>\n",
       "      <th>0</th>\n",
       "      <td>1</td>\n",
       "      <td>sunny</td>\n",
       "      <td>hot</td>\n",
       "      <td>high</td>\n",
       "      <td>weak</td>\n",
       "      <td>no</td>\n",
       "    </tr>\n",
       "    <tr>\n",
       "      <th>1</th>\n",
       "      <td>2</td>\n",
       "      <td>sunny</td>\n",
       "      <td>hot</td>\n",
       "      <td>high</td>\n",
       "      <td>strong</td>\n",
       "      <td>no</td>\n",
       "    </tr>\n",
       "    <tr>\n",
       "      <th>2</th>\n",
       "      <td>3</td>\n",
       "      <td>overcast</td>\n",
       "      <td>hot</td>\n",
       "      <td>high</td>\n",
       "      <td>weak</td>\n",
       "      <td>yes</td>\n",
       "    </tr>\n",
       "    <tr>\n",
       "      <th>3</th>\n",
       "      <td>4</td>\n",
       "      <td>rainy</td>\n",
       "      <td>mild</td>\n",
       "      <td>high</td>\n",
       "      <td>weak</td>\n",
       "      <td>yes</td>\n",
       "    </tr>\n",
       "    <tr>\n",
       "      <th>4</th>\n",
       "      <td>5</td>\n",
       "      <td>rainy</td>\n",
       "      <td>cool</td>\n",
       "      <td>normal</td>\n",
       "      <td>weak</td>\n",
       "      <td>yes</td>\n",
       "    </tr>\n",
       "    <tr>\n",
       "      <th>5</th>\n",
       "      <td>6</td>\n",
       "      <td>rainy</td>\n",
       "      <td>cool</td>\n",
       "      <td>normal</td>\n",
       "      <td>strong</td>\n",
       "      <td>no</td>\n",
       "    </tr>\n",
       "    <tr>\n",
       "      <th>6</th>\n",
       "      <td>7</td>\n",
       "      <td>overcast</td>\n",
       "      <td>cool</td>\n",
       "      <td>normal</td>\n",
       "      <td>strong</td>\n",
       "      <td>yes</td>\n",
       "    </tr>\n",
       "    <tr>\n",
       "      <th>7</th>\n",
       "      <td>8</td>\n",
       "      <td>sunny</td>\n",
       "      <td>mild</td>\n",
       "      <td>high</td>\n",
       "      <td>weak</td>\n",
       "      <td>no</td>\n",
       "    </tr>\n",
       "    <tr>\n",
       "      <th>8</th>\n",
       "      <td>9</td>\n",
       "      <td>sunny</td>\n",
       "      <td>cool</td>\n",
       "      <td>normal</td>\n",
       "      <td>weak</td>\n",
       "      <td>yes</td>\n",
       "    </tr>\n",
       "    <tr>\n",
       "      <th>9</th>\n",
       "      <td>10</td>\n",
       "      <td>rainy</td>\n",
       "      <td>mild</td>\n",
       "      <td>normal</td>\n",
       "      <td>weak</td>\n",
       "      <td>yes</td>\n",
       "    </tr>\n",
       "    <tr>\n",
       "      <th>10</th>\n",
       "      <td>11</td>\n",
       "      <td>sunny</td>\n",
       "      <td>mild</td>\n",
       "      <td>normal</td>\n",
       "      <td>strong</td>\n",
       "      <td>yes</td>\n",
       "    </tr>\n",
       "    <tr>\n",
       "      <th>11</th>\n",
       "      <td>12</td>\n",
       "      <td>overcast</td>\n",
       "      <td>mild</td>\n",
       "      <td>high</td>\n",
       "      <td>strong</td>\n",
       "      <td>yes</td>\n",
       "    </tr>\n",
       "    <tr>\n",
       "      <th>12</th>\n",
       "      <td>13</td>\n",
       "      <td>overcast</td>\n",
       "      <td>hot</td>\n",
       "      <td>normal</td>\n",
       "      <td>weak</td>\n",
       "      <td>yes</td>\n",
       "    </tr>\n",
       "    <tr>\n",
       "      <th>13</th>\n",
       "      <td>14</td>\n",
       "      <td>rainy</td>\n",
       "      <td>mild</td>\n",
       "      <td>high</td>\n",
       "      <td>strong</td>\n",
       "      <td>no</td>\n",
       "    </tr>\n",
       "  </tbody>\n",
       "</table>\n",
       "</div>"
      ],
      "text/plain": [
       "    id   outlook temperature humidity    wind play\n",
       "0    1     sunny         hot     high    weak   no\n",
       "1    2     sunny         hot     high  strong   no\n",
       "2    3  overcast         hot     high    weak  yes\n",
       "3    4     rainy        mild     high    weak  yes\n",
       "4    5     rainy        cool   normal    weak  yes\n",
       "5    6     rainy        cool   normal  strong   no\n",
       "6    7  overcast        cool   normal  strong  yes\n",
       "7    8     sunny        mild     high    weak   no\n",
       "8    9     sunny        cool   normal    weak  yes\n",
       "9   10     rainy        mild   normal    weak  yes\n",
       "10  11     sunny        mild   normal  strong  yes\n",
       "11  12  overcast        mild     high  strong  yes\n",
       "12  13  overcast         hot   normal    weak  yes\n",
       "13  14     rainy        mild     high  strong   no"
      ]
     },
     "execution_count": 29,
     "metadata": {},
     "output_type": "execute_result"
    }
   ],
   "source": [
    "data"
   ]
  },
  {
   "cell_type": "code",
   "execution_count": 11,
   "metadata": {
    "colab": {
     "base_uri": "https://localhost:8080/"
    },
    "id": "5LtDN5ScOUXa",
    "outputId": "8cc57bda-2edf-498e-e8d6-839ffe1de7dd"
   },
   "outputs": [
    {
     "name": "stdout",
     "output_type": "stream",
     "text": [
      " outlook\n",
      "   overcast\n",
      "     Leaf: yes\n",
      "   rainy\n",
      "     wind\n",
      "       strong\n",
      "         Leaf: no\n",
      "       weak\n",
      "         Leaf: yes\n",
      "   sunny\n",
      "     humidity\n",
      "       high\n",
      "         Leaf: no\n",
      "       normal\n",
      "         Leaf: yes\n"
     ]
    }
   ],
   "source": [
    "target = \"play\"\n",
    "features = list(data.columns[1:-1])\n",
    "tree = id3(data, features, target)\n",
    "print_tree(tree)"
   ]
  },
  {
   "cell_type": "markdown",
   "metadata": {},
   "source": [
    "# Decision Tree trong `sklearn`"
   ]
  },
  {
   "cell_type": "markdown",
   "metadata": {},
   "source": [
    "Scikit-Learn sử dụng thuật toán `CART` chỉ tạo ra các cây nhị phân: các nút không là lá luôn có hai nút con (nghĩa là các câu hỏi chỉ có câu trả lời có/không)."
   ]
  },
  {
   "cell_type": "markdown",
   "metadata": {},
   "source": [
    "Thuật toán này sử dụng một thuộc tính `k` trong tập các tập thuộc tính và ngưỡng $t_k$ là ngưỡng để phân chia dữ liệu thành 2 phần"
   ]
  },
  {
   "cell_type": "markdown",
   "metadata": {},
   "source": [
    "## Gini Impurity (Gini index) "
   ]
  },
  {
   "cell_type": "markdown",
   "metadata": {},
   "source": [
    "- là một phương pháp đo độ tinh khiết của một tập hợp dữ liệu được sử dụng trong các thuật toán học máy"
   ]
  },
  {
   "cell_type": "markdown",
   "metadata": {},
   "source": [
    "- Gini index đo lường khả năng chọn một mẫu ngẫu nhiên từ tập hợp dữ liệu và xác định xem nó sẽ được phân loại đúng trong tập hợp đó hoặc không"
   ]
  },
  {
   "cell_type": "markdown",
   "metadata": {},
   "source": [
    "- Mục tiêu của việc sử dụng Gini index trong CART là tìm thuộc tính và giá trị ngưỡng phân chia mà cho kết quả tối ưu trong việc phân loại các mẫu vào các nhóm khác nhau."
   ]
  },
  {
   "cell_type": "markdown",
   "metadata": {},
   "source": [
    "$$\\text{Gini Impurity} = \\sum_{i=1}^{K}p_{i}(1-p_{i}) = 1 - \\sum_{i=1}^{K}p_{i}^2$$"
   ]
  },
  {
   "cell_type": "markdown",
   "metadata": {},
   "source": [
    "- Tính bằng cách tính tổng xác suất lỗi phân loại khi một quan sát được phân loại ngẫu nhiên theo phân phối xác suất của các nhãn."
   ]
  },
  {
   "cell_type": "markdown",
   "metadata": {
    "id": "aFCPx4tTOZhl"
   },
   "source": [
    "## CART Hàm mất mát cho bài toán phân loại"
   ]
  },
  {
   "cell_type": "markdown",
   "metadata": {},
   "source": [
    "$$J(k, t_k) = \\frac{m_{\\text{left}}}{m} G_{\\text{left}} + \\frac{m_{\\text{right}}}{m} G_{\\text{right}}$$"
   ]
  },
  {
   "cell_type": "markdown",
   "metadata": {},
   "source": [
    "$$\n",
    "\\begin{cases}\n",
    "    G_{\\text{left/right}} \\text{ measures the impurity of the left/right subset} \\\\\n",
    "    m_{\\text{left/right}} \\text{ is the number of instances in the left/right subset}\n",
    "\\end{cases}\n",
    "$$"
   ]
  },
  {
   "cell_type": "markdown",
   "metadata": {},
   "source": [
    "Có thể chọn phép đo thành Entropy Impurity bằng cách đặt `criterion` bằng `entropy` trong `sklearn`"
   ]
  },
  {
   "cell_type": "markdown",
   "metadata": {},
   "source": [
    "Việc sử dụng Gini Impurity hay Entropy làm tiêu chí phân tách tùy thuộc vào vấn đề và dữ liệu. Dưới đây là một số cân nhắc chung: \n",
    "\n",
    "- Gini Impurity có xu hướng tính toán nhanh hơn entropy, điều này làm cho nó trở thành một lựa chọn tốt khi xử lý các tập dữ liệu lớn. \n",
    "\n",
    "- Gini Impurity là một tiêu chí tốt để sử dụng khi các lớp cân bằng tốt, trong khi entropy có thể hoạt động tốt hơn khi các lớp không cân bằng. \n",
    "\n",
    "- Entropy là một tiêu chí cung cấp nhiều thông tin hơn so với Gini Impurity, vì nó tính đến xác suất của từng loại, thay vì chỉ các tần số. Nó có thể dẫn đến một cây cân bằng và chính xác hơn trong một số trường hợp. \n",
    "\n",
    "- Cả Gini Impurity và entropy đều được sử dụng rộng rãi và đã được chứng minh là hoạt động tốt trong nhiều ứng dụng trong thế giới thực. \n"
   ]
  },
  {
   "cell_type": "markdown",
   "metadata": {},
   "source": [
    "## CART Hàm mất mát cho bài toán hồi quy"
   ]
  },
  {
   "cell_type": "markdown",
   "metadata": {},
   "source": [
    "Vẫn là cách hoạt động cũ, nhưng thay vì sư dụng `Gini Impurity` thì có thể huấn luyện mô hình với `MSE` (Mean Square Error), làm cho `MSE` là nhỏ nhất:"
   ]
  },
  {
   "cell_type": "markdown",
   "metadata": {},
   "source": [
    "$$J(k, t_k) = \\frac{m_{\\text{left}}}{m} MSE_{\\text{left}} + \\frac{m_{\\text{right}}}{m} MSE_{\\text{right}}$$"
   ]
  },
  {
   "cell_type": "markdown",
   "metadata": {},
   "source": [
    "$$\n",
    "\\begin{cases}\n",
    "    MSE_{\\text{node}} = \\sum_{i \\in \\text{node}} (\\hat{y}_{\\text{node}} - y^{(i)})^2 \\text{ measures the impurity of the left/right subset} \\\\\n",
    "    \\hat{y}_{\\text{node}} = \\frac{1}{m_{\\text{node}}} \\sum_{i \\in \\text{node}} y^{(i)} \\\\\n",
    "    m_{\\text{left/right}} \\text{ is the number of instances in the left/right subset}\n",
    "\\end{cases}\n",
    "$$"
   ]
  }
 ],
 "metadata": {
  "colab": {
   "provenance": []
  },
  "kernelspec": {
   "display_name": "Python 3",
   "language": "python",
   "name": "python3"
  },
  "language_info": {
   "codemirror_mode": {
    "name": "ipython",
    "version": 3
   },
   "file_extension": ".py",
   "mimetype": "text/x-python",
   "name": "python",
   "nbconvert_exporter": "python",
   "pygments_lexer": "ipython3",
   "version": "3.10.8"
  },
  "toc": {
   "base_numbering": 1,
   "nav_menu": {},
   "number_sections": true,
   "sideBar": true,
   "skip_h1_title": false,
   "title_cell": "Table of Contents",
   "title_sidebar": "Contents",
   "toc_cell": false,
   "toc_position": {},
   "toc_section_display": true,
   "toc_window_display": false
  }
 },
 "nbformat": 4,
 "nbformat_minor": 1
}
