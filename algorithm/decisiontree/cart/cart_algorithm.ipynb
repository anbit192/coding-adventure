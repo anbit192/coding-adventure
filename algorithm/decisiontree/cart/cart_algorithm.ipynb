{
 "cells": [
  {
   "cell_type": "markdown",
   "id": "32c3545f-500d-4f49-8f9e-61188a280680",
   "metadata": {},
   "source": [
    "# <b> CART (Classification and Regression Tree)</b>"
   ]
  },
  {
   "cell_type": "markdown",
   "id": "011562b5-c42f-4e0e-aad8-38bbb7420267",
   "metadata": {},
   "source": [
    "## 1. Khái niệm"
   ]
  },
  {
   "cell_type": "markdown",
   "id": "f1ebb35c-0c0f-472f-920c-a6e8a58bbbfe",
   "metadata": {},
   "source": [
    "- Thuật toán CART (Cây phân loại và hồi quy) là một biến thể của thuật toán Decision tree. Được dùng trong machine learning và nó giải thích cách mà một biến có thể được dự đoán dựa vào các biến khác.\n",
    "- Nó có thể xử lý cả phân loại và hồi quy, khác với thuật toán ID3 và C4.5 chỉ có thể cho ra output là biến phân loại nhị phân (CART có thể phân loại nhiều hơn là 2 )\n",
    "- Điểm khác biệt nữa là CART sử dụng loss function (hàm mất mát) khác với các thuật toán ID3, C4.5. Cụ thể là gini index để chọn điểm chia.\n"
   ]
  },
  {
   "cell_type": "markdown",
   "id": "6033fe80-44ba-4af7-9f09-9081b16a7450",
   "metadata": {},
   "source": [
    "## 2. Cách để tạo DT theo mô hình CART"
   ]
  },
  {
   "cell_type": "markdown",
   "id": "a30f5b86-c6d8-4af5-8910-b7349bedcf30",
   "metadata": {},
   "source": [
    "- Bản chất model của thuật toán CART là một cây nhị phân (gồm root, node con, node lá, ....)\n",
    "- Cũng như các loại decision tree khác, có 2 loại node chính ở trong model CART:\n",
    "    - Decision node:\n",
    "        - Gồm 2 nhánh trái phải trỏ đến địa chỉ của các node con left và right\n",
    "        - Gồm biến thuộc tính (feature) và ngưỡng chia giá trị của thuộc tính đó. Sự kết hợp của 2 dữ liệu này tạo thành điều kiện của decision node\n",
    "    - Leaf node: chứa giá trị dự đoán."
   ]
  },
  {
   "cell_type": "markdown",
   "id": "541025f3-10bc-4a1c-a2f9-ba05899fac0c",
   "metadata": {},
   "source": [
    "- Điều kiện dừng: điều kiện cần thiết để tránh overfitting\n",
    "    - min sample split : Quy ước số lượng quan sát cần thiết để có thể tách node, nếu số lượng quan sát ko thỏa mãn thì ko tách node nữa\n",
    "    - max depth: Quy ước độ sâu tối đa cây có thể đạt được.\n"
   ]
  },
  {
   "cell_type": "markdown",
   "id": "2f1e0c2d-d0bd-4db6-8bf9-637ae5087d7a",
   "metadata": {},
   "source": [
    "- Tree pruning: Tỉa cây, khi cây bị overfitting"
   ]
  },
  {
   "cell_type": "markdown",
   "id": "8e19904d-e66f-426b-a4a9-e1475e54123b",
   "metadata": {},
   "source": [
    "Dưới đây là code cho cây phân loại:"
   ]
  },
  {
   "cell_type": "markdown",
   "id": "f0c751ee-d7cb-4905-8148-51ab1cb0249b",
   "metadata": {},
   "source": [
    "#### Node class"
   ]
  },
  {
   "cell_type": "code",
   "execution_count": 3,
   "id": "6c83dcb4-ee74-4236-ba67-e6043c2fd8b6",
   "metadata": {},
   "outputs": [],
   "source": [
    "class Node():\n",
    "    def __init__(self, feature_index = None, threshold = None, left = None, right = None, information_gain = None, value = None):\n",
    "        # decision node\n",
    "        self.feature_index = feature_index\n",
    "        self.threshold = threshold\n",
    "        self.left = left\n",
    "        self.right = right\n",
    "        self.information_gain = information_gain\n",
    "        \n",
    "        #leaf node\n",
    "        self.value = value     \n"
   ]
  },
  {
   "cell_type": "markdown",
   "id": "3fee9753-08a9-4f3c-9cc3-82d05d9d3e6c",
   "metadata": {},
   "source": [
    "#### Classifier Decision Tree Class"
   ]
  },
  {
   "cell_type": "code",
   "execution_count": 2,
   "id": "b9bf133e-fb4e-4345-829a-d8927bf61e70",
   "metadata": {},
   "outputs": [],
   "source": [
    "class DecisionTreeClassifier():\n",
    "    def __init__(self, min_sample_splits = 2, max_depth = 2):\n",
    "        #Khởi tạo root\n",
    "        self.root = None\n",
    "        \n",
    "        #Điều kiện dừng của cây\n",
    "        self.min_sample_splits = min_sample_splits \n",
    "        self.max_depth = max_depth\n",
    "    \n",
    "    \n",
    "    def fit(self, X, Y):\n",
    "        # train cây\n",
    "        dataset = np.concatenate((X, Y), axis = 1)\n",
    "        self.root = self.build_tree(dataset)\n",
    "        \n",
    "        \n",
    "    def calculate_info_gain(self, parent, left_child, right_child, mode = \"entropy\"):\n",
    "        \n",
    "        #Trọng số (weight): mối liên hệ giữa số quan sát của tập con với tập cha\n",
    "        weight_left = len(left_child) / len(parent)\n",
    "        weight_right = len(right_child) / len(parent)\n",
    "        \n",
    "        if (mode == \"gini\"):\n",
    "            gini_index_left = self.gini_index(left_child)\n",
    "            gini_index_right = self.gini_index(right_child)\n",
    "            gini_index_parent = self.gini_index(parent)\n",
    "            \n",
    "            gain = gini_index_parent - (weight_left * gini_index_left + weight_right * gini_index_right)\n",
    "        else:\n",
    "            entropy_parent = self.entropy(parent)\n",
    "            entropy_left = self.entropy(left_child)\n",
    "            entropy_right = self.entropy(right_child)\n",
    "            \n",
    "            gain = entropy_parent - (weight_left * entropy_left + weight_right * entropy_right)\n",
    "            \n",
    "        return gain\n",
    "    \n",
    "    \n",
    "    def entropy(self, y):\n",
    "        data_labels = np.unique(y) # Lấy ra các giá trị ko trùng lặp của data (1, 1, 1, 0) => (1, 0)\n",
    "        entropy = 0\n",
    "        \n",
    "        for label in data_labels:\n",
    "            p_label = len(y[y == label]) / len(y) # Xác suất xuất hiện y = label trong tập y (1, 1, 1, 0) => p_1 = 3/4\n",
    "            entropy += ( - p_label * np.log2(p_label) )\n",
    "        \n",
    "        return entropy\n",
    "    \n",
    "    def gini_index(self, y): # Tương tự như hàm entropy\n",
    "        data_labels = np.unique(y)\n",
    "        gini = 0\n",
    "        \n",
    "        for label in data_labels:\n",
    "            p_label = len(y[y == label]) / len(y)\n",
    "            gini += p_label**2\n",
    "        \n",
    "        return 1 - gini\n",
    "    \n",
    "    \n",
    "    def build_tree(self, dataset, current_depth = 0):\n",
    "        # Tách biến thuộc tính và mục tiêu làm 2 biến X, Y\n",
    "        X = dataset[ : , : -1] # Chọn tất cả các hàng và cột trừ cột cuối cùng (Ko có cột type)\n",
    "        Y = dataset[ : , -1] # Chọn tất cả hàng nhưng chỉ lấy cột cuối cùng (Cột type)\n",
    "        \n",
    "        # Lấy ra số lượng quan sát và số biến thuộc tính (Sử dụng np.shape(data))\n",
    "        num_samples, num_features = np.shape(X) # np.shape(X) trả về số hàng và cột của X \n",
    "        \n",
    "        # Tiếp tục tách cây nếu như thỏa mãn điều kiện dưới\n",
    "        if (num_samples >= self.min_sample_splits and current_depth <= self.max_depth):\n",
    "            \n",
    "            #Tìm ra cách tách tốt nhất\n",
    "            best_split = self.get_best_split(dataset, num_samples, num_features)\n",
    "            \n",
    "            #Kiểm tra xem information gain có lớn hơn 0 hay ko (= 0 thì node đó sẽ chứa cùng 1 kiểu dữ liệu => leaf node)\n",
    "            if (best_split[\"information_gain\"] > 0):\n",
    "                \n",
    "                left_tree = self.build_tree(best_split[\"dataset_left\"], current_depth + 1)\n",
    "                right_tree = self.build_tree(best_split[\"dataset_right\"], current_depth + 1)\n",
    "                \n",
    "                #Trả về decision node\n",
    "                return Node(best_split[\"feature_index\"], best_split[\"threshold\"], left_tree, right_tree, best_split[\"information_gain\"])\n",
    "            \n",
    "        # Gặp điều kiện dừng => Node sẽ trở thành leaf node\n",
    "        \n",
    "        ## Tính toán giá trị leaf node\n",
    "        leaf_value = self.calculate_leaf_value(Y)\n",
    "\n",
    "        # Trả về leaf node \n",
    "        return Node(value = leaf_value)\n",
    "    \n",
    "    \n",
    "    def get_best_split(self, dataset, num_samples, num_features):\n",
    "        # Tạo ra một dictionary để lưu giá trị\n",
    "        best_split = {} \n",
    "        \n",
    "        # Khởi tạo max information gain\n",
    "        max_information_gain = -1 \n",
    "        \n",
    "        # Duyệt hết các biến thuộc tính (feature)\n",
    "        for feature_index in range(num_features):\n",
    "            feature_values = dataset[ : , feature_index] # Lấy ra tất cả các hàng ở cột thứ feature_index\n",
    "            # => thu được một mảng các giá trị của biến feature thứ index\n",
    "            \n",
    "            #Coi mỗi giá trị của biến feature là một threshold (ngưỡng giá trị) để chia dữ liệu\n",
    "            unique_thresholds = np.unique(feature_values) # Loại bỏ các giá trị trùng lặp\n",
    "            \n",
    "            #Duyệt tất cả các giá trị của feature (thresholds) có trong data\n",
    "            for threshold in unique_thresholds:\n",
    "                #Tách dataset thành 2 phần tại giá trị threshold\n",
    "                dataset_left, dataset_right = self.split(dataset, feature_index, threshold)\n",
    "                \n",
    "                #Kiểm tra xem 2 bộ dataset vừa tách ra có null hay không\n",
    "                if (len(dataset_left) > 0 and len(dataset_right) > 0):\n",
    "                    \n",
    "                    # Lấy ra các biến mục tiêu theo 3 bộ data lần lượt\n",
    "                    y = dataset[ : , -1] #biến mục tiêu gốc\n",
    "                    left_y = dataset_left[ : , -1] #biến mục tiêu dataset_left\n",
    "                    right_y = dataset_right[ : , -1] #biến mục tiêu dataset_right\n",
    "                    \n",
    "                    #Tính toán information gain\n",
    "                    current_information_gain = self.calculate_info_gain(y, left_y, right_y, \"gini\")\n",
    "                    \n",
    "                    #update best split nếu thỏa mãn điều kiện dưới\n",
    "                    if (current_information_gain > max_information_gain):\n",
    "                        best_split[\"feature_index\"] = feature_index\n",
    "                        best_split[\"threshold\"] = threshold\n",
    "                        best_split[\"dataset_left\"] = dataset_left\n",
    "                        best_split[\"dataset_right\"] = dataset_right\n",
    "                        best_split[\"information_gain\"] = current_information_gain\n",
    "                        \n",
    "                        #update max information gain\n",
    "                        max_information_gain = current_information_gain\n",
    "                \n",
    "        return best_split\n",
    "    \n",
    "    \n",
    "    def split(self, dataset, feature_index, threshold):\n",
    "        \n",
    "        rows_left = []\n",
    "        rows_right = []\n",
    "        \n",
    "        # Tách dataset của biến feature thứ index thành 2 phần dựa theo threshold\n",
    "        for row in dataset:\n",
    "            if (row[feature_index] <= threshold):\n",
    "                rows_left.append(row)\n",
    "            else:\n",
    "                rows_right.append(row)\n",
    "        \n",
    "        #convert từ array sang np.array\n",
    "        dataset_left = np.array(rows_left)\n",
    "        dataset_right = np.array(rows_right)\n",
    "        \n",
    "        return dataset_left, dataset_right\n",
    "    \n",
    "    \n",
    "    def calculate_leaf_value(self, Y):\n",
    "        Y = list(Y)\n",
    "        return max(Y, key = Y.count)\n",
    "                \n",
    "    \n",
    "    def print_preorder_tree(self, tree = None, indent = \"   \"):\n",
    "        if (not tree):\n",
    "            tree = self.root\n",
    "        \n",
    "        if (tree.value is not None):\n",
    "            print(tree.value)\n",
    "        else:\n",
    "            print(\"X_\" + str(tree.feature_index), \"<=\", tree.threshold,\"?\", tree.information_gain)\n",
    "            print(\"%sleft: \" %(indent), end = \"\")\n",
    "            self.print_preorder_tree(tree.left, indent + indent)\n",
    "            print(\"%sright: \" %(indent), end = \"\")\n",
    "            self.print_preorder_tree(tree.right, indent + indent)\n",
    "            \n",
    "    def predict(self, X):\n",
    "        predictions = [self.make_prediction(x, self.root) for x in X]\n",
    "        return predictions\n",
    "    \n",
    "    \n",
    "    def make_prediction(self, x, tree):\n",
    "        \n",
    "        if (tree.value != None):\n",
    "            return tree.value\n",
    "        \n",
    "        feature_value = x[tree.feature_index]\n",
    "        if (feature_value <= tree.threshold):\n",
    "            return self.make_prediction(x, tree.left)\n",
    "        else:\n",
    "            return self.make_prediction(x, tree.right)"
   ]
  },
  {
   "cell_type": "markdown",
   "id": "0d898181-479f-4575-9a38-987dd31d6956",
   "metadata": {},
   "source": [
    "- Để implement decision tree (ở đây là classifier), ta tạo ra 2 class **Node** và **DecisionTreeClassifier**\n",
    "- **Node** có một hàm dựng với các thuộc tính: \n",
    "    - feature_index: index của thuộc tính trong mảng\n",
    "    - threshold: ngưỡng giá trị của thuộc tính\n",
    "    - left, right: các node con trái và phải\n",
    "    - information_gain: gini gain (vì class này hỗ trợ cả tính bằng entropy như id3 nên đặt là information gain để tổng quát)\n",
    "    \n",
    "    - value: giá trị của leaf node \n",
    "    \n",
    "- **DecisionTreeClassifier**:\n",
    "    - Hàm dựng:\n",
    "        - root: khởi tạo bằng null\n",
    "        - 2 điều kiện dừng:\n",
    "            - min_sample_split: số quan sát tối thiểu để node được phép tách tiếp, nếu số quan sát của node < giá trị này thì node này sẽ ko được tách mà sẽ được coi là leaf node\n",
    "            - max_depth: độ sâu tối thiểu của cây, nếu vượt quá thì sẽ ko được tách tiếp\n",
    "    - build_tree(dataset, current_depth): Node : Hàm đệ quy để tạo ra cây\n",
    "    - get_best_split(dataset, num_features, num_samples): Dict : Hàm để tính toán cách tách tốt nhất dựa vào gini gain hoặc info gain\n",
    "    - gini_index(y): float : tính gini index của tập y\n",
    "    - entropy(y): float : tính entropy của tập y\n",
    "    - calculate_info_gain(parent, left_child, right_child, mode): float : tính gini gain (hoặc info gain) tùy vào mode truyền vào\n",
    "    - predict(X): float : trả về kết quả dự đoán khi model nhận vào một dãy các giá trị X\n",
    "    - ........"
   ]
  },
  {
   "cell_type": "markdown",
   "id": "ba66f186-dca9-4456-be63-4970158d6295",
   "metadata": {},
   "source": [
    "## 3. Quy trình hoạt động"
   ]
  },
  {
   "cell_type": "markdown",
   "id": "2824657f-3b7d-473a-8c73-e25a9f97699f",
   "metadata": {},
   "source": [
    "- **B1: Ứng với mỗi node, ta tìm được một điểm chia tốt nhất. Để tìm được điểm chia này ta có thể dùng greedy algorithm (Lặp lại quy trình với mọi dữ liệu đến khi nào lấy ra được dữ liệu tốt nhất chúng ta cần)**\n",
    "- **B2: Tách dữ liệu input bằng điểm chia tốt nhất đã tìm được ở B1**\n",
    "- **B3: Tiếp tục lặp lại các bước trên cho đến khi gặp điều kiện dừng của cây hoặc không còn dữ liệu nào chưa được phân loại nữa** "
   ]
  },
  {
   "cell_type": "markdown",
   "id": "bdd171e2-b199-44bc-94d8-fdddd09958ef",
   "metadata": {},
   "source": [
    "## 4. Gini gain / impurity"
   ]
  },
  {
   "cell_type": "markdown",
   "id": "135825ac-1b46-4db3-b481-f8775b1d5024",
   "metadata": {},
   "source": [
    "- Thuật toán CART sử dụng gini impurity (Độ tinh khiết) để tách dữ liệu vào trong DT. Điều này được thực hiện bằng cách tìm ra những node con có tập dữ liệu đồng nhất tốt nhất dựa trên tiêu chuẩn gini index.\n",
    "- gini gain cũng giống như information gain, đều dùng để quyết định xem việc phân chia ở decision node có tốt hay không. Lúc tách node chúng ta sẽ muốn chỉ số gini index càng nhỏ càng tốt"
   ]
  },
  {
   "attachments": {
    "3a7ce986-a3fb-4d58-8cde-90674dd74f9c.png": {
     "image/png": "[encoded data removed]"
    }
   },
   "cell_type": "markdown",
   "id": "7f53597b-68ed-4690-b1a5-79f3a28aef1e",
   "metadata": {},
   "source": [
    "![image.png](attachment:3a7ce986-a3fb-4d58-8cde-90674dd74f9c.png)"
   ]
  },
  {
   "cell_type": "markdown",
   "id": "bb9f9ba5-3086-4298-94f3-d3f7a1cc5519",
   "metadata": {},
   "source": [
    "- Sau khi tính được gini index ở node cha và node con, ta có thể tính được chỉ số gini gain:"
   ]
  },
  {
   "attachments": {
    "c352ddce-0c6b-4b17-97fa-d6e285641b9f.png": {
     "image/png": "[encoded data removed]"
    }
   },
   "cell_type": "markdown",
   "id": "2cefdf06-42f8-4568-aa06-1d9dbb2697c0",
   "metadata": {},
   "source": [
    "![image.png](attachment:c352ddce-0c6b-4b17-97fa-d6e285641b9f.png)"
   ]
  },
  {
   "cell_type": "markdown",
   "id": "dc31b856-c8a7-40cc-9366-63f618792ca2",
   "metadata": {},
   "source": [
    "- mk / M chính là trọng số (weight)"
   ]
  },
  {
   "cell_type": "markdown",
   "id": "4f59ef0e-f467-4a81-8332-69beb0fd9a62",
   "metadata": {},
   "source": [
    "- Chúng ta mong muốn chỉ số gini gain này càng lớn càng tốt (tương tự với information gain)"
   ]
  },
  {
   "cell_type": "markdown",
   "id": "2572d284-f757-432a-8402-37304d8ba913",
   "metadata": {},
   "source": [
    "## 5. Classification tree (cây phân loại):\n",
    "- Đây là thuật toán được sử dụng khi biến mục tiêu là biến phân loại. Thuật toán này dùng để nhận diện lớp nào mà dữ liệu được dự đoán sẽ thuộc về\n",
    "- Ví dụ cho cây phân loại đã được code ở trên"
   ]
  },
  {
   "cell_type": "markdown",
   "id": "eee2734f-cd16-4428-9f40-6347ac8e1913",
   "metadata": {},
   "source": [
    "## 6. Regression tree (cây hồi quy):\n",
    "- Thuật toán cây hồi quy được dùng khi biến mục tiêu là biến liên tục, cây được sử dụng để dự đoán giá trị mà biến mục tiêu sẽ rơi vào"
   ]
  },
  {
   "cell_type": "code",
   "execution_count": 4,
   "id": "5b18202c-86f9-4f69-a416-2e4fa7a9c3e1",
   "metadata": {},
   "outputs": [],
   "source": [
    "class Node():\n",
    "    def __init__(self, feature_index = None,  threshold = None, left = None, right = None, var_reduction = None, value = None ):\n",
    "        self.feature_index = feature_index\n",
    "        self.threshold = threshold\n",
    "        self.left = left\n",
    "        self.right = right\n",
    "        self.var_red = var_reduction\n",
    "        self.value = value"
   ]
  },
  {
   "cell_type": "code",
   "execution_count": 5,
   "id": "8494608e-175e-467e-b3fb-d7d8b4d8b1c0",
   "metadata": {},
   "outputs": [],
   "source": [
    "class DecisionTreeRegressor():\n",
    "    def __init__(self, min_samples_split=2, max_depth=2):\n",
    "        ''' constructor '''\n",
    "        \n",
    "        # initialize the root of the tree \n",
    "        self.root = None\n",
    "        \n",
    "        # stopping conditions\n",
    "        self.min_samples_split = min_samples_split\n",
    "        self.max_depth = max_depth\n",
    "        \n",
    "    def build_tree(self, dataset, curr_depth=0):\n",
    "        ''' recursive function to build the tree '''\n",
    "        \n",
    "        X, Y = dataset[:,:-1], dataset[:,-1]\n",
    "        num_samples, num_features = np.shape(X)\n",
    "        best_split = {}\n",
    "        # split until stopping conditions are met\n",
    "        if num_samples>=self.min_samples_split and curr_depth<=self.max_depth:\n",
    "            # find the best split\n",
    "            best_split = self.get_best_split(dataset, num_samples, num_features)\n",
    "            # check if information gain is positive\n",
    "            if best_split[\"var_red\"]>0:\n",
    "                # recur left\n",
    "                left_subtree = self.build_tree(best_split[\"dataset_left\"], curr_depth+1)\n",
    "                # recur right\n",
    "                right_subtree = self.build_tree(best_split[\"dataset_right\"], curr_depth+1)\n",
    "                # return decision node\n",
    "                return Node(best_split[\"feature_index\"], best_split[\"threshold\"], \n",
    "                            left_subtree, right_subtree, best_split[\"var_red\"])\n",
    "        \n",
    "        # compute leaf node\n",
    "        leaf_value = self.calculate_leaf_value(Y)\n",
    "        # return leaf node\n",
    "        return Node(value=leaf_value)\n",
    "    \n",
    "    def get_best_split(self, dataset, num_samples, num_features):\n",
    "        ''' function to find the best split '''\n",
    "        \n",
    "        # dictionary to store the best split\n",
    "        best_split = {}\n",
    "        max_var_red = -float(\"inf\")\n",
    "        # loop over all the features\n",
    "        for feature_index in range(num_features):\n",
    "            feature_values = dataset[:, feature_index]\n",
    "            possible_thresholds = np.unique(feature_values)\n",
    "            # loop over all the feature values present in the data\n",
    "            for threshold in possible_thresholds:\n",
    "                # get current split\n",
    "                dataset_left, dataset_right = self.split(dataset, feature_index, threshold)\n",
    "                # check if childs are not null\n",
    "                if len(dataset_left)>0 and len(dataset_right)>0:\n",
    "                    y, left_y, right_y = dataset[:, -1], dataset_left[:, -1], dataset_right[:, -1]\n",
    "                    # compute information gain\n",
    "                    curr_var_red = self.variance_reduction(y, left_y, right_y)\n",
    "                    # update the best split if needed\n",
    "                    if curr_var_red>max_var_red:\n",
    "                        best_split[\"feature_index\"] = feature_index\n",
    "                        best_split[\"threshold\"] = threshold\n",
    "                        best_split[\"dataset_left\"] = dataset_left\n",
    "                        best_split[\"dataset_right\"] = dataset_right\n",
    "                        best_split[\"var_red\"] = curr_var_red\n",
    "                        max_var_red = curr_var_red\n",
    "                        \n",
    "        # return best split\n",
    "        return best_split\n",
    "    \n",
    "    def split(self, dataset, feature_index, threshold):\n",
    "        ''' function to split the data '''\n",
    "        \n",
    "        dataset_left = np.array([row for row in dataset if row[feature_index]<=threshold])\n",
    "        dataset_right = np.array([row for row in dataset if row[feature_index]>threshold])\n",
    "        return dataset_left, dataset_right\n",
    "    \n",
    "    def variance_reduction(self, parent, l_child, r_child):\n",
    "        ''' function to compute variance reduction '''\n",
    "        \n",
    "        weight_l = len(l_child) / len(parent)\n",
    "        weight_r = len(r_child) / len(parent)\n",
    "        reduction = np.var(parent) - (weight_l * np.var(l_child) + weight_r * np.var(r_child))\n",
    "        return reduction\n",
    "    \n",
    "    def calculate_leaf_value(self, Y):\n",
    "        ''' function to compute leaf node '''\n",
    "        \n",
    "        val = np.mean(Y)\n",
    "        return val\n",
    "                \n",
    "    def print_tree(self, tree=None, indent=\" \"):\n",
    "        ''' function to print the tree '''\n",
    "        \n",
    "        if not tree:\n",
    "            tree = self.root\n",
    "\n",
    "        if tree.value is not None:\n",
    "            print(tree.value)\n",
    "\n",
    "        else:\n",
    "            print(\"X_\"+str(tree.feature_index), \"<=\", tree.threshold, \"?\", tree.var_red)\n",
    "            print(\"%sleft:\" % (indent), end=\"\")\n",
    "            self.print_tree(tree.left, indent + indent)\n",
    "            print(\"%sright:\" % (indent), end=\"\")\n",
    "            self.print_tree(tree.right, indent + indent)\n",
    "    \n",
    "    def fit(self, X, Y):\n",
    "        ''' function to train the tree '''\n",
    "        \n",
    "        dataset = np.concatenate((X, Y), axis=1)\n",
    "        self.root = self.build_tree(dataset)\n",
    "        \n",
    "    def make_prediction(self, x, tree):\n",
    "        ''' function to predict new dataset '''\n",
    "        \n",
    "        if tree.value!=None: return tree.value\n",
    "        feature_val = x[tree.feature_index]\n",
    "        if feature_val<=tree.threshold:\n",
    "            return self.make_prediction(x, tree.left)\n",
    "        else:\n",
    "            return self.make_prediction(x, tree.right)\n",
    "    \n",
    "    def predict(self, X):\n",
    "        ''' function to predict a single data point '''\n",
    "        \n",
    "        preditions = [self.make_prediction(x, self.root) for x in X]\n",
    "        return preditions"
   ]
  },
  {
   "cell_type": "markdown",
   "id": "6d4f3b01-7ef2-47c2-a1f1-2120a597b263",
   "metadata": {},
   "source": [
    "- Thay vì sử dụng gini gain thì đối với cây hồi quy, chúng ta sử dụng variance reduciton ( độ giảm phương sai) để quyết định xem điều kiện của decision node có tốt hay không. Tương tự như gini gain, chúng ta muốn chỉ số này càng lớn càng tốt."
   ]
  },
  {
   "cell_type": "markdown",
   "id": "2c34fd8c-912b-4df9-8d9c-1cd54ee1bce4",
   "metadata": {},
   "source": [
    "## 7. Ưu nhược của CART:"
   ]
  },
  {
   "cell_type": "markdown",
   "id": "5fbaa4a6-d23d-416a-8e21-4909143aad3f",
   "metadata": {},
   "source": [
    "### Ưu điểm: \n",
    "- kết quả thường đơn giản, dễ nhìn\n",
    "- Ko cần chuẩn bị, chuẩn hóa data (Xóa đi những dữ liệu null, ....)\n",
    "- Có thể xử lý cả biến phân loại và liên tục\n",
    "- CART model là phi tham số và phi tuyến tính\n",
    "### Nhược điểm:\n",
    "- Dễ bị overfitting neu ko preprune\n",
    "- Phương sai cao\n",
    "- Cấu trúc của cây có thể ko ổn định"
   ]
  },
  {
   "cell_type": "code",
   "execution_count": null,
   "id": "2bf17b2b-abb4-4386-9b05-d71fd78752e2",
   "metadata": {},
   "outputs": [],
   "source": []
  }
 ],
 "metadata": {
  "kernelspec": {
   "display_name": "Python 3 (ipykernel)",
   "language": "python",
   "name": "python3"
  },
  "language_info": {
   "codemirror_mode": {
    "name": "ipython",
    "version": 3
   },
   "file_extension": ".py",
   "mimetype": "text/x-python",
   "name": "python",
   "nbconvert_exporter": "python",
   "pygments_lexer": "ipython3",
   "version": "3.10.7"
  }
 },
 "nbformat": 4,
 "nbformat_minor": 5
}
