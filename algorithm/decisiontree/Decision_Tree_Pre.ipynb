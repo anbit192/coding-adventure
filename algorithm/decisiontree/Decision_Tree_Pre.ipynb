{
 "cells": [
  {
   "attachments": {},
   "cell_type": "markdown",
   "metadata": {},
   "source": [
    "# Thuật toán ID3 cho dữ liệu định tính"
   ]
  },
  {
   "cell_type": "code",
   "execution_count": 8,
   "metadata": {
    "id": "l507IwUXIbm1"
   },
   "outputs": [],
   "source": [
    "import pandas as pd\n",
    "import numpy as np"
   ]
  },
  {
   "attachments": {},
   "cell_type": "markdown",
   "metadata": {},
   "source": [
    "feature: đặc trưng sẽ được sử dụng để phân tách các nhánh tiếp theo của cây.\n",
    "value: giá trị của đặc trưng, được sử dụng để phân tách các nhánh tiếp theo của cây.\n",
    "label: nhãn của nút, được sử dụng để dự đoán kết quả.\n",
    "branches: tập hợp các nút con được phân tách từ nút hiện tại."
   ]
  },
  {
   "cell_type": "code",
   "execution_count": 9,
   "metadata": {
    "id": "6cYXvvPDLt3y"
   },
   "outputs": [],
   "source": [
    "class Node:\n",
    "    def __init__(self, feature=None, value=None, label=None, branches=None):\n",
    "        self.feature = feature\n",
    "        self.value = value\n",
    "        self.label = label\n",
    "        self.branches = branches"
   ]
  },
  {
   "attachments": {},
   "cell_type": "markdown",
   "metadata": {},
   "source": [
    "Tính entropy:\n",
    "\\begin{aligned}\n",
    "H(\\mathbf{p}) = -\\sum_{i=1}^n p_i \\log(p_i)\\quad\\quad (1)\n",
    "\\end{aligned}"
   ]
  },
  {
   "cell_type": "code",
   "execution_count": 10,
   "metadata": {
    "id": "nnwS0EgJLzBr"
   },
   "outputs": [
    {
     "name": "stdout",
     "output_type": "stream",
     "text": [
      "0      no\n",
      "1      no\n",
      "2     yes\n",
      "3     yes\n",
      "4     yes\n",
      "5      no\n",
      "6     yes\n",
      "7      no\n",
      "8     yes\n",
      "9     yes\n",
      "10    yes\n",
      "11    yes\n",
      "12    yes\n",
      "13     no\n",
      "Name: Decision, dtype: object\n",
      "Decision\n",
      "yes    0.642857\n",
      "no     0.357143\n",
      "Name: proportion, dtype: float64\n"
     ]
    },
    {
     "data": {
      "text/plain": [
       "0.9402859586706311"
      ]
     },
     "execution_count": 10,
     "metadata": {},
     "output_type": "execute_result"
    }
   ],
   "source": [
    "def entropy(data):\n",
    "    label_freq = data.iloc[:, -1].value_counts(normalize=True)\n",
    "    print(label_freq)\n",
    "    entropy = 0\n",
    "    for p in label_freq:\n",
    "        entropy += -p * np.log2(p)\n",
    "    return entropy\n",
    "\n",
    "data = pd.read_csv(\"datasets/playing.csv\")\n",
    "print(data['Decision'])\n",
    "entropy(data)\n"
   ]
  },
  {
   "attachments": {},
   "cell_type": "markdown",
   "metadata": {},
   "source": []
  },
  {
   "cell_type": "code",
   "execution_count": 11,
   "metadata": {
    "id": "dRCtQQv4L4aL"
   },
   "outputs": [],
   "source": [
    "def information_gain(data, feature):\n",
    "\n",
    "    total_entropy = entropy(data)\n",
    "    values, counts = np.unique(data[feature], return_counts=True)\n",
    "    weighted_entropy = 0\n",
    "    for i in range(len(values)):\n",
    "        p = counts[i]/np.sum(counts)\n",
    "        weighted_entropy += p * entropy(data.where(data[feature] == values[i]).dropna())\n",
    "    information_gain = total_entropy - weighted_entropy\n",
    "    return information_gain\n",
    "\n",
    "\n",
    "\n"
   ]
  },
  {
   "cell_type": "code",
   "execution_count": 13,
   "metadata": {},
   "outputs": [
    {
     "name": "stdout",
     "output_type": "stream",
     "text": [
      "Decision\n",
      "yes    0.642857\n",
      "no     0.357143\n",
      "Name: proportion, dtype: float64\n",
      "Decision\n",
      "yes    1.0\n",
      "Name: proportion, dtype: float64\n",
      "Decision\n",
      "yes    0.6\n",
      "no     0.4\n",
      "Name: proportion, dtype: float64\n",
      "Decision\n",
      "no     0.6\n",
      "yes    0.4\n",
      "Name: proportion, dtype: float64\n",
      "outlook: 0.24674981977443933\n",
      "Decision\n",
      "yes    0.642857\n",
      "no     0.357143\n",
      "Name: proportion, dtype: float64\n",
      "Decision\n",
      "yes    0.75\n",
      "no     0.25\n",
      "Name: proportion, dtype: float64\n",
      "Decision\n",
      "no     0.5\n",
      "yes    0.5\n",
      "Name: proportion, dtype: float64\n",
      "Decision\n",
      "yes    0.666667\n",
      "no     0.333333\n",
      "Name: proportion, dtype: float64\n",
      "temperature: 0.02922256565895487\n",
      "Decision\n",
      "yes    0.642857\n",
      "no     0.357143\n",
      "Name: proportion, dtype: float64\n",
      "Decision\n",
      "no     0.571429\n",
      "yes    0.428571\n",
      "Name: proportion, dtype: float64\n",
      "Decision\n",
      "yes    0.857143\n",
      "no     0.142857\n",
      "Name: proportion, dtype: float64\n",
      "humidity: 0.15183550136234159\n",
      "Decision\n",
      "yes    0.642857\n",
      "no     0.357143\n",
      "Name: proportion, dtype: float64\n",
      "Decision\n",
      "no     0.5\n",
      "yes    0.5\n",
      "Name: proportion, dtype: float64\n",
      "Decision\n",
      "yes    0.75\n",
      "no     0.25\n",
      "Name: proportion, dtype: float64\n",
      "wind: 0.04812703040826949\n"
     ]
    }
   ],
   "source": [
    "data = pd.read_csv(\"datasets/playing.csv\")\n",
    "features = list(data.columns[1:-1])\n",
    "for i in features:\n",
    "    gain = information_gain(data,i)\n",
    "    print(f\"{i}: {gain}\")\n"
   ]
  },
  {
   "attachments": {},
   "cell_type": "markdown",
   "metadata": {},
   "source": [
    "Các tham số đầu vào của hàm bao gồm:\n",
    "\n",
    "- data: dữ liệu đầu vào được lưu dưới dạng DataFrame của thư viện Pandas.\n",
    "- features: danh sách các thuộc tính được sử dụng để xây dựng cây quyết định.\n",
    "- target: tên của thuộc tính đích, tức là thuộc tính cần được phân loại.\n",
    "Trong hàm, chúng ta đầu tiên kiểm tra xem liệu tất cả các mẫu đầu vào có cùng nhãn hay không. Nếu có, chúng ta trả về một nút lá với nhãn đó. Nếu không, chúng ta kiểm tra xem đã sử dụng hết các thuộc tính để xây dựng cây chưa. Nếu rồi, chúng ta trả về một nút lá với nhãn được xác định bằng cách chọn nhãn xuất hiện nhiều nhất trong tập dữ liệu.\n",
    "\n",
    "Nếu chưa, chúng ta chọn thuộc tính có độ lợi thông tin (information gain) lớn nhất để phân chia tập dữ liệu. Sau đó, chúng ta tạo một nút trên cây với thuộc tính được chọn và lặp lại quá trình trên từng giá trị của thuộc tính này. Điều này được thực hiện bằng cách tái đệ quy hàm ID3 với tập dữ liệu con được chọn và danh sách thuộc tính khác (loại bỏ thuộc tính đã chọn) cho đến khi chúng ta đạt được điều kiện dừng.\n",
    "\n",
    "Cuối cùng, chúng ta trả về cây quyết định đã xây dựng được dưới dạng một đối tượng Node trong Python. Cây quyết định này có thể được sử dụng để phân loại các mẫu mới dựa trên các giá trị của các thuộc tính được chỉ định."
   ]
  },
  {
   "cell_type": "code",
   "execution_count": 14,
   "metadata": {
    "id": "9ka2lt_9MErz"
   },
   "outputs": [],
   "source": [
    "def id3(data, features, target):\n",
    "    if len(np.unique(data[target])) <= 1:\n",
    "        return Node(label=data[target].iloc[0])\n",
    "    elif len(features) == 0:\n",
    "        mode_target = data[target].mode()[0]\n",
    "        return Node(label=mode_target)\n",
    "    else:\n",
    "        best_gain = 0\n",
    "        best_feature = \"\"\n",
    "        for i in features:\n",
    "            if information_gain(data, i) > best_gain:\n",
    "                best_gain = information_gain(data, i)\n",
    "                best_feature = i\n",
    "        tree = Node(feature=best_feature)\n",
    "        for value in np.unique(data[best_feature]): \n",
    "            sub_data = data.where(data[best_feature] == value).dropna()\n",
    "            print(sub_data)\n",
    "            sub_tree = id3(sub_data, [x for x in features if x != best_feature], target)\n",
    "            tree.branches = tree.branches or {}\n",
    "            tree.branches[value] = sub_tree\n",
    "        return tree\n"
   ]
  },
  {
   "cell_type": "code",
   "execution_count": 21,
   "metadata": {
    "id": "Jw4fjyodORBS"
   },
   "outputs": [],
   "source": [
    "# Để hiển thị cây quyết định được tạo ra bằng thuật toán ID3\n",
    "def print_tree(node, depth=0):\n",
    "    if node.label is not None:\n",
    "        print(\"         \"*depth, \"Leaf:\", node.label)\n",
    "    else:\n",
    "        print(\"         \"*depth, node.feature)\n",
    "        for value, subtree in node.branches.items():\n",
    "            print(\"  \"*(depth+1), value)\n",
    "            print_tree(subtree, depth+2)\n"
   ]
  },
  {
   "cell_type": "code",
   "execution_count": 15,
   "metadata": {},
   "outputs": [],
   "source": [
    "def predict(tree, new_data):\n",
    "    try:\n",
    "        if tree.label is not None:\n",
    "            return tree.label\n",
    "        else:\n",
    "            value = new_data[tree.feature]\n",
    "            subtree = tree.branches[value]\n",
    "            return predict(subtree, new_data)\n",
    "    except:\n",
    "        print(\"Dữ liệu sai!\")\n",
    "    \n"
   ]
  },
  {
   "cell_type": "code",
   "execution_count": 16,
   "metadata": {
    "colab": {
     "base_uri": "https://localhost:8080/"
    },
    "id": "q3iCWojBNex7",
    "outputId": "a336dd90-8733-4d1e-c6eb-8a66b4c8c7ca"
   },
   "outputs": [
    {
     "data": {
      "text/html": [
       "<div>\n",
       "<style scoped>\n",
       "    .dataframe tbody tr th:only-of-type {\n",
       "        vertical-align: middle;\n",
       "    }\n",
       "\n",
       "    .dataframe tbody tr th {\n",
       "        vertical-align: top;\n",
       "    }\n",
       "\n",
       "    .dataframe thead th {\n",
       "        text-align: right;\n",
       "    }\n",
       "</style>\n",
       "<table border=\"1\" class=\"dataframe\">\n",
       "  <thead>\n",
       "    <tr style=\"text-align: right;\">\n",
       "      <th></th>\n",
       "      <th>id</th>\n",
       "      <th>outlook</th>\n",
       "      <th>temperature</th>\n",
       "      <th>humidity</th>\n",
       "      <th>wind</th>\n",
       "      <th>Decision</th>\n",
       "    </tr>\n",
       "  </thead>\n",
       "  <tbody>\n",
       "    <tr>\n",
       "      <th>0</th>\n",
       "      <td>1</td>\n",
       "      <td>sunny</td>\n",
       "      <td>hot</td>\n",
       "      <td>high</td>\n",
       "      <td>weak</td>\n",
       "      <td>no</td>\n",
       "    </tr>\n",
       "    <tr>\n",
       "      <th>1</th>\n",
       "      <td>2</td>\n",
       "      <td>sunny</td>\n",
       "      <td>hot</td>\n",
       "      <td>high</td>\n",
       "      <td>strong</td>\n",
       "      <td>no</td>\n",
       "    </tr>\n",
       "    <tr>\n",
       "      <th>2</th>\n",
       "      <td>3</td>\n",
       "      <td>overcast</td>\n",
       "      <td>hot</td>\n",
       "      <td>high</td>\n",
       "      <td>weak</td>\n",
       "      <td>yes</td>\n",
       "    </tr>\n",
       "    <tr>\n",
       "      <th>3</th>\n",
       "      <td>4</td>\n",
       "      <td>rainy</td>\n",
       "      <td>mild</td>\n",
       "      <td>high</td>\n",
       "      <td>weak</td>\n",
       "      <td>yes</td>\n",
       "    </tr>\n",
       "    <tr>\n",
       "      <th>4</th>\n",
       "      <td>5</td>\n",
       "      <td>rainy</td>\n",
       "      <td>cool</td>\n",
       "      <td>normal</td>\n",
       "      <td>weak</td>\n",
       "      <td>yes</td>\n",
       "    </tr>\n",
       "    <tr>\n",
       "      <th>5</th>\n",
       "      <td>6</td>\n",
       "      <td>rainy</td>\n",
       "      <td>cool</td>\n",
       "      <td>normal</td>\n",
       "      <td>strong</td>\n",
       "      <td>no</td>\n",
       "    </tr>\n",
       "    <tr>\n",
       "      <th>6</th>\n",
       "      <td>7</td>\n",
       "      <td>overcast</td>\n",
       "      <td>cool</td>\n",
       "      <td>normal</td>\n",
       "      <td>strong</td>\n",
       "      <td>yes</td>\n",
       "    </tr>\n",
       "    <tr>\n",
       "      <th>7</th>\n",
       "      <td>8</td>\n",
       "      <td>sunny</td>\n",
       "      <td>mild</td>\n",
       "      <td>high</td>\n",
       "      <td>weak</td>\n",
       "      <td>no</td>\n",
       "    </tr>\n",
       "    <tr>\n",
       "      <th>8</th>\n",
       "      <td>9</td>\n",
       "      <td>sunny</td>\n",
       "      <td>cool</td>\n",
       "      <td>normal</td>\n",
       "      <td>weak</td>\n",
       "      <td>yes</td>\n",
       "    </tr>\n",
       "    <tr>\n",
       "      <th>9</th>\n",
       "      <td>10</td>\n",
       "      <td>rainy</td>\n",
       "      <td>mild</td>\n",
       "      <td>normal</td>\n",
       "      <td>weak</td>\n",
       "      <td>yes</td>\n",
       "    </tr>\n",
       "    <tr>\n",
       "      <th>10</th>\n",
       "      <td>11</td>\n",
       "      <td>sunny</td>\n",
       "      <td>mild</td>\n",
       "      <td>normal</td>\n",
       "      <td>strong</td>\n",
       "      <td>yes</td>\n",
       "    </tr>\n",
       "    <tr>\n",
       "      <th>11</th>\n",
       "      <td>12</td>\n",
       "      <td>overcast</td>\n",
       "      <td>mild</td>\n",
       "      <td>high</td>\n",
       "      <td>strong</td>\n",
       "      <td>yes</td>\n",
       "    </tr>\n",
       "    <tr>\n",
       "      <th>12</th>\n",
       "      <td>13</td>\n",
       "      <td>overcast</td>\n",
       "      <td>hot</td>\n",
       "      <td>normal</td>\n",
       "      <td>weak</td>\n",
       "      <td>yes</td>\n",
       "    </tr>\n",
       "    <tr>\n",
       "      <th>13</th>\n",
       "      <td>14</td>\n",
       "      <td>rainy</td>\n",
       "      <td>mild</td>\n",
       "      <td>high</td>\n",
       "      <td>strong</td>\n",
       "      <td>no</td>\n",
       "    </tr>\n",
       "  </tbody>\n",
       "</table>\n",
       "</div>"
      ],
      "text/plain": [
       "    id   outlook temperature humidity    wind Decision\n",
       "0    1     sunny         hot     high    weak       no\n",
       "1    2     sunny         hot     high  strong       no\n",
       "2    3  overcast         hot     high    weak      yes\n",
       "3    4     rainy        mild     high    weak      yes\n",
       "4    5     rainy        cool   normal    weak      yes\n",
       "5    6     rainy        cool   normal  strong       no\n",
       "6    7  overcast        cool   normal  strong      yes\n",
       "7    8     sunny        mild     high    weak       no\n",
       "8    9     sunny        cool   normal    weak      yes\n",
       "9   10     rainy        mild   normal    weak      yes\n",
       "10  11     sunny        mild   normal  strong      yes\n",
       "11  12  overcast        mild     high  strong      yes\n",
       "12  13  overcast         hot   normal    weak      yes\n",
       "13  14     rainy        mild     high  strong       no"
      ]
     },
     "execution_count": 16,
     "metadata": {},
     "output_type": "execute_result"
    }
   ],
   "source": [
    "data = pd.read_csv(\"datasets/playing.csv\")\n",
    "data\n"
   ]
  },
  {
   "cell_type": "code",
   "execution_count": 17,
   "metadata": {
    "colab": {
     "base_uri": "https://localhost:8080/"
    },
    "id": "5LtDN5ScOUXa",
    "outputId": "8cc57bda-2edf-498e-e8d6-839ffe1de7dd"
   },
   "outputs": [
    {
     "name": "stdout",
     "output_type": "stream",
     "text": [
      "Decision\n",
      "yes    0.642857\n",
      "no     0.357143\n",
      "Name: proportion, dtype: float64\n",
      "Decision\n",
      "yes    1.0\n",
      "Name: proportion, dtype: float64\n",
      "Decision\n",
      "yes    0.6\n",
      "no     0.4\n",
      "Name: proportion, dtype: float64\n",
      "Decision\n",
      "no     0.6\n",
      "yes    0.4\n",
      "Name: proportion, dtype: float64\n",
      "Decision\n",
      "yes    0.642857\n",
      "no     0.357143\n",
      "Name: proportion, dtype: float64\n",
      "Decision\n",
      "yes    1.0\n",
      "Name: proportion, dtype: float64\n",
      "Decision\n",
      "yes    0.6\n",
      "no     0.4\n",
      "Name: proportion, dtype: float64\n",
      "Decision\n",
      "no     0.6\n",
      "yes    0.4\n",
      "Name: proportion, dtype: float64\n",
      "Decision\n",
      "yes    0.642857\n",
      "no     0.357143\n",
      "Name: proportion, dtype: float64\n",
      "Decision\n",
      "yes    0.75\n",
      "no     0.25\n",
      "Name: proportion, dtype: float64\n",
      "Decision\n",
      "no     0.5\n",
      "yes    0.5\n",
      "Name: proportion, dtype: float64\n",
      "Decision\n",
      "yes    0.666667\n",
      "no     0.333333\n",
      "Name: proportion, dtype: float64\n",
      "Decision\n",
      "yes    0.642857\n",
      "no     0.357143\n",
      "Name: proportion, dtype: float64\n",
      "Decision\n",
      "no     0.571429\n",
      "yes    0.428571\n",
      "Name: proportion, dtype: float64\n",
      "Decision\n",
      "yes    0.857143\n",
      "no     0.142857\n",
      "Name: proportion, dtype: float64\n",
      "Decision\n",
      "yes    0.642857\n",
      "no     0.357143\n",
      "Name: proportion, dtype: float64\n",
      "Decision\n",
      "no     0.5\n",
      "yes    0.5\n",
      "Name: proportion, dtype: float64\n",
      "Decision\n",
      "yes    0.75\n",
      "no     0.25\n",
      "Name: proportion, dtype: float64\n",
      "      id   outlook temperature humidity    wind Decision\n",
      "2    3.0  overcast         hot     high    weak      yes\n",
      "6    7.0  overcast        cool   normal  strong      yes\n",
      "11  12.0  overcast        mild     high  strong      yes\n",
      "12  13.0  overcast         hot   normal    weak      yes\n",
      "      id outlook temperature humidity    wind Decision\n",
      "3    4.0   rainy        mild     high    weak      yes\n",
      "4    5.0   rainy        cool   normal    weak      yes\n",
      "5    6.0   rainy        cool   normal  strong       no\n",
      "9   10.0   rainy        mild   normal    weak      yes\n",
      "13  14.0   rainy        mild     high  strong       no\n",
      "Decision\n",
      "yes    0.6\n",
      "no     0.4\n",
      "Name: proportion, dtype: float64\n",
      "Decision\n",
      "yes    0.5\n",
      "no     0.5\n",
      "Name: proportion, dtype: float64\n",
      "Decision\n",
      "yes    0.666667\n",
      "no     0.333333\n",
      "Name: proportion, dtype: float64\n",
      "Decision\n",
      "yes    0.6\n",
      "no     0.4\n",
      "Name: proportion, dtype: float64\n",
      "Decision\n",
      "yes    0.5\n",
      "no     0.5\n",
      "Name: proportion, dtype: float64\n",
      "Decision\n",
      "yes    0.666667\n",
      "no     0.333333\n",
      "Name: proportion, dtype: float64\n",
      "Decision\n",
      "yes    0.6\n",
      "no     0.4\n",
      "Name: proportion, dtype: float64\n",
      "Decision\n",
      "yes    0.5\n",
      "no     0.5\n",
      "Name: proportion, dtype: float64\n",
      "Decision\n",
      "yes    0.666667\n",
      "no     0.333333\n",
      "Name: proportion, dtype: float64\n",
      "Decision\n",
      "yes    0.6\n",
      "no     0.4\n",
      "Name: proportion, dtype: float64\n",
      "Decision\n",
      "no    1.0\n",
      "Name: proportion, dtype: float64\n",
      "Decision\n",
      "yes    1.0\n",
      "Name: proportion, dtype: float64\n",
      "Decision\n",
      "yes    0.6\n",
      "no     0.4\n",
      "Name: proportion, dtype: float64\n",
      "Decision\n",
      "no    1.0\n",
      "Name: proportion, dtype: float64\n",
      "Decision\n",
      "yes    1.0\n",
      "Name: proportion, dtype: float64\n",
      "      id outlook temperature humidity    wind Decision\n",
      "5    6.0   rainy        cool   normal  strong       no\n",
      "13  14.0   rainy        mild     high  strong       no\n",
      "     id outlook temperature humidity  wind Decision\n",
      "3   4.0   rainy        mild     high  weak      yes\n",
      "4   5.0   rainy        cool   normal  weak      yes\n",
      "9  10.0   rainy        mild   normal  weak      yes\n",
      "      id outlook temperature humidity    wind Decision\n",
      "0    1.0   sunny         hot     high    weak       no\n",
      "1    2.0   sunny         hot     high  strong       no\n",
      "7    8.0   sunny        mild     high    weak       no\n",
      "8    9.0   sunny        cool   normal    weak      yes\n",
      "10  11.0   sunny        mild   normal  strong      yes\n",
      "Decision\n",
      "no     0.6\n",
      "yes    0.4\n",
      "Name: proportion, dtype: float64\n",
      "Decision\n",
      "yes    1.0\n",
      "Name: proportion, dtype: float64\n",
      "Decision\n",
      "no    1.0\n",
      "Name: proportion, dtype: float64\n",
      "Decision\n",
      "no     0.5\n",
      "yes    0.5\n",
      "Name: proportion, dtype: float64\n",
      "Decision\n",
      "no     0.6\n",
      "yes    0.4\n",
      "Name: proportion, dtype: float64\n",
      "Decision\n",
      "yes    1.0\n",
      "Name: proportion, dtype: float64\n",
      "Decision\n",
      "no    1.0\n",
      "Name: proportion, dtype: float64\n",
      "Decision\n",
      "no     0.5\n",
      "yes    0.5\n",
      "Name: proportion, dtype: float64\n",
      "Decision\n",
      "no     0.6\n",
      "yes    0.4\n",
      "Name: proportion, dtype: float64\n",
      "Decision\n",
      "no    1.0\n",
      "Name: proportion, dtype: float64\n",
      "Decision\n",
      "yes    1.0\n",
      "Name: proportion, dtype: float64\n",
      "Decision\n",
      "no     0.6\n",
      "yes    0.4\n",
      "Name: proportion, dtype: float64\n",
      "Decision\n",
      "no    1.0\n",
      "Name: proportion, dtype: float64\n",
      "Decision\n",
      "yes    1.0\n",
      "Name: proportion, dtype: float64\n",
      "Decision\n",
      "no     0.6\n",
      "yes    0.4\n",
      "Name: proportion, dtype: float64\n",
      "Decision\n",
      "no     0.5\n",
      "yes    0.5\n",
      "Name: proportion, dtype: float64\n",
      "Decision\n",
      "no     0.666667\n",
      "yes    0.333333\n",
      "Name: proportion, dtype: float64\n",
      "    id outlook temperature humidity    wind Decision\n",
      "0  1.0   sunny         hot     high    weak       no\n",
      "1  2.0   sunny         hot     high  strong       no\n",
      "7  8.0   sunny        mild     high    weak       no\n",
      "      id outlook temperature humidity    wind Decision\n",
      "8    9.0   sunny        cool   normal    weak      yes\n",
      "10  11.0   sunny        mild   normal  strong      yes\n",
      "Dữ liệu sai!\n",
      "Kết quả dự đoán: None\n"
     ]
    }
   ],
   "source": [
    "target = \"Decision\"\n",
    "features = list(data.columns[1:-1])\n",
    "tree = id3(data, features, target)\n",
    "new_data = {\"outlook\": \"rainy\", \"temperature\": \"hot\",\n",
    "            \"humidity\": \"normal\", \"windy\": \"weak\"}\n",
    "prediction = predict(tree, new_data)\n",
    "print(f\"Kết quả dự đoán: {prediction}\")\n"
   ]
  },
  {
   "cell_type": "code",
   "execution_count": 22,
   "metadata": {},
   "outputs": [
    {
     "name": "stdout",
     "output_type": "stream",
     "text": [
      " outlook\n",
      "   overcast\n",
      "                   Leaf: yes\n",
      "   rainy\n",
      "                   wind\n",
      "       strong\n",
      "                                     Leaf: no\n",
      "       weak\n",
      "                                     Leaf: yes\n",
      "   sunny\n",
      "                   humidity\n",
      "       high\n",
      "                                     Leaf: no\n",
      "       normal\n",
      "                                     Leaf: yes\n"
     ]
    }
   ],
   "source": [
    "print_tree(tree)\n"
   ]
  },
  {
   "attachments": {},
   "cell_type": "markdown",
   "metadata": {},
   "source": [
    "# Decision Tree trong `sklearn`"
   ]
  },
  {
   "attachments": {},
   "cell_type": "markdown",
   "metadata": {},
   "source": [
    "Scikit-Learn sử dụng thuật toán `CART` chỉ tạo ra các cây nhị phân: các nút không là lá luôn có hai nút con (nghĩa là các câu hỏi chỉ có câu trả lời có/không)."
   ]
  },
  {
   "attachments": {},
   "cell_type": "markdown",
   "metadata": {},
   "source": [
    "Thuật toán này sử dụng một thuộc tính `k` trong tập các tập thuộc tính và ngưỡng $t_k$ là ngưỡng để phân chia dữ liệu thành 2 phần"
   ]
  },
  {
   "attachments": {},
   "cell_type": "markdown",
   "metadata": {},
   "source": [
    "## Gini Impurity (Gini index) "
   ]
  },
  {
   "attachments": {},
   "cell_type": "markdown",
   "metadata": {},
   "source": [
    "- là một phương pháp đo độ tinh khiết của một tập hợp dữ liệu được sử dụng trong các thuật toán học máy"
   ]
  },
  {
   "attachments": {},
   "cell_type": "markdown",
   "metadata": {},
   "source": [
    "- Gini index đo lường khả năng chọn một mẫu ngẫu nhiên từ tập hợp dữ liệu và xác định xem nó sẽ được phân loại đúng trong tập hợp đó hoặc không"
   ]
  },
  {
   "attachments": {},
   "cell_type": "markdown",
   "metadata": {},
   "source": [
    "- Mục tiêu của việc sử dụng Gini index trong CART là tìm thuộc tính và giá trị ngưỡng phân chia mà cho kết quả tối ưu trong việc phân loại các mẫu vào các nhóm khác nhau."
   ]
  },
  {
   "attachments": {},
   "cell_type": "markdown",
   "metadata": {},
   "source": [
    "$$\\text{Gini Impurity} = \\sum_{i=1}^{K}p_{i}(1-p_{i}) = 1 - \\sum_{i=1}^{K}p_{i}^2$$"
   ]
  },
  {
   "attachments": {},
   "cell_type": "markdown",
   "metadata": {},
   "source": [
    "- Tính bằng cách tính tổng xác suất lỗi phân loại khi một quan sát được phân loại ngẫu nhiên theo phân phối xác suất của các nhãn."
   ]
  },
  {
   "attachments": {},
   "cell_type": "markdown",
   "metadata": {
    "id": "aFCPx4tTOZhl"
   },
   "source": [
    "## CART Hàm mất mát cho bài toán phân loại"
   ]
  },
  {
   "attachments": {},
   "cell_type": "markdown",
   "metadata": {},
   "source": [
    "$$J(k, t_k) = \\frac{m_{\\text{left}}}{m} G_{\\text{left}} + \\frac{m_{\\text{right}}}{m} G_{\\text{right}}$$"
   ]
  },
  {
   "attachments": {},
   "cell_type": "markdown",
   "metadata": {},
   "source": [
    "$$\n",
    "\\begin{cases}\n",
    "    G_{\\text{left/right}} \\text{ measures the impurity of the left/right subset} \\\\\n",
    "    m_{\\text{left/right}} \\text{ is the number of instances in the left/right subset}\n",
    "\\end{cases}\n",
    "$$"
   ]
  },
  {
   "attachments": {},
   "cell_type": "markdown",
   "metadata": {},
   "source": [
    "Có thể chọn phép đo thành Entropy Impurity bằng cách đặt `criterion` bằng `entropy` trong `sklearn`"
   ]
  },
  {
   "attachments": {},
   "cell_type": "markdown",
   "metadata": {},
   "source": [
    "Việc sử dụng Gini Impurity hay Entropy làm tiêu chí phân tách tùy thuộc vào vấn đề và dữ liệu. Dưới đây là một số cân nhắc chung: \n",
    "\n",
    "- Gini Impurity có xu hướng tính toán nhanh hơn entropy, điều này làm cho nó trở thành một lựa chọn tốt khi xử lý các tập dữ liệu lớn. \n",
    "\n",
    "- Gini Impurity là một tiêu chí tốt để sử dụng khi các lớp cân bằng tốt, trong khi entropy có thể hoạt động tốt hơn khi các lớp không cân bằng. \n",
    "\n",
    "- Entropy là một tiêu chí cung cấp nhiều thông tin hơn so với Gini Impurity, vì nó tính đến xác suất của từng loại, thay vì chỉ các tần số. Nó có thể dẫn đến một cây cân bằng và chính xác hơn trong một số trường hợp. \n",
    "\n",
    "- Cả Gini Impurity và entropy đều được sử dụng rộng rãi và đã được chứng minh là hoạt động tốt trong nhiều ứng dụng trong thế giới thực. \n"
   ]
  },
  {
   "attachments": {},
   "cell_type": "markdown",
   "metadata": {},
   "source": [
    "## CART Hàm mất mát cho bài toán hồi quy"
   ]
  },
  {
   "attachments": {},
   "cell_type": "markdown",
   "metadata": {},
   "source": [
    "Vẫn là cách hoạt động cũ, nhưng thay vì sư dụng `Gini Impurity` thì có thể huấn luyện mô hình với `MSE` (Mean Square Error), làm cho `MSE` là nhỏ nhất:"
   ]
  },
  {
   "attachments": {},
   "cell_type": "markdown",
   "metadata": {},
   "source": [
    "$$J(k, t_k) = \\frac{m_{\\text{left}}}{m} MSE_{\\text{left}} + \\frac{m_{\\text{right}}}{m} MSE_{\\text{right}}$$"
   ]
  },
  {
   "attachments": {},
   "cell_type": "markdown",
   "metadata": {},
   "source": [
    "$$\n",
    "\\begin{cases}\n",
    "    MSE_{\\text{node}} = \\sum_{i \\in \\text{node}} (\\hat{y}_{\\text{node}} - y^{(i)})^2 \\text{ measures the impurity of the left/right subset} \\\\\n",
    "    \\hat{y}_{\\text{node}} = \\frac{1}{m_{\\text{node}}} \\sum_{i \\in \\text{node}} y^{(i)} \\\\\n",
    "    m_{\\text{left/right}} \\text{ is the number of instances in the left/right subset}\n",
    "\\end{cases}\n",
    "$$"
   ]
  }
 ],
 "metadata": {
  "colab": {
   "provenance": []
  },
  "kernelspec": {
   "display_name": "Python 3",
   "language": "python",
   "name": "python3"
  },
  "language_info": {
   "codemirror_mode": {
    "name": "ipython",
    "version": 3
   },
   "file_extension": ".py",
   "mimetype": "text/x-python",
   "name": "python",
   "nbconvert_exporter": "python",
   "pygments_lexer": "ipython3",
   "version": "3.11.3"
  },
  "toc": {
   "base_numbering": 1,
   "nav_menu": {},
   "number_sections": true,
   "sideBar": true,
   "skip_h1_title": false,
   "title_cell": "Table of Contents",
   "title_sidebar": "Contents",
   "toc_cell": false,
   "toc_position": {},
   "toc_section_display": true,
   "toc_window_display": false
  }
 },
 "nbformat": 4,
 "nbformat_minor": 1
}
